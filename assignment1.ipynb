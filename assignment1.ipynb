{
 "cells": [
  {
   "cell_type": "code",
   "execution_count": 2,
   "id": "7d804a12",
   "metadata": {},
   "outputs": [
    {
     "data": {
      "text/plain": [
       "[Document(metadata={'producer': 'Adobe PDF Library 25.1.211', 'creator': 'Acrobat PDFMaker 25 for Word', 'creationdate': '2025-04-08T22:25:52-04:00', 'author': 'CMS', 'base target': '_self', 'comments': '', 'company': 'CMS', 'contenttypeid': '0x0101006E134D1240AD6D4EA01100BFA58605E2', 'mediaserviceimagetags': '', 'moddate': '2025-04-09T08:23:19-04:00', 'nccl_app': 'PDF', 'nccl_standard': 'WCAG 2.0 AA;WCAG 2.1 AA;', 'nccl_status': 'Passed', 'sourcemodified': '', 'subject': 'Qualified Health Plan Issuer Application Instructions PY2026', 'title': 'Extracted Appendix E: Network Adequacy', 'source': 'PY2026 QHP Issuer Instructions_AppE_NA_v1.pdf', 'total_pages': 4, 'page': 0, 'page_label': '1'}, page_content='Qualified Health Plan  \\nIssuer Application Instructions  \\nPlan Year 2026 \\n \\n \\nExtracted: \\nAppendix E: Network Adequacy Standards'),\n",
       " Document(metadata={'producer': 'Adobe PDF Library 25.1.211', 'creator': 'Acrobat PDFMaker 25 for Word', 'creationdate': '2025-04-08T22:25:52-04:00', 'author': 'CMS', 'base target': '_self', 'comments': '', 'company': 'CMS', 'contenttypeid': '0x0101006E134D1240AD6D4EA01100BFA58605E2', 'mediaserviceimagetags': '', 'moddate': '2025-04-09T08:23:19-04:00', 'nccl_app': 'PDF', 'nccl_standard': 'WCAG 2.0 AA;WCAG 2.1 AA;', 'nccl_status': 'Passed', 'sourcemodified': '', 'subject': 'Qualified Health Plan Issuer Application Instructions PY2026', 'title': 'Extracted Appendix E: Network Adequacy', 'source': 'PY2026 QHP Issuer Instructions_AppE_NA_v1.pdf', 'total_pages': 4, 'page': 1, 'page_label': '2'}, page_content='E-1 2026 QHP Application Instructions \\nAppendix E: Network Adequacy Standards \\nTo count toward meeting the time and distance standards, individual and facility providers listed on the below tables must be appropriately licensed, \\naccredited, or certified to practice in their state, as applicable, and must have in-person services available. \\nTable E-1. Time and Distance Standards for Individual Provider Specialty Types for Medical QHPs  \\nfor Exchange PY2026 QHP Certification \\nIndividual Provider Specialty Types \\nMaximum Time and Distance Standardsa \\nLarge Metro \\nCounty Metro County Micro County Rural County \\nCounties with Extreme \\nAccess Considerations \\n(CEAC) \\nTime Distance Time Distance Time Distance Time Distance Time Distance \\nAllergy and Immunology 30 15 45 30 80 60 90 75 125 110 \\nCardiology 20 10 30 20 50 35 75 60 95 85 \\nCardiothoracic Surgery 30 15 60 40 100 75 110 90 145 130 \\nChiropractor 30 15 45 30 80 60 90 75 125 110 \\nDental 30 15 45 30 80 60 90 75 125 110 \\nDermatology 20 10 45 30 60 45 75 60 110 100 \\nEmergency Medicine 20 10 45 30 80 60 75 60 110 100 \\nEndocrinology 30 15 60 40 100 75 110 90 145 130 \\nENT/Otolaryngology 30 15 45 30 80 60 90 75 125 110 \\nGastroenterology 20 10 45 30 60 45 75 60 110 100 \\nGeneral Surgery 20 10 30 20 50 35 75 60 95 85 \\nGynecology, OB/GYN 10 5 15 10 30 20 40 30 70 60 \\nInfectious Diseases 30 15 60 40 100 75 110 90 145 130 \\nNephrology 30 15 45 30 80 60 90 75 125 110 \\nNeurology 20 10 45 30 60 45 75 60 110 100 \\nNeurosurgery 30 15 60 40 100 75 110 90 145 130 \\nOccupational Therapy 20 10 45 30 80 60 75 60 110 100 \\nOncology–Medical, Surgical 20 10 45 30 60 45 75 60 110 100 \\nOncology–Radiation  30 15 60 40 100 75 110 90 145 130 \\nOphthalmology 20 10 30 20 50 35 75 60 95 85 \\nOrthopedic Surgery 20 10 30 20 50 35 75 60 95 85'),\n",
       " Document(metadata={'producer': 'Adobe PDF Library 25.1.211', 'creator': 'Acrobat PDFMaker 25 for Word', 'creationdate': '2025-04-08T22:25:52-04:00', 'author': 'CMS', 'base target': '_self', 'comments': '', 'company': 'CMS', 'contenttypeid': '0x0101006E134D1240AD6D4EA01100BFA58605E2', 'mediaserviceimagetags': '', 'moddate': '2025-04-09T08:23:19-04:00', 'nccl_app': 'PDF', 'nccl_standard': 'WCAG 2.0 AA;WCAG 2.1 AA;', 'nccl_status': 'Passed', 'sourcemodified': '', 'subject': 'Qualified Health Plan Issuer Application Instructions PY2026', 'title': 'Extracted Appendix E: Network Adequacy', 'source': 'PY2026 QHP Issuer Instructions_AppE_NA_v1.pdf', 'total_pages': 4, 'page': 2, 'page_label': '3'}, page_content='E-2 2026 QHP Application Instructions \\nIndividual Provider Specialty Types \\nMaximum Time and Distance Standardsa \\nLarge Metro \\nCounty Metro County Micro County Rural County \\nCounties with Extreme \\nAccess Considerations \\n(CEAC) \\nTime Distance Time Distance Time Distance Time Distance Time Distance \\nOutpatient Clinical Behavioral Health \\n(licensed, accredited, or certified \\nprofessionals) \\n10 5 15 10 30 20 40 30 70 60 \\nPhysical Medicine and Rehabilitation 30 15 45 30 80 60 90 75 125 110 \\nPhysical Therapy 20 10 45 30 80 60 75 60 110 100 \\nPlastic Surgery 30 15 60 40 100 75 110 90 145 130 \\nPodiatry 20 10 45 30 60 45 75 60 110 100 \\nPrimary Care–Adult 10 5 15 10 30 20 40 30 70 60 \\nPrimary Care–Pediatric 10 5 15 10 30 20 40 30 70 60 \\nPsychiatry  20 10 45 30 60 45 75 60 110 100 \\nPulmonology 20 10 45 30 60 45 75 60 110 100 \\nRheumatology 30 15 60 40 100 75 110 90 145 130 \\nSpeech Therapy 20 10 45 30 80 60 75 60 110 100 \\nUrology 20 10 45 30 60 45 75 60 110 100 \\nVascular Surgery 30 15 60 40 100 75 110 90 145 130 \\na Time standard is measured in minutes. Distance standard is measured in miles.  \\n \\nTable E-2. Time and Distance Standards for Facility Specialty Types for Medical QHPs for Exchange PY2026 QHP Certification \\nFacility Specialty Type \\nMaximum Time and Distance Standardsa \\nLarge Metro County Metro County Micro County Rural County \\nCounties with Extreme \\nAccess Considerations \\n(CEAC) \\nTime Distance Time Distance Time Distance Time Distance Time Distance \\nAcute Inpatient Hospitals (must \\nhave Emergency \\nservices available \\n24/7) \\n20 10 45 30 80 60 75 60 110 100 \\nCardiac Catheterization Services 30 15 60 40 160 120 145 120 155 140 \\nCardiac Surgery Program 30 15 60 40 160 120 145 120 155 140 \\nCritical Care Services–Intensive \\nCare Units (ICUs) 20 10 45 30 160 120 145 120 155 140'),\n",
       " Document(metadata={'producer': 'Adobe PDF Library 25.1.211', 'creator': 'Acrobat PDFMaker 25 for Word', 'creationdate': '2025-04-08T22:25:52-04:00', 'author': 'CMS', 'base target': '_self', 'comments': '', 'company': 'CMS', 'contenttypeid': '0x0101006E134D1240AD6D4EA01100BFA58605E2', 'mediaserviceimagetags': '', 'moddate': '2025-04-09T08:23:19-04:00', 'nccl_app': 'PDF', 'nccl_standard': 'WCAG 2.0 AA;WCAG 2.1 AA;', 'nccl_status': 'Passed', 'sourcemodified': '', 'subject': 'Qualified Health Plan Issuer Application Instructions PY2026', 'title': 'Extracted Appendix E: Network Adequacy', 'source': 'PY2026 QHP Issuer Instructions_AppE_NA_v1.pdf', 'total_pages': 4, 'page': 3, 'page_label': '4'}, page_content='E-3 2026 QHP Application Instructions \\nFacility Specialty Type \\nMaximum Time and Distance Standardsa \\nLarge Metro County Metro County Micro County Rural County \\nCounties with Extreme \\nAccess Considerations \\n(CEAC) \\nTime Distance Time Distance Time Distance Time Distance Time Distance \\nDiagnostic Radiology (free-\\nstanding; hospital outpatient; \\nambulatory health facilities with \\nDiagnostic Radiology) \\n20 10 45 30 80 60 75 60 110 100 \\nInpatient or Residential Behavioral \\nHealth Facility Services 30 15 70 45 100 75 90 75 155 140 \\nMammography 20 10 45 30 80 60 75 60 110 100 \\nOutpatient Infusion/Chemotherapy 20 10 45 30 80 60 75 60 110 100 \\nSkilled Nursing Facilities 20 10 45 30 80 60 75 60 95 85 \\nSurgical Services (outpatient or \\nASC) 20 10 45 30 80 60 75 60 110 100 \\nUrgent Care 20 10 45 30 80 60 75 60 110 100 \\na Time standard is measured in minutes. Distance standard is measured in miles. \\n \\nTable E-3. Time and Distance Standards for SADPs for Exchange PY2026 QHP Certification \\nIndividual Provider \\nSpecialty Type \\nMaximum Time and Distance Standardsa \\nLarge Metro County Metro County Micro County Rural County \\nCounties with Extreme \\nAccess Considerations \\n(CEAC) \\nTime Distance Time Distance Time Distance Time Distance Time Distance \\nDental 30 15 45 30 80 60 90 75 125 110 \\na Time standard is measured in minutes. Distance standard is measured in miles.')]"
      ]
     },
     "execution_count": 2,
     "metadata": {},
     "output_type": "execute_result"
    }
   ],
   "source": [
    "#1. load PDF using langchain document loader\n",
    "from langchain_community.document_loaders import PyPDFLoader\n",
    "\n",
    "pdfLoader=PyPDFLoader('PY2026 QHP Issuer Instructions_AppE_NA_v1.pdf')\n",
    "pdfDocs=pdfLoader.load()\n",
    "pdfDocs"
   ]
  },
  {
   "cell_type": "code",
   "execution_count": 3,
   "id": "da150eec",
   "metadata": {},
   "outputs": [
    {
     "data": {
      "text/plain": [
       "OpenAIEmbeddings(client=<openai.resources.embeddings.Embeddings object at 0x116090c20>, async_client=<openai.resources.embeddings.AsyncEmbeddings object at 0x116091550>, model='text-embedding-3-small', dimensions=None, deployment='text-embedding-ada-002', openai_api_version=None, openai_api_base=None, openai_api_type=None, openai_proxy=None, embedding_ctx_length=8191, openai_api_key=SecretStr('**********'), openai_organization=None, allowed_special=None, disallowed_special=None, chunk_size=1000, max_retries=2, request_timeout=None, headers=None, tiktoken_enabled=True, tiktoken_model_name=None, show_progress_bar=False, model_kwargs={}, skip_empty=False, default_headers=None, default_query=None, retry_min_seconds=4, retry_max_seconds=20, http_client=None, http_async_client=None, check_embedding_ctx_length=True)"
      ]
     },
     "execution_count": 3,
     "metadata": {},
     "output_type": "execute_result"
    }
   ],
   "source": [
    "#2. semantic chunking\n",
    "import os\n",
    "from dotenv import load_dotenv\n",
    "from langchain_openai import OpenAIEmbeddings\n",
    "\n",
    "load_dotenv()\n",
    "os.environ['OPENAI_API_KEY']=os.getenv(\"OPENAI_API_KEY\")\n",
    "\n",
    "openAIembeddings = OpenAIEmbeddings(model=\"text-embedding-3-small\")\n",
    "openAIembeddings"
   ]
  },
  {
   "cell_type": "code",
   "execution_count": 4,
   "id": "d473b410",
   "metadata": {},
   "outputs": [],
   "source": [
    "#convert list of documents to list of strings\n",
    "from typing import List\n",
    "\n",
    "def convert_docs_to_strings(docs: List[\"Document\"]) -> List[str]:\n",
    "    \"\"\"Converts a list of LangChain Documents to a list of strings.\n",
    "\n",
    "    Args:\n",
    "        docs: A list of LangChain Document objects.\n",
    "\n",
    "    Returns:\n",
    "        A list of strings containing the page_content of each Document.\n",
    "    \"\"\"\n",
    "    return [doc.page_content for doc in docs]"
   ]
  },
  {
   "cell_type": "code",
   "execution_count": 5,
   "id": "e3895564",
   "metadata": {},
   "outputs": [],
   "source": [
    "pdfStringlist=convert_docs_to_strings(pdfDocs)"
   ]
  },
  {
   "cell_type": "code",
   "execution_count": 6,
   "id": "aa1d1734",
   "metadata": {},
   "outputs": [
    {
     "name": "stdout",
     "output_type": "stream",
     "text": [
      "Table E-1. Time and Distance Standards for Individual Provider Specialty Types for Medical QHPs  \n",
      "for Exchange PY2026 QHP Certification \n",
      "Individual Provider Specialty Types \n",
      "Maximum Time and Distance Standardsa \n",
      "Large Metro \n",
      "County Metro County Micro County Rural County \n",
      "Counties with Extreme \n",
      "Access Considerations \n",
      "(CEAC) \n",
      "Time Distance Time Distance Time Distance Time Distance Time Distance \n",
      "Allergy and Immunology 30 15 45 30 80 60 90 75 125 110 \n",
      "Cardiology 20 10 30 20 50 35 75 60 95 85 \n",
      "Cardiothoracic Surgery 30 15 60 40 100 75 110 90 145 130 \n",
      "Chiropractor 30 15 45 30 80 60 90 75 125 110 \n",
      "Dental 30 15 45 30 80 60 90 75 125 110 \n",
      "Dermatology 20 10 45 30 60 45 75 60 110 100 \n",
      "Emergency Medicine 20 10 45 30 80 60 75 60 110 100 \n",
      "Endocrinology 30 15 60 40 100 75 110 90 145 130 \n",
      "ENT/Otolaryngology 30 15 45 30 80 60 90 75 125 110 \n",
      "Gastroenterology 20 10 45 30 60 45 75 60 110 100 \n",
      "General Surgery 20 10 30 20 50 35 75 60 95 85 \n",
      "Gynecology, OB/GYN 10 5 15 10 30 20 40 30 70 60 \n",
      "Infectious Diseases 30 15 60 40 100 75 110 90 145 130 \n",
      "Nephrology 30 15 45 30 80 60 90 75 125 110 \n",
      "Neurology 20 10 45 30 60 45 75 60 110 100 \n",
      "Neurosurgery 30 15 60 40 100 75 110 90 145 130 \n",
      "Occupational Therapy 20 10 45 30 80 60 75 60 110 100 \n",
      "Oncology–Medical, Surgical 20 10 45 30 60 45 75 60 110 100 \n",
      "Oncology–Radiation  30 15 60 40 100 75 110 90 145 130 \n",
      "Ophthalmology 20 10 30 20 50 35 75 60 95 85 \n",
      "Orthopedic Surgery 20 10 30 20 50 35 75 60 95 85\n"
     ]
    }
   ],
   "source": [
    "from langchain_experimental.text_splitter import SemanticChunker\n",
    "\n",
    "\n",
    "semanticTextSplitter = SemanticChunker(openAIembeddings)\n",
    "semanticPdfSplitDocs = semanticTextSplitter.create_documents(pdfStringlist)\n",
    "print(semanticPdfSplitDocs[2].page_content)"
   ]
  },
  {
   "cell_type": "code",
   "execution_count": null,
   "id": "9d16751c",
   "metadata": {},
   "outputs": [
    {
     "name": "stdout",
     "output_type": "stream",
     "text": [
      "\n",
      " Inserted 7 documents.\n"
     ]
    },
    {
     "data": {
      "text/plain": [
       "[Document(id='cd110a9053774f7a8bc905bedb853364', metadata={}, page_content='Table E-1. Time and Distance Standards for Individual Provider Specialty Types for Medical QHPs  \\nfor Exchange PY2026 QHP Certification \\nIndividual Provider Specialty Types \\nMaximum Time and Distance Standardsa \\nLarge Metro \\nCounty Metro County Micro County Rural County \\nCounties with Extreme \\nAccess Considerations \\n(CEAC) \\nTime Distance Time Distance Time Distance Time Distance Time Distance \\nAllergy and Immunology 30 15 45 30 80 60 90 75 125 110 \\nCardiology 20 10 30 20 50 35 75 60 95 85 \\nCardiothoracic Surgery 30 15 60 40 100 75 110 90 145 130 \\nChiropractor 30 15 45 30 80 60 90 75 125 110 \\nDental 30 15 45 30 80 60 90 75 125 110 \\nDermatology 20 10 45 30 60 45 75 60 110 100 \\nEmergency Medicine 20 10 45 30 80 60 75 60 110 100 \\nEndocrinology 30 15 60 40 100 75 110 90 145 130 \\nENT/Otolaryngology 30 15 45 30 80 60 90 75 125 110 \\nGastroenterology 20 10 45 30 60 45 75 60 110 100 \\nGeneral Surgery 20 10 30 20 50 35 75 60 95 85 \\nGynecology, OB/GYN 10 5 15 10 30 20 40 30 70 60 \\nInfectious Diseases 30 15 60 40 100 75 110 90 145 130 \\nNephrology 30 15 45 30 80 60 90 75 125 110 \\nNeurology 20 10 45 30 60 45 75 60 110 100 \\nNeurosurgery 30 15 60 40 100 75 110 90 145 130 \\nOccupational Therapy 20 10 45 30 80 60 75 60 110 100 \\nOncology–Medical, Surgical 20 10 45 30 60 45 75 60 110 100 \\nOncology–Radiation  30 15 60 40 100 75 110 90 145 130 \\nOphthalmology 20 10 30 20 50 35 75 60 95 85 \\nOrthopedic Surgery 20 10 30 20 50 35 75 60 95 85'),\n",
       " Document(id='da91cc82f4b240d68af8f9b4adbac95d', metadata={}, page_content='E-2 2026 QHP Application Instructions \\nIndividual Provider Specialty Types \\nMaximum Time and Distance Standardsa \\nLarge Metro \\nCounty Metro County Micro County Rural County \\nCounties with Extreme \\nAccess Considerations \\n(CEAC) \\nTime Distance Time Distance Time Distance Time Distance Time Distance \\nOutpatient Clinical Behavioral Health \\n(licensed, accredited, or certified \\nprofessionals) \\n10 5 15 10 30 20 40 30 70 60 \\nPhysical Medicine and Rehabilitation 30 15 45 30 80 60 90 75 125 110 \\nPhysical Therapy 20 10 45 30 80 60 75 60 110 100 \\nPlastic Surgery 30 15 60 40 100 75 110 90 145 130 \\nPodiatry 20 10 45 30 60 45 75 60 110 100 \\nPrimary Care–Adult 10 5 15 10 30 20 40 30 70 60 \\nPrimary Care–Pediatric 10 5 15 10 30 20 40 30 70 60 \\nPsychiatry  20 10 45 30 60 45 75 60 110 100 \\nPulmonology 20 10 45 30 60 45 75 60 110 100 \\nRheumatology 30 15 60 40 100 75 110 90 145 130 \\nSpeech Therapy 20 10 45 30 80 60 75 60 110 100 \\nUrology 20 10 45 30 60 45 75 60 110 100 \\nVascular Surgery 30 15 60 40 100 75 110 90 145 130 \\na Time standard is measured in minutes. Distance standard is measured in miles.'),\n",
       " Document(id='7c73892ed47d4b54ab52c9e2fa191c82', metadata={}, page_content='Table E-3. Time and Distance Standards for SADPs for Exchange PY2026 QHP Certification \\nIndividual Provider \\nSpecialty Type \\nMaximum Time and Distance Standardsa \\nLarge Metro County Metro County Micro County Rural County \\nCounties with Extreme \\nAccess Considerations \\n(CEAC) \\nTime Distance Time Distance Time Distance Time Distance Time Distance \\nDental 30 15 45 30 80 60 90 75 125 110 \\na Time standard is measured in minutes. Distance standard is measured in miles.'),\n",
       " Document(id='1dee3d38be1847589fa3b38192583125', metadata={}, page_content='Table E-2. Time and Distance Standards for Facility Specialty Types for Medical QHPs for Exchange PY2026 QHP Certification \\nFacility Specialty Type \\nMaximum Time and Distance Standardsa \\nLarge Metro County Metro County Micro County Rural County \\nCounties with Extreme \\nAccess Considerations \\n(CEAC) \\nTime Distance Time Distance Time Distance Time Distance Time Distance \\nAcute Inpatient Hospitals (must \\nhave Emergency \\nservices available \\n24/7) \\n20 10 45 30 80 60 75 60 110 100 \\nCardiac Catheterization Services 30 15 60 40 160 120 145 120 155 140 \\nCardiac Surgery Program 30 15 60 40 160 120 145 120 155 140 \\nCritical Care Services–Intensive \\nCare Units (ICUs) 20 10 45 30 160 120 145 120 155 140')]"
      ]
     },
     "execution_count": 8,
     "metadata": {},
     "output_type": "execute_result"
    }
   ],
   "source": [
    "# 3 use astra db vector db\n",
    "#astra db\n",
    "from langchain_astradb import AstraDBVectorStore\n",
    "import os\n",
    "from dotenv import load_dotenv\n",
    "\n",
    "load_dotenv()\n",
    "ASTRA_DB_API_ENDPOINT=os.getenv(\"ASTRA_DB_API_ENDPOINT\")\n",
    "ASTRA_DB_APPLICATION_TOKEN=os.getenv(\"ASTRA_DB_APPLICATION_TOKEN\")\n",
    "ASTRA_DB_KEYSPACE=os.getenv(\"ASTRA_DB_KEYSPACE\")\n",
    "\n",
    "\n",
    "def ingestdata(status):\n",
    "    astraDBvstore=AstraDBVectorStore(\n",
    "        embedding=openAIembeddings,\n",
    "        collection_name=\"assignment1_1\",\n",
    "        api_endpoint=ASTRA_DB_API_ENDPOINT,\n",
    "        token=ASTRA_DB_APPLICATION_TOKEN,\n",
    "        namespace=ASTRA_DB_KEYSPACE,\n",
    "    )\n",
    "\n",
    "    storage=status\n",
    "\n",
    "    if storage==None:\n",
    "        inserted_ids=astraDBvstore.add_documents(semanticPdfSplitDocs)\n",
    "    else:\n",
    "        return astraDBvstore\n",
    "    return astraDBvstore,inserted_ids\n",
    "\n",
    "astraDBvstore,inserted_ids=ingestdata(None) \n",
    "print(f\"\\n Inserted {len(inserted_ids)} documents.\")   \n",
    "results= astraDBvstore.similarity_search(\"what are individual provider specialty types?\")\n",
    "results"
   ]
  },
  {
   "cell_type": "code",
   "execution_count": 13,
   "id": "98fa7631",
   "metadata": {},
   "outputs": [],
   "source": [
    "#try all index types using pinecone db\n",
    "#flat index\n",
    "from pinecone import Pinecone\n",
    "import os\n",
    "from dotenv import load_dotenv\n",
    "from pinecone import ServerlessSpec\n",
    "from langchain_pinecone import PineconeVectorStore\n",
    "\n",
    "load_dotenv()\n",
    "\n",
    "pinecone_api_key=os.getenv(\"PINECONE_API_KEY\")\n",
    "pineConeDB=Pinecone(api_key=pinecone_api_key)\n",
    "\n",
    "\n",
    "\n",
    "index_name=\"assignment12\"\n",
    "\n",
    "if not pineConeDB.has_index(index_name):\n",
    "    pineConeDB.create_index(\n",
    "        name=index_name,\n",
    "        dimension=1536, # open ai  model dimension\n",
    "        metric=\"cosine\",\n",
    "        spec=ServerlessSpec(cloud=\"aws\", region=\"us-east-1\"),\n",
    "    )\n",
    "\n",
    "pineConeIndex=pineConeDB.Index(index_name)\n",
    "\n",
    "\n",
    "vector_store= PineconeVectorStore(index=pineConeIndex,embedding=openAIembeddings)"
   ]
  },
  {
   "cell_type": "code",
   "execution_count": 14,
   "id": "d426fb3d",
   "metadata": {},
   "outputs": [],
   "source": [
    "#create unique ids\n",
    "from uuid import uuid4\n",
    "uuids=[str(uuid4()) for _ in range(len(semanticPdfSplitDocs))]"
   ]
  },
  {
   "cell_type": "code",
   "execution_count": 15,
   "id": "f6c2cfdc",
   "metadata": {},
   "outputs": [
    {
     "data": {
      "text/plain": [
       "['b657c3ed-d157-4b4a-9ad5-048272985ac9',\n",
       " '4b4d5b1e-64e8-4607-b929-a8b5bf47b8c1',\n",
       " '59027d75-cd83-43c9-acac-ece7737f7fa2',\n",
       " '483dd208-e857-42aa-a0ee-57e80338a145',\n",
       " '815c2708-fbc2-4cda-b545-3bd080480538',\n",
       " '375e67d2-c8b7-40c8-abe9-07f2a5107a75',\n",
       " '0fc44e38-26ac-4e71-8db6-f2c06ae7475f']"
      ]
     },
     "execution_count": 15,
     "metadata": {},
     "output_type": "execute_result"
    }
   ],
   "source": [
    "#add pdf to vector store - using chunked split docs\n",
    "vector_store.add_documents(documents=semanticPdfSplitDocs, ids=uuids) #4 docs split into 12 added in vector db"
   ]
  },
  {
   "cell_type": "code",
   "execution_count": 16,
   "id": "73889be1",
   "metadata": {},
   "outputs": [
    {
     "data": {
      "text/plain": [
       "[Document(id='59027d75-cd83-43c9-acac-ece7737f7fa2', metadata={}, page_content='Table E-1. Time and Distance Standards for Individual Provider Specialty Types for Medical QHPs  \\nfor Exchange PY2026 QHP Certification \\nIndividual Provider Specialty Types \\nMaximum Time and Distance Standardsa \\nLarge Metro \\nCounty Metro County Micro County Rural County \\nCounties with Extreme \\nAccess Considerations \\n(CEAC) \\nTime Distance Time Distance Time Distance Time Distance Time Distance \\nAllergy and Immunology 30 15 45 30 80 60 90 75 125 110 \\nCardiology 20 10 30 20 50 35 75 60 95 85 \\nCardiothoracic Surgery 30 15 60 40 100 75 110 90 145 130 \\nChiropractor 30 15 45 30 80 60 90 75 125 110 \\nDental 30 15 45 30 80 60 90 75 125 110 \\nDermatology 20 10 45 30 60 45 75 60 110 100 \\nEmergency Medicine 20 10 45 30 80 60 75 60 110 100 \\nEndocrinology 30 15 60 40 100 75 110 90 145 130 \\nENT/Otolaryngology 30 15 45 30 80 60 90 75 125 110 \\nGastroenterology 20 10 45 30 60 45 75 60 110 100 \\nGeneral Surgery 20 10 30 20 50 35 75 60 95 85 \\nGynecology, OB/GYN 10 5 15 10 30 20 40 30 70 60 \\nInfectious Diseases 30 15 60 40 100 75 110 90 145 130 \\nNephrology 30 15 45 30 80 60 90 75 125 110 \\nNeurology 20 10 45 30 60 45 75 60 110 100 \\nNeurosurgery 30 15 60 40 100 75 110 90 145 130 \\nOccupational Therapy 20 10 45 30 80 60 75 60 110 100 \\nOncology–Medical, Surgical 20 10 45 30 60 45 75 60 110 100 \\nOncology–Radiation  30 15 60 40 100 75 110 90 145 130 \\nOphthalmology 20 10 30 20 50 35 75 60 95 85 \\nOrthopedic Surgery 20 10 30 20 50 35 75 60 95 85')]"
      ]
     },
     "execution_count": 16,
     "metadata": {},
     "output_type": "execute_result"
    }
   ],
   "source": [
    "results=vector_store.similarity_search(\"wwhat are individual provider specialty types?\", k=1) # will use cosine similarity\n",
    "results"
   ]
  },
  {
   "cell_type": "code",
   "execution_count": null,
   "id": "83cd998a",
   "metadata": {},
   "outputs": [],
   "source": [
    "#make a retriever so u can use in RAG\n",
    "retriever=vector_store.as_retriever(\n",
    "    search_type=\"similarity_score_threshold\",\n",
    "    search_kwargs={\"k\": 3, \"score_threshold\":0.8} #i need the exact page that has table, if table is split into 2 pages, give both pages\n",
    ")"
   ]
  },
  {
   "cell_type": "code",
   "execution_count": 20,
   "id": "3ecc1716",
   "metadata": {},
   "outputs": [
    {
     "name": "stderr",
     "output_type": "stream",
     "text": [
      "No relevant docs were retrieved using the relevance score threshold 0.8\n"
     ]
    },
    {
     "data": {
      "text/plain": [
       "[]"
      ]
     },
     "execution_count": 20,
     "metadata": {},
     "output_type": "execute_result"
    }
   ],
   "source": [
    "retriever.invoke(\"what is time and distance rule for cardiology large metro?\")"
   ]
  },
  {
   "cell_type": "code",
   "execution_count": 21,
   "id": "6389d120",
   "metadata": {},
   "outputs": [],
   "source": [
    "# make model for RAG\n",
    "\n",
    "from langchain_google_genai import ChatGoogleGenerativeAI\n",
    "model=ChatGoogleGenerativeAI(model='gemini-1.5-flash')"
   ]
  },
  {
   "cell_type": "code",
   "execution_count": 22,
   "id": "bbba0973",
   "metadata": {},
   "outputs": [],
   "source": [
    "# create prompt\n",
    "\n",
    "from langchain_core.prompts import PromptTemplate\n",
    "\n",
    "prompt=PromptTemplate(\n",
    "    template=\"\"\"You are a CMS Network Adequacy Auditor. You know all CMS Rules for Network Adequacy.\n",
    "    Go through retrieved context to answer questions from latest CMS QHP filling Instructions.\n",
    "    If you don't know the answer, just say that you don't know. Use three sentences maximum and keep the answer concise.\"\"\",\n",
    "    input_variables=['context','question']\n",
    ")"
   ]
  },
  {
   "cell_type": "code",
   "execution_count": 23,
   "id": "0a26e622",
   "metadata": {},
   "outputs": [],
   "source": [
    "def format_docs(docs):\n",
    "    return \"\\n\\n\".join(doc.page_content for doc in docs)"
   ]
  },
  {
   "cell_type": "code",
   "execution_count": 24,
   "id": "b4a0fdf4",
   "metadata": {},
   "outputs": [],
   "source": [
    "#output parser\n",
    "from langchain_core.output_parsers import StrOutputParser\n",
    "from langchain_core.runnables import RunnablePassthrough"
   ]
  },
  {
   "cell_type": "code",
   "execution_count": 25,
   "id": "9ccb63c2",
   "metadata": {},
   "outputs": [],
   "source": [
    "rag_chain = (\n",
    "    {\"context\": retriever | format_docs, \"question\": RunnablePassthrough()}\n",
    "    | prompt\n",
    "    | model\n",
    "    | StrOutputParser()\n",
    ")"
   ]
  },
  {
   "cell_type": "code",
   "execution_count": 26,
   "id": "22c51b5f",
   "metadata": {},
   "outputs": [
    {
     "name": "stderr",
     "output_type": "stream",
     "text": [
      "No relevant docs were retrieved using the relevance score threshold 0.8\n"
     ]
    },
    {
     "data": {
      "text/plain": [
       "\"Okay, I'm ready. Please provide the retrieved context and the questions from the latest CMS QHP filing instructions.  I will do my best to answer them concisely based on my knowledge of CMS network adequacy rules.  I will only respond if I have sufficient information; otherwise, I will state that I don't know.\""
      ]
     },
     "execution_count": 26,
     "metadata": {},
     "output_type": "execute_result"
    }
   ],
   "source": [
    "rag_chain.invoke(\"what are individual provider specialty types?\")"
   ]
  },
  {
   "cell_type": "code",
   "execution_count": 37,
   "id": "17e04772",
   "metadata": {},
   "outputs": [
    {
     "name": "stderr",
     "output_type": "stream",
     "text": [
      "No relevant docs were retrieved using the relevance score threshold 0.8\n"
     ]
    }
   ],
   "source": [
    "llm_output=rag_chain.invoke(\"what is time and distance rule for cardiology large metro?\")"
   ]
  },
  {
   "cell_type": "code",
   "execution_count": 38,
   "id": "5d123102",
   "metadata": {},
   "outputs": [],
   "source": [
    "\n",
    "\n",
    "# Write to a new file\n",
    "with open(\"output.txt\", \"w\") as file:\n",
    "    file.write(llm_output)\n"
   ]
  },
  {
   "cell_type": "code",
   "execution_count": null,
   "id": "32559024",
   "metadata": {},
   "outputs": [],
   "source": []
  }
 ],
 "metadata": {
  "kernelspec": {
   "display_name": "Python 3",
   "language": "python",
   "name": "python3"
  },
  "language_info": {
   "codemirror_mode": {
    "name": "ipython",
    "version": 3
   },
   "file_extension": ".py",
   "mimetype": "text/x-python",
   "name": "python",
   "nbconvert_exporter": "python",
   "pygments_lexer": "ipython3",
   "version": "3.13.0"
  }
 },
 "nbformat": 4,
 "nbformat_minor": 5
}
