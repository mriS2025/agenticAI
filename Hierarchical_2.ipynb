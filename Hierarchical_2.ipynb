{
 "cells": [
  {
   "cell_type": "code",
   "execution_count": 1,
   "id": "15ee1cfe",
   "metadata": {},
   "outputs": [],
   "source": [
    "#medical research tool\n",
    "from langchain_community.retrievers import PubMedRetriever\n",
    "from langchain_core.tools import tool\n",
    "\n",
    "@tool\n",
    "def medicalResearchTool(query: str):\n",
    "    \"\"\" this tool uses PubMed retriever from Langchain community that has data for biomedical literature from MEDLINE, \n",
    "    life science journals, and online books. Citations may include links to full text content from PubMed Central and publisher web sites.\n",
    "    Search PubMedRetriever from langchain community for user query and return the results \"\"\"\n",
    "    medicalReserachTool = PubMedRetriever()\n",
    "    result=medicalReserachTool.invoke(query)\n",
    "    return f\"Result for {query} is: \\n{result}\""
   ]
  },
  {
   "cell_type": "code",
   "execution_count": 2,
   "id": "2704aff9",
   "metadata": {},
   "outputs": [
    {
     "name": "stdout",
     "output_type": "stream",
     "text": [
      "Too Many Requests, waiting for 0.20 seconds...\n",
      "Result for what is cardiothoracic? is: \n",
      "[Document(metadata={'uid': '40613688', 'Title': 'Investigating the long-term durability of prosthetic valves in patients who have undergone tetralogy of Fallot surgery with transannular patch.', 'Published': '2025-07-04', 'Copyright Information': '© The Author(s) 2025. Published by Oxford University Press on behalf of the European Association for Cardio-Thoracic Surgery.'}, page_content='OBJECTIVES: This study aimed to determine the longevity of bioprosthetic valves or valved conduits in the pulmonary position and the factors associated with prosthetic valve longevity in patients who underwent surgical repair of Tetralogy of Fallot.\\nMETHODS: We performed a single-center retrospective study in patients undergoing placement of a bioprosthesis or valved conduit in patients operated for Tetralogy of Fallot with a transannular patch. The primary end-point was freedom from pulmonary valve replacement reintervention. The composite secondary end-point was freedom from pulmonary valve replacement reintervention and structural valve degeneration.\\nRESULTS: A total of 211 patients undergoing 255 operations were identified. The median age at first pulmonary valve replacement was 15.4\\u2009years (IQR 12.3-20.7 yrs.). The freedom from reintervention at 5, 10, and 15\\u2009years was 94%, 77%, and 64% respectively. Multivariable analysis shows that factors that are independently associated with a more significant hazard of reintervention are younger age, smaller valve size, and male sex. Of the implanted prosthetic valves, 122 were bioprosthesis; 38 (18%) were homografts; 37 (17%) percutaneous valve, and 14 (7%) were other prosthetic valves or conduits. The freedom from reintervention was not different between homografts and all other heterografts (p\\u2009=\\u20090.938). Percutaneous valves showed an average longevity of 9.4\\u2009years, significantly lower than other prosthetic valves (p\\u2009=\\u20090.007).\\nCONCLUSIONS: Younger patient age and a smaller valve size were associated with reduced bioprosthetic valves durability. There is a concern about an early pulmonary valve replacement to preserve right ventricle function overall during adolescent age.'), Document(metadata={'uid': '40613260', 'Title': 'Perioperative use and accuracy of continuous glucose monitoring: A systematic review.', 'Published': '2025-07-04', 'Copyright Information': '© 2025 The Author(s). Diabetes, Obesity and Metabolism published by John Wiley & Sons Ltd.'}, page_content='Perioperative impairment of glycaemic control significantly increases the risk of major postoperative complications. The use of continuous glucose monitoring (CGM) has demonstrated benefits in glycaemic control, but its use in the perioperative period remains unclear. The aim is to present the state of the art in the use and accuracy of CGM in the perioperative setting. A systematic literature search of PubMed MEDLINE, EMBASE, COCHRANE LIBRARY and CLINICAL TRIAL from 2014 to 2025 was conducted on the perioperative use of CGM. Hybrid closed-loop systems, total pancreatectomy with pancreatic islet transplantation or insulinoma resection were excluded to mitigate the risk of bias. Patients and sensors characteristics, time in range, postoperative outcomes and metrics accuracy were extracted. Forty studies were included, comprising 2397 patients, among studies including patients living with diabetes, 42.2% in median, primarily undergoing cardiothoracic (40%) and digestive (27.5%) surgeries, with sensors also used in the operating room (45%) and postoperatively in the intensive care unit (ICU) (57.9%). In overall studies, ICU, and intraoperative setting, the median Mean Absolute Relative Difference (MARD) was 14.2% (IQR 12.2-18.4), 12.9% (IQR 11.6-19.9), 14.2% (IQR 13.1-23.8), and the median Clarke Error Grid analysis, zones A\\u2009+\\u2009B, was 98.9% (IQR 97.9-99.2), 98.9% (IQR 98.1-99.3), 99.1% (IQR 97.3-100). CGM was non-inferior to point-of-care glucose monitoring, with a trend towards improved hyperglycaemic control with fewer recurrent hypoglycaemic events in the majority of the studies. Half the studies reported technical challenges/interferences affecting CGM during surgery (due to: hypothermia, extracorporeal circulation, hyperhydration and subcutaneous tissue oedema, warming systems and electrical interference with monopolar or bipolar coagulation techniques), although accuracy typically recovered postoperatively. CGM seems to be a valuable tool in perioperative context, providing real-time data, trends and alerts that enable better detection and management of hypoglycaemia and hyperglycaemia compared with conventional capillary. Its clinical interest remains to be proven by high quality randomized controlled trial especially regarding technical issues.'), Document(metadata={'uid': '40612948', 'Title': 'Exosomal proteins: new targets for early diagnosis and treatment of cancer.', 'Published': '2025-06-19', 'Copyright Information': 'Copyright © 2025 Shen, Liu, Yang, Xiao, Peng, Rao and Huang.'}, page_content='Exosomes are nanoscale, double-membraned vesicles released by a variety of living cells. A wide variety of cargoes, including proteins, DNA and RNA, are transported by exosomes to target cells, thereby transmitting biological signals. In addition to being an essential component of the exosomal cargo, exosomal proteins are a reflection of the physiological state of the originating cell, and play an essential part in intercellular communication in numerous diseases, including cancer. The present review provides a summary of the novel uses of exosomal proteins in cancer diagnosis and prognosis, and highlights the distinct qualities that exosomal proteins possess, when compared with typical serological measurements.')]\n"
     ]
    }
   ],
   "source": [
    "print(medicalResearchTool.invoke(\"what is cardiothoracic?\"))"
   ]
  },
  {
   "cell_type": "code",
   "execution_count": 3,
   "id": "8944f537",
   "metadata": {},
   "outputs": [
    {
     "name": "stdout",
     "output_type": "stream",
     "text": [
      "Too Many Requests, waiting for 0.20 seconds...\n",
      "Too Many Requests, waiting for 0.40 seconds...\n",
      "Result for what is frozen shoulder? is: \n",
      "[Document(metadata={'uid': '40611801', 'Title': 'Effects of acromioclavicular and coracoclavicular ligament stability on acromioclavicular joint dislocation: insights from a cadaveric study.', 'Published': '2025-07-02', 'Copyright Information': ''}, page_content='BACKGROUND: Acromioclavicular (AC) joint (ACJ) dislocation can lead to superior clavicular instability when the AC and coracoclavicular (CC) ligaments are torn. No previous study has assessed the effects of combined AC-CC ligament resections in fresh-frozen cadavers with preserved soft tissues around the thorax and shoulder girdle. This study aimed to develop such an ACJ dislocation model and evaluate stability following ligament resections.\\nMETHODS: Nine fresh-frozen cadaver shoulders (mean age, 86.6 years) without clavicular fractures or ACJ osteoarthritis were used. Each specimen included the thoracic spine, scapula, clavicle, and shoulder. Biomechanical testing was performed with a customized system to assess displacement and evaluate superior and posterior stability. Three conditions were compared: intact ligaments, AC ligament resection, and AC-CC ligament resection.\\nRESULTS: Superior translations were 0.0 mm (intact), 1.1 mm (AC resection), and 9.6 mm (AC-CC resection). Posterior translations were 0.0 mm, 3.2 mm, and 9.0 mm, respectively. The AC-CC resection group showed significantly increased translations compared to the intact and AC resection groups. No significant difference was observed between the intact and AC resection groups in superior translation. Posterior translation increased progressively from intact to AC and then AC-CC resection.\\nCONCLUSIONS: This is the first study to assess both superior and posterior ACJ stability using cadavers with preserved soft tissues. Our findings demonstrate the importance of the AC and CC ligaments in maintaining ACJ stability. Notably, the AC ligament contributes to posterior stability, indicating the need for reconstruction to achieve overall joint stability. Level of evidence: Controlled laboratory study.'), Document(metadata={'uid': '40602400', 'Title': 'Clinical Practice Guidelines for Diagnosis and Non-Surgical Treatment of Primary Frozen Shoulder.', 'Published': '2025-06-30', 'Copyright Information': ''}, page_content='OBJECTIVE: Primary frozen shoulder causes significant pain and progressively restricts shoulder movements. Diagnosis is primarily clinically based on patient history and physical examination. Management is mainly non-invasive owing to its self-limiting clinical course. However, clinical practice guidelines for frozen shoulder have not yet been developed in Korea. The developed guidelines aim to provide evidence-based recommendations for the diagnosis and treatment of frozen shoulder.\\nMETHODS: A guideline development committee reviewed the literature from four databases (PubMed, Embase, Cochrane Library, and KMbase). Using the PICO (Population, Intervention, Comparator, and Outcome) framework, the committee formulated two backgrounds and 16 key questions to address common clinical concerns. Recommendations were made using the Grading of Recommendations, Assessment, Development, and Evaluation framework.\\nRESULTS: Diabetes, thyroid disease, and dyslipidemia significantly increase the risk of developing a frozen shoulder. Although frozen shoulder is often self-limiting, some patients may experience long-term disabilities. Ultrasound and magnetic resonance imaging should be used as adjunctive tools alongside clinical diagnosis, and not as independent diagnostic methods. Noninvasive approaches, such as medications, physical modalities, exercises, electrical stimulation, and manual therapy, may reduce pain and improve shoulder function. Other noninvasive interventions have limited evidence, and their application should be based on clinical judgment. Intra-articular steroid injections are recommended for treatment, and physiotherapy or hydrodilatation with steroid injections can also be beneficial.\\nCONCLUSION: These guidelines provide evidence-based recommendations for diagnosing and treating primary frozen shoulder.'), Document(metadata={'uid': '40600902', 'Title': 'Combined Coracohumeral and Coracoacromial Ligament Release for Refractory Frozen Shoulder: A Comparative Cohort Study.', 'Published': '2025-07-02', 'Copyright Information': ''}, page_content='No abstract available')]\n"
     ]
    }
   ],
   "source": [
    "print(medicalResearchTool.invoke(\"what is frozen shoulder?\"))"
   ]
  },
  {
   "cell_type": "code",
   "execution_count": 4,
   "id": "771d0f31",
   "metadata": {},
   "outputs": [
    {
     "data": {
      "text/plain": [
       "' from langchain_groq import ChatGroq\\nfrom dotenv import load_dotenv\\nload_dotenv()\\n\\nllm=ChatGroq(model=\"deepseek-r1-distill-llama-70b\") '"
      ]
     },
     "execution_count": 4,
     "metadata": {},
     "output_type": "execute_result"
    }
   ],
   "source": [
    "\"\"\" from langchain_groq import ChatGroq\n",
    "from dotenv import load_dotenv\n",
    "load_dotenv()\n",
    "\n",
    "llm=ChatGroq(model=\"deepseek-r1-distill-llama-70b\") \"\"\""
   ]
  },
  {
   "cell_type": "code",
   "execution_count": 5,
   "id": "7721b1fb",
   "metadata": {},
   "outputs": [],
   "source": [
    "#using open AI\n",
    "from dotenv import load_dotenv\n",
    "load_dotenv()\n",
    "from langchain_openai import ChatOpenAI\n",
    "llm = ChatOpenAI(model=\"gpt-4o\")"
   ]
  },
  {
   "cell_type": "code",
   "execution_count": 6,
   "id": "d522a394",
   "metadata": {},
   "outputs": [
    {
     "name": "stdout",
     "output_type": "stream",
     "text": [
      "The capital of France is Paris.\n"
     ]
    }
   ],
   "source": [
    "print(llm.invoke(\"What is the capital of France?\").content)"
   ]
  },
  {
   "cell_type": "code",
   "execution_count": 7,
   "id": "7109dd21",
   "metadata": {},
   "outputs": [],
   "source": [
    "from langgraph.prebuilt import create_react_agent\n",
    "from langchain_core.messages import AIMessage, HumanMessage\n",
    "from langgraph.types import Command\n",
    "from langgraph.graph import MessagesState,StateGraph,START, END\n",
    "from typing import Literal\n",
    "from typing_extensions import TypedDict"
   ]
  },
  {
   "cell_type": "code",
   "execution_count": 8,
   "id": "66a7afd2",
   "metadata": {},
   "outputs": [],
   "source": [
    "class State(MessagesState):\n",
    "    next:str"
   ]
  },
  {
   "cell_type": "code",
   "execution_count": 10,
   "id": "63bf4925",
   "metadata": {},
   "outputs": [],
   "source": [
    "class ResearchRouter(TypedDict):\n",
    "    \"\"\"Worker to route to next. If no workers needed, route to FINISH\"\"\"\n",
    "    next: Literal['medicalResearcher', 'financeResearcher', 'FINISH']"
   ]
  },
  {
   "cell_type": "code",
   "execution_count": 11,
   "id": "43d46935",
   "metadata": {},
   "outputs": [],
   "source": [
    "researchMembers=[\"medicalResearcher\",\"financeResearcher\"]"
   ]
  },
  {
   "cell_type": "code",
   "execution_count": 12,
   "id": "e1b35567",
   "metadata": {},
   "outputs": [],
   "source": [
    "research_system_prompt = f\"\"\"\"\n",
    "You are a supervisor of Research Team, tasked with managing a conversation between the following workers: {researchMembers}. \n",
    "Given the following user request, respond with the worker to act next. \n",
    "Each worker will perform a task and respond with their results and status. \n",
    "When finished, respond with FINISH.\n",
    "\"\"\""
   ]
  },
  {
   "cell_type": "code",
   "execution_count": 13,
   "id": "08fd070f",
   "metadata": {},
   "outputs": [],
   "source": [
    "def researchSupervisor_agent(state:State)->Command[Literal['medicalResearcher', 'financeResearcher', '__end__']]:\n",
    "    \n",
    "    messages = [{\"role\": \"system\", \"content\": research_system_prompt},] + state[\"messages\"]\n",
    "    \n",
    "    llm_with_structure_output=llm.with_structured_output(ResearchRouter)\n",
    "    \n",
    "    response=llm_with_structure_output.invoke(messages)\n",
    "    print(\"*****response****\")\n",
    "    print(response)\n",
    "    \n",
    "    goto=response[\"next\"]\n",
    "\n",
    "    \n",
    "    print(\"**********BELOW IS MY GOTO***************\")\n",
    "    \n",
    "    print(goto)\n",
    "    \n",
    "    if goto == \"FINISH\":\n",
    "        goto=END\n",
    "    \n",
    "    \n",
    "    return Command(goto=goto, update={\"next\":goto})"
   ]
  },
  {
   "cell_type": "code",
   "execution_count": 14,
   "id": "64129c53",
   "metadata": {},
   "outputs": [],
   "source": [
    "medical_system_prompt = \"\"\"\n",
    "You are a Medical researcher. Use the tool provided to you to answer the question on Medical research and respond back to supervisor.\n",
    "If tool doesnt respond say I dont know answer. Don't ask follow-up questions\n",
    "\n",
    "you have access to PubMed Database Retriever. It comprises of more than 35 million citations for biomedical literature from MEDLINE, \n",
    "life science journals, and online books. Citations may include links to full text content from PubMed Central and publisher web sites.\n",
    "Answer the question only using the tool only. If you need more information to provide a complete answer, ask for clarification. \n",
    "When appropriate, suggest additional analyses that might be helpful.\n",
    "\"\"\""
   ]
  },
  {
   "cell_type": "code",
   "execution_count": 15,
   "id": "188961fb",
   "metadata": {},
   "outputs": [],
   "source": [
    "def medicalResearch_agent(state: State) -> Command[Literal[\"ResearchSupervisor\"]]:\n",
    "    \n",
    "    medicalresearch_agent = create_react_agent(llm, tools=[medicalResearchTool], prompt=medical_system_prompt)\n",
    "    \n",
    "    result=medicalresearch_agent.invoke(state)\n",
    "    \n",
    "    return Command(\n",
    "        update={\n",
    "            \"messages\": [\n",
    "                HumanMessage(content=result[\"messages\"][-1].content, name=\"medicalResearcher\")\n",
    "            ]\n",
    "        },\n",
    "        goto=\"ResearchSupervisor\",\n",
    "    )\n",
    "    "
   ]
  },
  {
   "cell_type": "code",
   "execution_count": 16,
   "id": "be608fed",
   "metadata": {},
   "outputs": [
    {
     "data": {
      "text/plain": [
       "' from dotenv import load_dotenv\\nimport os \\nload_dotenv()\\n\\nfrom langchain_community.agent_toolkits.financial_datasets.toolkit import FinancialDatasetsToolkit\\nfrom langchain_community.utilities.financial_datasets import FinancialDatasetsAPIWrapper\\n\\napi_wrapper = FinancialDatasetsAPIWrapper(\\n    financial_datasets_api_key=os.environ[\"FINANCIAL_DATASETS_API_KEY\"]\\n)\\ntoolkit = FinancialDatasetsToolkit(api_wrapper=api_wrapper)\\nfinanceResearchTools = toolkit.get_tools() '"
      ]
     },
     "execution_count": 16,
     "metadata": {},
     "output_type": "execute_result"
    }
   ],
   "source": [
    "#using financil datasets - dint work\n",
    "\"\"\" from dotenv import load_dotenv\n",
    "import os \n",
    "load_dotenv()\n",
    "\n",
    "from langchain_community.agent_toolkits.financial_datasets.toolkit import FinancialDatasetsToolkit\n",
    "from langchain_community.utilities.financial_datasets import FinancialDatasetsAPIWrapper\n",
    "\n",
    "api_wrapper = FinancialDatasetsAPIWrapper(\n",
    "    financial_datasets_api_key=os.environ[\"FINANCIAL_DATASETS_API_KEY\"]\n",
    ")\n",
    "toolkit = FinancialDatasetsToolkit(api_wrapper=api_wrapper)\n",
    "financeResearchTools = toolkit.get_tools() \"\"\""
   ]
  },
  {
   "cell_type": "code",
   "execution_count": 17,
   "id": "976df108",
   "metadata": {},
   "outputs": [],
   "source": [
    "finance_system_prompt = \"\"\"\n",
    "You are an advanced financial analysis AI assistant equipped with specialized tools\n",
    "to access and analyze financial data. Your primary function is to help users with\n",
    "financial analysis by retrieving and interpreting income statements, balance sheets,\n",
    "and cash flow statements for publicly traded companies.\n",
    "\n",
    "You have access to the following tools from the FinancialDatasetsToolkit:\n",
    "\n",
    "1. Balance Sheets: Retrieves balance sheet data for a given ticker symbol.\n",
    "2. Income Statements: Fetches income statement data for a specified company.\n",
    "3. Cash Flow Statements: Accesses cash flow statement information for a particular ticker.\n",
    "\n",
    "Your capabilities include:\n",
    "\n",
    "1. Retrieving financial statements for any publicly traded company using its ticker symbol.\n",
    "2. Analyzing financial ratios and metrics based on the data from these statements.\n",
    "3. Comparing financial performance across different time periods (e.g., year-over-year or quarter-over-quarter).\n",
    "4. Identifying trends in a company's financial health and performance.\n",
    "5. Providing insights on a company's liquidity, solvency, profitability, and efficiency.\n",
    "6. Explaining complex financial concepts in simple terms.\n",
    "\n",
    "When responding to queries:\n",
    "\n",
    "1. Always specify which financial statement(s) you're using for your analysis.\n",
    "2. Provide context for the numbers you're referencing (e.g., fiscal year, quarter).\n",
    "3. Explain your reasoning and calculations clearly.\n",
    "4. If you need more information to provide a complete answer, ask for clarification.\n",
    "5. When appropriate, suggest additional analyses that might be helpful.\n",
    "\n",
    "Remember, your goal is to provide accurate, insightful financial analysis to\n",
    "help users make informed decisions. Always maintain a professional and objective tone in your responses.\n",
    "\"\"\""
   ]
  },
  {
   "cell_type": "code",
   "execution_count": 18,
   "id": "5f6cd9f0",
   "metadata": {},
   "outputs": [
    {
     "data": {
      "text/plain": [
       "' def financeResearch_agent(state: State) -> Command[Literal[\"ResearchSupervisor\"]]:\\n\\n    financeResearch_agent = create_react_agent(llm, tools=[financeResearchTools], prompt=finance_system_prompt)\\n\\n    result=financeResearch_agent.invoke(state)\\n\\n    return Command(\\n        update={\\n            \"messages\": [\\n                HumanMessage(content=result[\"messages\"][-1].content, name=\"financeResearcher\")\\n            ]\\n        },\\n        goto=\"ResearchSupervisor\",\\n    )\\n     '"
      ]
     },
     "execution_count": 18,
     "metadata": {},
     "output_type": "execute_result"
    }
   ],
   "source": [
    "\"\"\" def financeResearch_agent(state: State) -> Command[Literal[\"ResearchSupervisor\"]]:\n",
    "    \n",
    "    financeResearch_agent = create_react_agent(llm, tools=[financeResearchTools], prompt=finance_system_prompt)\n",
    "    \n",
    "    result=financeResearch_agent.invoke(state)\n",
    "    \n",
    "    return Command(\n",
    "        update={\n",
    "            \"messages\": [\n",
    "                HumanMessage(content=result[\"messages\"][-1].content, name=\"financeResearcher\")\n",
    "            ]\n",
    "        },\n",
    "        goto=\"ResearchSupervisor\",\n",
    "    )\n",
    "     \"\"\""
   ]
  },
  {
   "cell_type": "code",
   "execution_count": 19,
   "id": "112c88b9",
   "metadata": {},
   "outputs": [
    {
     "name": "stdout",
     "output_type": "stream",
     "text": [
      "212.44\n",
      "{'address1': 'One Apple Park Way', 'city': 'Cupertino', 'state': 'CA', 'zip': '95014', 'country': 'United States', 'phone': '(408) 996-1010', 'website': 'https://www.apple.com', 'industry': 'Consumer Electronics', 'industryKey': 'consumer-electronics', 'industryDisp': 'Consumer Electronics', 'sector': 'Technology', 'sectorKey': 'technology', 'sectorDisp': 'Technology', 'longBusinessSummary': 'Apple Inc. designs, manufactures, and markets smartphones, personal computers, tablets, wearables, and accessories worldwide. The company offers iPhone, a line of smartphones; Mac, a line of personal computers; iPad, a line of multi-purpose tablets; and wearables, home, and accessories comprising AirPods, Apple TV, Apple Watch, Beats products, and HomePod. It also provides AppleCare support and cloud services; and operates various platforms, including the App Store that allow customers to discover and download applications and digital content, such as books, music, video, games, and podcasts, as well as advertising services include third-party licensing arrangements and its own advertising platforms. In addition, the company offers various subscription-based services, such as Apple Arcade, a game subscription service; Apple Fitness+, a personalized fitness service; Apple Music, which offers users a curated listening experience with on-demand radio stations; Apple News+, a subscription news and magazine service; Apple TV+, which offers exclusive original content; Apple Card, a co-branded credit card; and Apple Pay, a cashless payment service, as well as licenses its intellectual property. The company serves consumers, and small and mid-sized businesses; and the education, enterprise, and government markets. It distributes third-party applications for its products through the App Store. The company also sells its products through its retail and online stores, and direct sales force; and third-party cellular network carriers, wholesalers, retailers, and resellers. Apple Inc. was founded in 1976 and is headquartered in Cupertino, California.', 'fullTimeEmployees': 164000, 'companyOfficers': [{'maxAge': 1, 'name': 'Mr. Timothy D. Cook', 'age': 63, 'title': 'CEO & Director', 'yearBorn': 1961, 'fiscalYear': 2024, 'totalPay': 16520856, 'exercisedValue': 0, 'unexercisedValue': 0}, {'maxAge': 1, 'name': 'Mr. Jeffrey E. Williams', 'age': 60, 'title': 'Chief Operating Officer', 'yearBorn': 1964, 'fiscalYear': 2024, 'totalPay': 5020737, 'exercisedValue': 0, 'unexercisedValue': 0}, {'maxAge': 1, 'name': 'Ms. Katherine L. Adams', 'age': 60, 'title': 'Senior VP, General Counsel & Secretary', 'yearBorn': 1964, 'fiscalYear': 2024, 'totalPay': 5022182, 'exercisedValue': 0, 'unexercisedValue': 0}, {'maxAge': 1, 'name': \"Ms. Deirdre  O'Brien\", 'age': 57, 'title': 'Chief People Officer & Senior VP of Retail', 'yearBorn': 1967, 'fiscalYear': 2024, 'totalPay': 5022182, 'exercisedValue': 0, 'unexercisedValue': 0}, {'maxAge': 1, 'name': 'Mr. Kevan  Parekh', 'age': 52, 'title': 'Senior VP & CFO', 'yearBorn': 1972, 'fiscalYear': 2024, 'exercisedValue': 0, 'unexercisedValue': 0}, {'maxAge': 1, 'name': 'Mr. Chris  Kondo', 'title': 'Senior Director of Corporate Accounting', 'fiscalYear': 2024, 'exercisedValue': 0, 'unexercisedValue': 0}, {'maxAge': 1, 'name': 'Suhasini  Chandramouli', 'title': 'Director of Investor Relations', 'fiscalYear': 2024, 'exercisedValue': 0, 'unexercisedValue': 0}, {'maxAge': 1, 'name': 'Ms. Kristin Huguet Quayle', 'title': 'Vice President of Worldwide Communications', 'fiscalYear': 2024, 'exercisedValue': 0, 'unexercisedValue': 0}, {'maxAge': 1, 'name': 'Mr. Greg  Joswiak', 'title': 'Senior Vice President of Worldwide Marketing', 'fiscalYear': 2024, 'exercisedValue': 0, 'unexercisedValue': 0}, {'maxAge': 1, 'name': 'Mr. Adrian  Perica', 'age': 50, 'title': 'Vice President of Corporate Development', 'yearBorn': 1974, 'fiscalYear': 2024, 'exercisedValue': 0, 'unexercisedValue': 0}], 'auditRisk': 7, 'boardRisk': 1, 'compensationRisk': 3, 'shareHolderRightsRisk': 1, 'overallRisk': 1, 'governanceEpochDate': 1748736000, 'compensationAsOfEpochDate': 1735603200, 'irWebsite': 'http://investor.apple.com/', 'executiveTeam': [], 'maxAge': 86400, 'priceHint': 2, 'previousClose': 212.44, 'open': 212.145, 'dayLow': 211.8101, 'dayHigh': 214.65, 'regularMarketPreviousClose': 212.44, 'regularMarketOpen': 212.145, 'regularMarketDayLow': 211.8101, 'regularMarketDayHigh': 214.65, 'dividendRate': 1.04, 'dividendYield': 0.51, 'exDividendDate': 1747008000, 'payoutRatio': 0.1558, 'fiveYearAvgDividendYield': 0.55, 'beta': 1.211, 'trailingPE': 33.21151, 'forwardPE': 25.697954, 'volume': 34955836, 'regularMarketVolume': 34955836, 'averageVolume': 62010880, 'averageVolume10days': 64380450, 'averageDailyVolume10Day': 64380450, 'bid': 201.59, 'ask': 221.0, 'bidSize': 1, 'askSize': 1, 'marketCap': 3189540126720, 'fiftyTwoWeekLow': 169.21, 'fiftyTwoWeekHigh': 260.1, 'priceToSalesTrailing12Months': 7.966561, 'fiftyDayAverage': 203.7188, 'twoHundredDayAverage': 223.08815, 'trailingAnnualDividendRate': 1.0, 'trailingAnnualDividendYield': 0.004707211, 'currency': 'USD', 'tradeable': False, 'enterpriseValue': 3114071490560, 'profitMargins': 0.24301, 'floatShares': 14911480604, 'sharesOutstanding': 14935799808, 'sharesShort': 100226522, 'sharesShortPriorMonth': 105169332, 'sharesShortPreviousMonthDate': 1747267200, 'dateShortInterest': 1749772800, 'sharesPercentSharesOut': 0.0067000003, 'heldPercentInsiders': 0.02085, 'heldPercentInstitutions': 0.62835, 'shortRatio': 1.91, 'shortPercentOfFloat': 0.0067000003, 'impliedSharesOutstanding': 14977399808, 'bookValue': 4.471, 'priceToBook': 47.763363, 'lastFiscalYearEnd': 1727481600, 'nextFiscalYearEnd': 1759017600, 'mostRecentQuarter': 1743206400, 'earningsQuarterlyGrowth': 0.048, 'netIncomeToCommon': 97294000128, 'trailingEps': 6.43, 'forwardEps': 8.31, 'lastSplitFactor': '4:1', 'lastSplitDate': 1598832000, 'enterpriseToRevenue': 7.778, 'enterpriseToEbitda': 22.425, '52WeekChange': -0.056507885, 'SandP52WeekChange': 0.12792087, 'lastDividendValue': 0.26, 'lastDividendDate': 1747008000, 'quoteType': 'EQUITY', 'currentPrice': 213.55, 'targetHighPrice': 300.0, 'targetLowPrice': 170.62, 'targetMeanPrice': 228.60326, 'targetMedianPrice': 230.0, 'recommendationMean': 2.1087, 'recommendationKey': 'buy', 'numberOfAnalystOpinions': 40, 'totalCash': 48497999872, 'totalCashPerShare': 3.247, 'ebitda': 138865999872, 'totalDebt': 98186002432, 'quickRatio': 0.68, 'currentRatio': 0.821, 'totalRevenue': 400366010368, 'debtToEquity': 146.994, 'revenuePerShare': 26.455, 'returnOnAssets': 0.23809999, 'returnOnEquity': 1.38015, 'grossProfits': 186699005952, 'freeCashflow': 97251500032, 'operatingCashflow': 109555998720, 'earningsGrowth': 0.078, 'revenueGrowth': 0.051, 'grossMargins': 0.46632, 'ebitdaMargins': 0.34685, 'operatingMargins': 0.31028998, 'financialCurrency': 'USD', 'symbol': 'AAPL', 'language': 'en-US', 'region': 'US', 'typeDisp': 'Equity', 'quoteSourceName': 'Nasdaq Real Time Price', 'triggerable': True, 'customPriceAlertConfidence': 'HIGH', 'marketState': 'CLOSED', 'cryptoTradeable': False, 'shortName': 'Apple Inc.', 'longName': 'Apple Inc.', 'hasPrePostMarketData': True, 'firstTradeDateMilliseconds': 345479400000, 'postMarketChangePercent': 0.0, 'postMarketPrice': 213.55, 'postMarketChange': 0.0, 'regularMarketChange': 1.11, 'regularMarketDayRange': '211.8101 - 214.65', 'fullExchangeName': 'NasdaqGS', 'averageDailyVolume3Month': 62010880, 'fiftyTwoWeekLowChange': 44.339996, 'fiftyTwoWeekLowChangePercent': 0.2620412, 'fiftyTwoWeekRange': '169.21 - 260.1', 'fiftyTwoWeekHighChange': -46.550003, 'fiftyTwoWeekHighChangePercent': -0.17896964, 'fiftyTwoWeekChangePercent': -5.6507883, 'dividendDate': 1747267200, 'earningsTimestamp': 1753992000, 'earningsTimestampStart': 1753992000, 'earningsTimestampEnd': 1753992000, 'earningsCallTimestampStart': 1753995600, 'earningsCallTimestampEnd': 1753995600, 'isEarningsDateEstimate': False, 'epsTrailingTwelveMonths': 6.43, 'epsForward': 8.31, 'epsCurrentYear': 7.18592, 'priceEpsCurrentYear': 29.717838, 'fiftyDayAverageChange': 9.831207, 'fiftyDayAverageChangePercent': 0.048258714, 'twoHundredDayAverageChange': -9.538147, 'twoHundredDayAverageChangePercent': -0.04275506, 'sourceInterval': 15, 'exchangeDataDelayedBy': 0, 'averageAnalystRating': '2.1 - Buy', 'corporateActions': [], 'postMarketTime': 1751576397, 'regularMarketTime': 1751562001, 'exchange': 'NMS', 'messageBoardId': 'finmb_24937', 'exchangeTimezoneName': 'America/New_York', 'exchangeTimezoneShortName': 'EDT', 'gmtOffSetMilliseconds': -14400000, 'market': 'us_market', 'esgPopulated': False, 'regularMarketChangePercent': 0.522501, 'regularMarketPrice': 213.55, 'displayName': 'Apple', 'trailingPegRatio': 1.9474}\n"
     ]
    }
   ],
   "source": [
    "# using yahoo finance\n",
    "import yfinance as yf\n",
    "ticker_obj = yf.Ticker(\"AAPL\")\n",
    "print(ticker_obj.info['previousClose'])\n",
    "info = ticker_obj.get_info()\n",
    "print(info)\n",
    "#print(info['previousClose'])\n"
   ]
  },
  {
   "cell_type": "code",
   "execution_count": 20,
   "id": "5799a05a",
   "metadata": {},
   "outputs": [],
   "source": [
    "@tool\n",
    "def financeReseacherTool(ticker: str):\n",
    "    \"\"\"this tool returns information for a ticker from Yahoo Finance\"\"\"\n",
    "    ticker_obj = yf.Ticker(ticker)\n",
    "    return ticker_obj.get_info()\n"
   ]
  },
  {
   "cell_type": "code",
   "execution_count": 21,
   "id": "9a53974f",
   "metadata": {},
   "outputs": [
    {
     "name": "stderr",
     "output_type": "stream",
     "text": [
      "HTTP Error 404: \n"
     ]
    },
    {
     "data": {
      "text/plain": [
       "{'trailingPegRatio': None}"
      ]
     },
     "execution_count": 21,
     "metadata": {},
     "output_type": "execute_result"
    }
   ],
   "source": [
    "financeReseacherTool.invoke(\"What is AAPL's latest stock price?\")"
   ]
  },
  {
   "cell_type": "code",
   "execution_count": 22,
   "id": "2098380c",
   "metadata": {},
   "outputs": [],
   "source": [
    "def financeResearch_agent(state: State) -> Command[Literal[\"ResearchSupervisor\"]]:\n",
    "    \n",
    "    financeResearch_agent = create_react_agent(llm, tools=[financeReseacherTool], prompt=\"you are finance expert. use tool provided to you to answer user query. Don't ask follow-up questions\")\n",
    "    \n",
    "    result=financeResearch_agent.invoke(state)\n",
    "    \n",
    "    return Command(\n",
    "        update={\n",
    "            \"messages\": [\n",
    "                HumanMessage(content=result[\"messages\"][-1].content, name=\"financeResearcher\")\n",
    "            ]\n",
    "        },\n",
    "        goto=\"ResearchSupervisor\",\n",
    "    )\n",
    "    "
   ]
  },
  {
   "cell_type": "code",
   "execution_count": 23,
   "id": "5a44a50d",
   "metadata": {},
   "outputs": [
    {
     "data": {
      "text/plain": [
       "<langgraph.graph.state.StateGraph at 0x128241d30>"
      ]
     },
     "execution_count": 23,
     "metadata": {},
     "output_type": "execute_result"
    }
   ],
   "source": [
    "graph=StateGraph(State)\n",
    "graph.add_node(\"ResearchSupervisor\", researchSupervisor_agent)\n",
    "graph.add_node(\"medicalResearcher\", medicalResearch_agent)\n",
    "graph.add_node(\"financeResearcher\", financeResearch_agent)\n",
    "graph.add_edge(START, \"ResearchSupervisor\")\n"
   ]
  },
  {
   "cell_type": "code",
   "execution_count": 24,
   "id": "1a37ef6a",
   "metadata": {},
   "outputs": [],
   "source": [
    "researchApp=graph.compile()"
   ]
  },
  {
   "cell_type": "code",
   "execution_count": 25,
   "id": "0cda29f0",
   "metadata": {},
   "outputs": [
    {
     "data": {
      "image/png": "[encoded data removed]",
      "text/plain": [
       "<IPython.core.display.Image object>"
      ]
     },
     "metadata": {},
     "output_type": "display_data"
    }
   ],
   "source": [
    "from IPython.display import display,Image\n",
    "display(Image(researchApp.get_graph().draw_mermaid_png()))"
   ]
  },
  {
   "cell_type": "markdown",
   "id": "0754de95",
   "metadata": {},
   "source": []
  },
  {
   "cell_type": "code",
   "execution_count": 26,
   "id": "6a4d7cbc",
   "metadata": {},
   "outputs": [
    {
     "name": "stdout",
     "output_type": "stream",
     "text": [
      "*****response****\n",
      "{'next': 'medicalResearcher'}\n",
      "**********BELOW IS MY GOTO***************\n",
      "medicalResearcher\n",
      "{'ResearchSupervisor': {'next': 'medicalResearcher'}}\n",
      "***BELOW IS MY STATE*******\n",
      "Too Many Requests, waiting for 0.20 seconds...\n",
      "Too Many Requests, waiting for 0.40 seconds...\n",
      "{'medicalResearcher': {'messages': [HumanMessage(content='Frozen shoulder, also known as adhesive capsulitis, is a condition characterized by significant pain and progressively restricted shoulder movements. Diagnosis is primarily clinical, based on patient history and physical examination, with imaging tools like ultrasound and MRI being used as adjuncts. The condition is often self-limiting, but for some patients, it can lead to long-term disabilities. Risk factors include diabetes, thyroid disease, and dyslipidemia.\\n\\nThe management of frozen shoulder is mainly non-invasive and includes medications, physical therapy, electrical stimulation, and manual therapy. Intra-articular steroid injections are recommended, and physiotherapy or hydrodilatation with steroid injections can be beneficial for improving shoulder function and reducing pain. \\n\\nThese insights and recommendations are based on clinical practice guidelines developed for the diagnosis and treatment of primary frozen shoulder.', additional_kwargs={}, response_metadata={}, name='medicalResearcher', id='c50c81e3-197f-467e-ac88-3db60a7296d8')]}}\n",
      "***BELOW IS MY STATE*******\n",
      "*****response****\n",
      "{'next': 'financeResearcher'}\n",
      "**********BELOW IS MY GOTO***************\n",
      "financeResearcher\n",
      "{'ResearchSupervisor': {'next': 'financeResearcher'}}\n",
      "***BELOW IS MY STATE*******\n",
      "{'financeResearcher': {'messages': [HumanMessage(content='I specialize in finance and investments rather than medical topics. However, if you need detailed information on a financial matter or related questions, feel free to ask!', additional_kwargs={}, response_metadata={}, name='financeResearcher', id='2256986c-6a85-4022-849d-64b0e0b299d4')]}}\n",
      "***BELOW IS MY STATE*******\n",
      "*****response****\n",
      "{'next': 'FINISH'}\n",
      "**********BELOW IS MY GOTO***************\n",
      "FINISH\n",
      "{'ResearchSupervisor': {'next': '__end__'}}\n",
      "***BELOW IS MY STATE*******\n"
     ]
    }
   ],
   "source": [
    "for s in researchApp.stream(\n",
    "    {\n",
    "        \"messages\": [\n",
    "            (\n",
    "                \"user\",\n",
    "                \"what is frozen shoulder?\",\n",
    "            )\n",
    "        ]\n",
    "    },\n",
    "    {\"recursion_limit\": 10},\n",
    "):\n",
    "    print(s)\n",
    "    print(\"***BELOW IS MY STATE*******\")"
   ]
  },
  {
   "cell_type": "code",
   "execution_count": 27,
   "id": "fdd3ff26",
   "metadata": {},
   "outputs": [
    {
     "name": "stdout",
     "output_type": "stream",
     "text": [
      "*****response****\n",
      "{'next': 'financeResearcher'}\n",
      "**********BELOW IS MY GOTO***************\n",
      "financeResearcher\n",
      "{'ResearchSupervisor': {'next': 'financeResearcher'}}\n",
      "***BELOW IS MY STATE*******\n",
      "{'financeResearcher': {'messages': [HumanMessage(content='The latest stock price for Apple Inc. (AAPL) is $213.55.', additional_kwargs={}, response_metadata={}, name='financeResearcher', id='20b346de-e43c-4315-8d07-30b138dbe223')]}}\n",
      "***BELOW IS MY STATE*******\n",
      "*****response****\n",
      "{'next': 'FINISH'}\n",
      "**********BELOW IS MY GOTO***************\n",
      "FINISH\n",
      "{'ResearchSupervisor': {'next': '__end__'}}\n",
      "***BELOW IS MY STATE*******\n"
     ]
    }
   ],
   "source": [
    "for s in researchApp.stream(\n",
    "    {\n",
    "        \"messages\": [\n",
    "            (\n",
    "                \"user\",\n",
    "                \"What is AAPL's latest stock price?\",\n",
    "            )\n",
    "        ]\n",
    "    },\n",
    "    {\"recursion_limit\": 10},\n",
    "):\n",
    "    print(s)\n",
    "    print(\"***BELOW IS MY STATE*******\")\n",
    "    "
   ]
  },
  {
   "cell_type": "code",
   "execution_count": null,
   "id": "c696d444",
   "metadata": {},
   "outputs": [
    {
     "name": "stdout",
     "output_type": "stream",
     "text": [
      "response\n",
      "{'next': 'medicalResearcher'}\n",
      "**********BELOW IS MY GOTO***************\n",
      "medicalResearcher\n",
      "((), {'ResearchSupervisor': {'next': 'medicalResearcher'}})\n",
      "**********BELOW IS MY STATE***************\n",
      "(('medicalResearcher:ec1ed336-9dd2-92f4-1c4c-c81f0c19f754',), {'agent': {'messages': [AIMessage(content='It seems like you might be referring to \"cardiothoracic,\" which relates to the heart and chest cavity. However, \"cardithoracic\" isn\\'t a recognized medical term. Could you clarify if you meant \"cardiothoracic\"? If so, I can provide information on that topic. If not, please provide more context so I can assist you better.', additional_kwargs={}, response_metadata={'token_usage': {'completion_tokens': 363, 'prompt_tokens': 308, 'total_tokens': 671, 'completion_time': 1.59956118, 'prompt_time': 0.02076569, 'queue_time': 0.200515747, 'total_time': 1.62032687}, 'model_name': 'deepseek-r1-distill-llama-70b', 'system_fingerprint': 'fp_1bbe7845ec', 'finish_reason': 'stop', 'logprobs': None}, id='run--320dfd5a-389c-46f4-8938-420bfbd03f6a-0', usage_metadata={'input_tokens': 308, 'output_tokens': 363, 'total_tokens': 671})]}})\n",
      "**********BELOW IS MY STATE***************\n",
      "((), {'medicalResearcher': {'messages': [HumanMessage(content='It seems like you might be referring to \"cardiothoracic,\" which relates to the heart and chest cavity. However, \"cardithoracic\" isn\\'t a recognized medical term. Could you clarify if you meant \"cardiothoracic\"? If so, I can provide information on that topic. If not, please provide more context so I can assist you better.', additional_kwargs={}, response_metadata={}, name='medicalResearcher')]}})\n",
      "**********BELOW IS MY STATE***************\n",
      "response\n",
      "{'next': 'medicalResearcher'}\n",
      "**********BELOW IS MY GOTO***************\n",
      "medicalResearcher\n",
      "((), {'ResearchSupervisor': {'next': 'medicalResearcher'}})\n",
      "**********BELOW IS MY STATE***************\n",
      "(('medicalResearcher:98cd1c9f-87ae-ef6a-fe28-6830b03ed73b',), {'agent': {'messages': [AIMessage(content='It seems like you might be referring to \"cardiothoracic,\" which relates to the heart and chest cavity. However, \"cardithoracic\" isn\\'t a recognized medical term. Could you clarify if you meant \"cardiothoracic\"? If so, I can provide information on that topic. If not, please provide more context so I can assist you better.', additional_kwargs={}, response_metadata={'token_usage': {'completion_tokens': 191, 'prompt_tokens': 386, 'total_tokens': 577, 'completion_time': 0.707854398, 'prompt_time': 0.025131387, 'queue_time': 0.20057372199999998, 'total_time': 0.732985785}, 'model_name': 'deepseek-r1-distill-llama-70b', 'system_fingerprint': 'fp_1bbe7845ec', 'finish_reason': 'stop', 'logprobs': None}, id='run--af08aa7e-7ed5-43d4-9442-fe6884476be8-0', usage_metadata={'input_tokens': 386, 'output_tokens': 191, 'total_tokens': 577})]}})\n",
      "**********BELOW IS MY STATE***************\n",
      "((), {'medicalResearcher': {'messages': [HumanMessage(content='It seems like you might be referring to \"cardiothoracic,\" which relates to the heart and chest cavity. However, \"cardithoracic\" isn\\'t a recognized medical term. Could you clarify if you meant \"cardiothoracic\"? If so, I can provide information on that topic. If not, please provide more context so I can assist you better.', additional_kwargs={}, response_metadata={}, name='medicalResearcher')]}})\n",
      "**********BELOW IS MY STATE***************\n",
      "response\n",
      "{'next': 'medicalResearcher'}\n",
      "**********BELOW IS MY GOTO***************\n",
      "medicalResearcher\n",
      "((), {'ResearchSupervisor': {'next': 'medicalResearcher'}})\n",
      "**********BELOW IS MY STATE***************\n",
      "(('medicalResearcher:05aa5c22-7cc1-2197-20dc-c61dcb9a485a',), {'agent': {'messages': [AIMessage(content='', additional_kwargs={'tool_calls': [{'id': 'x830w15e0', 'function': {'arguments': '{\"query\":\"cardithoracic\"}', 'name': 'medicalResearchTool'}, 'type': 'function'}]}, response_metadata={'token_usage': {'completion_tokens': 30, 'prompt_tokens': 464, 'total_tokens': 494, 'completion_time': 0.109090909, 'prompt_time': 0.030667076, 'queue_time': 0.200740258, 'total_time': 0.139757985}, 'model_name': 'deepseek-r1-distill-llama-70b', 'system_fingerprint': 'fp_1bbe7845ec', 'finish_reason': 'tool_calls', 'logprobs': None}, id='run--cca390bb-f778-42e4-8cc9-436c78be3f7b-0', tool_calls=[{'name': 'medicalResearchTool', 'args': {'query': 'cardithoracic'}, 'id': 'x830w15e0', 'type': 'tool_call'}], usage_metadata={'input_tokens': 464, 'output_tokens': 30, 'total_tokens': 494})]}})\n",
      "**********BELOW IS MY STATE***************\n",
      "Too Many Requests, waiting for 0.20 seconds...\n",
      "Too Many Requests, waiting for 0.40 seconds...\n",
      "(('medicalResearcher:05aa5c22-7cc1-2197-20dc-c61dcb9a485a',), {'tools': {'messages': [ToolMessage(content=\"Result for cardithoracic is: \\n[Document(metadata={'uid': '38899092', 'Title': 'A new approach to surgical correction of double-outlet right ventricle with remote interventricular communication.', 'Published': '2024-03-16', 'Copyright Information': ''}, page_content='No abstract available'), Document(metadata={'uid': '34173742', 'Title': 'Congenital Lobar Emphysema: Perioperative Evaluation and Management.', 'Published': '2021-06-11', 'Copyright Information': ''}, page_content='BACKGROUND: Congenital lobar emphysema (CLE) is a lung malformation characterized by overdistension and air trapping in the affected lobe. It is one of the causes of neonatal and infantile respiratory distress. This study aimed to evaluate our experience regarding perioperative and surgical management in children with CLE.\\\\nMETHODS: A retrospective observational study was done for all CLE patients who underwent surgery at Menoufia University Hospital. Perioperative data collected included demographic, clinical, and radiological findings, as well as operative and postoperative data.\\\\nRESULTS: We included 30 neonates and infants who suffered from CLE between January 2013 and December 2020; the mean age was 111.43 ± 65.19 days, and 21 were males. All cases presented with respiratory distress; 19 had cyanosis, and 15 had recurrent pneumonia and fever. Plain chest x-ray and computed tomography (CT) revealed emphysema in all cases. Lobectomy was done in all cases; the mean age at surgery was 147.58 ± 81.49 days. Postoperative complications occurred in 5 patients, and 2 of them needed mechanical ventilation. The follow-up duration ranged from 3 months to 1 year (except 1 case lost to follow-up after 3 months), and all patients were doing well.\\\\nCONCLUSION: CLE is a rare bronchopulmonary malformation that requires a high index of clinical suspicion, especially in persistent and recurrent infantile respiratory distress. Chest CT is the most useful diagnostic modality. Early management of CLE improves outcome and prevents life-threatening complications. Surgical management is the treatment of choice in our center, without recorded mortality.'), Document(metadata={'uid': '15052212', 'Title': 'International experience with conversion from cyclosporine to tacrolimus for acute and chronic lung allograft rejection.', 'Published': '--', 'Copyright Information': ''}, page_content='OBJECTIVE: A retrospective study involving 13 institutions was performed to assess the efficacy of conversion from cyclosporine (INN: ciclosporin) to tacrolimus.\\\\nMETHODS: Data from 244 patients were analyzed. Indications for conversion were recurrent-ongoing rejection (n = 110) and stage 1 to 3 bronchiolitis obliterans syndrome (n = 134).\\\\nRESULTS: The incidence of acute rejection decreased significantly within 3 months after versus before the switch from cyclosporine to tacrolimus (P <.01). For patients with recurrent-ongoing rejection, the forced expiratory volume in 1 second decreased by 1.96% of predicted value per month (P =.08 vs zero slope) before and increased by 0.34% of predicted value per month (P =.32 vs zero slope) after conversion (P <.06). For patients with stage 1 to 3 bronchiolitis obliterans syndrome, a significant reduction of rejection episodes was observed (P <.01). In single transplant recipients a decrease of the forced expiratory volume in 1 second averaged 2.25% of predicted value per month (P <.01 vs zero slope) before and 0.29% of predicted value per month after conversion. Corresponding values for bilateral transplant recipients were 3.7% of predicted value per month (P <.01 vs zero slope) and 0.9% of predicted value per month (P = 0.04 vs zero slope), respectively. No significant difference in the incidence of infections within 3 months before and after conversion was observed.\\\\nCONCLUSIONS: Conversion from cyclosporine to tacrolimus after lung transplantation is associated with reversal of recurrent-ongoing rejection. Conversion for bronchiolitis obliterans syndrome allows short-term stabilization of lung function in most patients.')]\", name='medicalResearchTool', tool_call_id='x830w15e0')]}})\n",
      "**********BELOW IS MY STATE***************\n",
      "(('medicalResearcher:05aa5c22-7cc1-2197-20dc-c61dcb9a485a',), {'agent': {'messages': [AIMessage(content='It seems there might be some confusion with the term \"cardithoracic.\" Based on the provided documents, it appears you may be referring to \"cardiothoracic,\" which relates to the heart (cardiac) and chest cavity (thoracic). Cardiothoracic surgery, for example, focuses on surgical procedures involving the heart and lungs.\\n\\nThe documents provided include information on congenital lobar emphysema, double-outlet right ventricle, and lung transplant rejection, which are all conditions related to the cardiothoracic system. If you have a specific question about any of these topics or need further clarification, feel free to ask!', additional_kwargs={}, response_metadata={'token_usage': {'completion_tokens': 419, 'prompt_tokens': 1439, 'total_tokens': 1858, 'completion_time': 1.863185874, 'prompt_time': 0.113942863, 'queue_time': 0.201415772, 'total_time': 1.9771287370000001}, 'model_name': 'deepseek-r1-distill-llama-70b', 'system_fingerprint': 'fp_1bbe7845ec', 'finish_reason': 'stop', 'logprobs': None}, id='run--413e55f5-114d-4fc1-a514-0bde5c00ecf7-0', usage_metadata={'input_tokens': 1439, 'output_tokens': 419, 'total_tokens': 1858})]}})\n",
      "**********BELOW IS MY STATE***************\n",
      "((), {'medicalResearcher': {'messages': [HumanMessage(content='It seems there might be some confusion with the term \"cardithoracic.\" Based on the provided documents, it appears you may be referring to \"cardiothoracic,\" which relates to the heart (cardiac) and chest cavity (thoracic). Cardiothoracic surgery, for example, focuses on surgical procedures involving the heart and lungs.\\n\\nThe documents provided include information on congenital lobar emphysema, double-outlet right ventricle, and lung transplant rejection, which are all conditions related to the cardiothoracic system. If you have a specific question about any of these topics or need further clarification, feel free to ask!', additional_kwargs={}, response_metadata={}, name='medicalResearcher')]}})\n",
      "**********BELOW IS MY STATE***************\n",
      "response\n",
      "{'next': 'medicalResearcher'}\n",
      "**********BELOW IS MY GOTO***************\n",
      "medicalResearcher\n",
      "((), {'ResearchSupervisor': {'next': 'medicalResearcher'}})\n",
      "**********BELOW IS MY STATE***************\n",
      "(('medicalResearcher:26a3b16e-f1d4-668b-241e-b0526ceb263d',), {'agent': {'messages': [AIMessage(content='', additional_kwargs={'tool_calls': [{'id': '68f5584gq', 'function': {'arguments': '{\"query\":\"cardiothoracic\"}', 'name': 'medicalResearchTool'}, 'type': 'function'}]}, response_metadata={'token_usage': {'completion_tokens': 26, 'prompt_tokens': 599, 'total_tokens': 625, 'completion_time': 0.094545455, 'prompt_time': 0.041810856, 'queue_time': 0.200861938, 'total_time': 0.136356311}, 'model_name': 'deepseek-r1-distill-llama-70b', 'system_fingerprint': 'fp_1bbe7845ec', 'finish_reason': 'tool_calls', 'logprobs': None}, id='run--9a25dd75-8153-4127-8345-947c3d99b202-0', tool_calls=[{'name': 'medicalResearchTool', 'args': {'query': 'cardiothoracic'}, 'id': '68f5584gq', 'type': 'tool_call'}], usage_metadata={'input_tokens': 599, 'output_tokens': 26, 'total_tokens': 625})]}})\n",
      "**********BELOW IS MY STATE***************\n",
      "Too Many Requests, waiting for 0.20 seconds...\n",
      "(('medicalResearcher:26a3b16e-f1d4-668b-241e-b0526ceb263d',), {'tools': {'messages': [ToolMessage(content='Result for cardiothoracic is: \\n[Document(metadata={\\'uid\\': \\'40606751\\', \\'Title\\': \\'Hypoimmune CD19 CAR T cells treat allogeneic mice with features of spontaneous systemic lupus erythematosus.\\', \\'Published\\': \\'2025-05-31\\', \\'Copyright Information\\': \\'© 2025 The Author(s).\\'}, page_content=\\'Hypoimmune (HIP) MHC class I- and II-deficient and CD47-overexpressing CD19 CAR T cells were generated and tested in an allogeneic NZB/W mouse model of spontaneous systemic lupus erythematosus with established disease. HIP CAR T cells showed persistent engraftment, achieved lasting deep tissue B cell depletion, diminished antibody levels and systemic pro-inflammatory cytokine levels, mitigated proteinuria and glucosuria, alleviated structural kidney injury, and improved survival after 21 weeks. HIP CAR T cells did not induce any immune activation in this fully allogeneic model and thus completely escaped allorejection. In contrast, MHC-replete, non-HIP-edited wild-type (WT) CD19 CAR T cells induced a strong adaptive immune response and vanished quickly without inducing meaningful B cell depletion and without improving disease markers or survival. Conditioning of NZB/W mice with irradiation did not enhance the HIP CAR T cell efficacy and might hint at their potency for autoimmune patients without prior lymphodepletion.\\'), Document(metadata={\\'uid\\': \\'40606299\\', \\'Title\\': \\'Post-operative management of children after lung transplantation.\\', \\'Published\\': \\'2025-05-27\\', \\'Copyright Information\\': \\'© 2025 International Society for Heart and Lung Transplantation.\\'}, page_content=\\'Post-operative care for children and adolescents who undergo lung transplantation is a challenge because of the potential for numerous complications during this period, which can considerably impact the short- and long-term outcomes. The immediate post-operative phase is particularly critical, and complications are frequent; therefore, knowledge, early recognition, and appropriate treatment of these complications are imperative and can only be achieved through close collaboration between a wide range of medical specialties. The aim of this review is to provide an abbreviated overview of the optimal post-operative management of children in an intensive care unit, as well as to describe frequently occurring complications and their treatment.\\'), Document(metadata={\\'uid\\': \\'40606298\\', \\'Title\\': \\'Sizing in lung transplantation: principles, practices and ideas for the future.\\', \\'Published\\': \\'2025-05-30\\', \\'Copyright Information\\': \\'© 2025 The Authors.\\'}, page_content=\\'Lung transplantation (LTx) is an important treatment option for many end-stage lung diseases. The goal of LTx is to restore pulmonary physiology (gas exchange and respiratory system mechanics) towards normal, so that LTx recipients can experience an improved quality of life and live significantly longer. An optimized approach to donor-to-recipient size matching is a strategy to increase opportunities for successful transplants and optimize outcomes. In this review we discuss relevant pulmonary gas exchange and respiratory systems mechanics principles as a framework to optimize donor-to-recipient size matching and LTX-recipient management. The predicted total lung capacity (pTLC) is a refined estimate of organ size utilizing regression equations to calculate lung size based on height, sex and age. In general, irrespective of the underlying lung disease the chest cavity is \"reverse remolding\" back towards normal size in most recipients. The parameter that can reflect the sizing goal to restore physiology towards normal is the recipient pTLC. A pragmatic size matching metric is the donor-to-recipient pTLC-ratio. Significant undersizing based on the pTLC-ratio is a risk factor for complications and lower LTx survival. If significant changes to the LTx candidate\\\\\\'s chest cavity size occur (as can occur in severe restrictive lung disease or severe emphysema), or if the chest cavity cannot \"reverse remodel\" towards normal, it is important to consider additional donor-to-recipient sizing metrics. In addition to the recipient\\\\\\'s measured actual total lung capacity imaging-based metrics can be considered. Chest X-ray and computer tomography based volumetric analyses can provide information facilitating a successful LTx.\\')]', name='medicalResearchTool', id='dfd7eb60-79f4-473a-8c7f-9871dbd94efd', tool_call_id='68f5584gq')]}})\n",
      "**********BELOW IS MY STATE***************\n",
      "(('medicalResearcher:26a3b16e-f1d4-668b-241e-b0526ceb263d',), {'agent': {'messages': [AIMessage(content='The term \"cardiothoracic\" refers to the medical field that focuses on the heart (cardiac) and chest cavity (thoracic). It is often associated with cardiothoracic surgery, which involves surgical procedures of the heart, lungs, and other organs within the chest cavity. Below is a summary of the documents retrieved, which are related to cardiothoracic topics:\\n\\n1. **Document 1**: This document discusses hypoimmune CD19 CAR T cells and their use in treating systemic lupus erythematosus in mice. It highlights the effectiveness of these cells in reducing disease markers and improving survival without inducing immune rejection.\\n\\n2. **Document 2**: This document reviews the post-operative management of children after lung transplantation. It emphasizes the importance of close collaboration between medical specialties to manage complications and improve outcomes.\\n\\n3. **Document 3**: This document explores sizing principles in lung transplantation, focusing on donor-to-recipient size matching to optimize outcomes. It discusses the use of predicted total lung capacity (pTLC) and other metrics to ensure successful transplants.\\n\\nIf you have specific questions about cardiothoracic surgery or any of these topics, feel free to ask!', additional_kwargs={}, response_metadata={'token_usage': {'completion_tokens': 506, 'prompt_tokens': 1503, 'total_tokens': 2009, 'completion_time': 2.002160449, 'prompt_time': 0.119856647, 'queue_time': 0.20156706700000004, 'total_time': 2.122017096}, 'model_name': 'deepseek-r1-distill-llama-70b', 'system_fingerprint': 'fp_1bbe7845ec', 'finish_reason': 'stop', 'logprobs': None}, id='run--308398df-0dcd-423c-be0a-61aba6aa4567-0', usage_metadata={'input_tokens': 1503, 'output_tokens': 506, 'total_tokens': 2009})]}})\n",
      "**********BELOW IS MY STATE***************\n",
      "((), {'medicalResearcher': {'messages': [HumanMessage(content='The term \"cardiothoracic\" refers to the medical field that focuses on the heart (cardiac) and chest cavity (thoracic). It is often associated with cardiothoracic surgery, which involves surgical procedures of the heart, lungs, and other organs within the chest cavity. Below is a summary of the documents retrieved, which are related to cardiothoracic topics:\\n\\n1. **Document 1**: This document discusses hypoimmune CD19 CAR T cells and their use in treating systemic lupus erythematosus in mice. It highlights the effectiveness of these cells in reducing disease markers and improving survival without inducing immune rejection.\\n\\n2. **Document 2**: This document reviews the post-operative management of children after lung transplantation. It emphasizes the importance of close collaboration between medical specialties to manage complications and improve outcomes.\\n\\n3. **Document 3**: This document explores sizing principles in lung transplantation, focusing on donor-to-recipient size matching to optimize outcomes. It discusses the use of predicted total lung capacity (pTLC) and other metrics to ensure successful transplants.\\n\\nIf you have specific questions about cardiothoracic surgery or any of these topics, feel free to ask!', additional_kwargs={}, response_metadata={}, name='medicalResearcher')]}})\n",
      "**********BELOW IS MY STATE***************\n",
      "response\n",
      "{'next': 'medicalResearcher'}\n",
      "**********BELOW IS MY GOTO***************\n",
      "medicalResearcher\n",
      "((), {'ResearchSupervisor': {'next': 'medicalResearcher'}})\n",
      "**********BELOW IS MY STATE***************\n",
      "(('medicalResearcher:fb52703d-2fe2-3919-358b-116fc5d98aa1',), {'agent': {'messages': [AIMessage(content='', additional_kwargs={'tool_calls': [{'id': 'cvxv3vnyg', 'function': {'arguments': '{\"query\":\"cardithoracic\"}', 'name': 'medicalResearchTool'}, 'type': 'function'}]}, response_metadata={'token_usage': {'completion_tokens': 25, 'prompt_tokens': 840, 'total_tokens': 865, 'completion_time': 0.094942186, 'prompt_time': 0.0628736, 'queue_time': 0.20120577599999998, 'total_time': 0.157815786}, 'model_name': 'deepseek-r1-distill-llama-70b', 'system_fingerprint': 'fp_1bbe7845ec', 'finish_reason': 'tool_calls', 'logprobs': None}, id='run--7dc90205-3ed9-4505-8746-0c5d6e8ed62b-0', tool_calls=[{'name': 'medicalResearchTool', 'args': {'query': 'cardithoracic'}, 'id': 'cvxv3vnyg', 'type': 'tool_call'}], usage_metadata={'input_tokens': 840, 'output_tokens': 25, 'total_tokens': 865})]}})\n",
      "**********BELOW IS MY STATE***************\n",
      "Too Many Requests, waiting for 0.20 seconds...\n",
      "Too Many Requests, waiting for 0.40 seconds...\n",
      "(('medicalResearcher:fb52703d-2fe2-3919-358b-116fc5d98aa1',), {'tools': {'messages': [ToolMessage(content=\"Result for cardithoracic is: \\n[Document(metadata={'uid': '38899092', 'Title': 'A new approach to surgical correction of double-outlet right ventricle with remote interventricular communication.', 'Published': '2024-03-16', 'Copyright Information': ''}, page_content='No abstract available'), Document(metadata={'uid': '34173742', 'Title': 'Congenital Lobar Emphysema: Perioperative Evaluation and Management.', 'Published': '2021-06-11', 'Copyright Information': ''}, page_content='BACKGROUND: Congenital lobar emphysema (CLE) is a lung malformation characterized by overdistension and air trapping in the affected lobe. It is one of the causes of neonatal and infantile respiratory distress. This study aimed to evaluate our experience regarding perioperative and surgical management in children with CLE.\\\\nMETHODS: A retrospective observational study was done for all CLE patients who underwent surgery at Menoufia University Hospital. Perioperative data collected included demographic, clinical, and radiological findings, as well as operative and postoperative data.\\\\nRESULTS: We included 30 neonates and infants who suffered from CLE between January 2013 and December 2020; the mean age was 111.43 ± 65.19 days, and 21 were males. All cases presented with respiratory distress; 19 had cyanosis, and 15 had recurrent pneumonia and fever. Plain chest x-ray and computed tomography (CT) revealed emphysema in all cases. Lobectomy was done in all cases; the mean age at surgery was 147.58 ± 81.49 days. Postoperative complications occurred in 5 patients, and 2 of them needed mechanical ventilation. The follow-up duration ranged from 3 months to 1 year (except 1 case lost to follow-up after 3 months), and all patients were doing well.\\\\nCONCLUSION: CLE is a rare bronchopulmonary malformation that requires a high index of clinical suspicion, especially in persistent and recurrent infantile respiratory distress. Chest CT is the most useful diagnostic modality. Early management of CLE improves outcome and prevents life-threatening complications. Surgical management is the treatment of choice in our center, without recorded mortality.'), Document(metadata={'uid': '15052212', 'Title': 'International experience with conversion from cyclosporine to tacrolimus for acute and chronic lung allograft rejection.', 'Published': '--', 'Copyright Information': ''}, page_content='OBJECTIVE: A retrospective study involving 13 institutions was performed to assess the efficacy of conversion from cyclosporine (INN: ciclosporin) to tacrolimus.\\\\nMETHODS: Data from 244 patients were analyzed. Indications for conversion were recurrent-ongoing rejection (n = 110) and stage 1 to 3 bronchiolitis obliterans syndrome (n = 134).\\\\nRESULTS: The incidence of acute rejection decreased significantly within 3 months after versus before the switch from cyclosporine to tacrolimus (P <.01). For patients with recurrent-ongoing rejection, the forced expiratory volume in 1 second decreased by 1.96% of predicted value per month (P =.08 vs zero slope) before and increased by 0.34% of predicted value per month (P =.32 vs zero slope) after conversion (P <.06). For patients with stage 1 to 3 bronchiolitis obliterans syndrome, a significant reduction of rejection episodes was observed (P <.01). In single transplant recipients a decrease of the forced expiratory volume in 1 second averaged 2.25% of predicted value per month (P <.01 vs zero slope) before and 0.29% of predicted value per month after conversion. Corresponding values for bilateral transplant recipients were 3.7% of predicted value per month (P <.01 vs zero slope) and 0.9% of predicted value per month (P = 0.04 vs zero slope), respectively. No significant difference in the incidence of infections within 3 months before and after conversion was observed.\\\\nCONCLUSIONS: Conversion from cyclosporine to tacrolimus after lung transplantation is associated with reversal of recurrent-ongoing rejection. Conversion for bronchiolitis obliterans syndrome allows short-term stabilization of lung function in most patients.')]\", name='medicalResearchTool', id='43298e3a-106b-4f69-8e28-24d2f57e80ab', tool_call_id='cvxv3vnyg')]}})\n",
      "**********BELOW IS MY STATE***************\n",
      "(('medicalResearcher:fb52703d-2fe2-3919-358b-116fc5d98aa1',), {'agent': {'messages': [AIMessage(content='The term \"cardiothoracic\" refers to the medical field that focuses on the heart (cardiac) and chest cavity (thoracic). It is often associated with cardiothoracic surgery, which involves surgical procedures of the heart, lungs, and other organs within the chest cavity. Below is a summary of the documents retrieved, which are related to cardiothoracic topics:\\n\\n1. **Document 1**: This document discusses a new surgical approach to correcting double-outlet right ventricle with remote interventricular communication. It highlights a novel technique used in cardiothoracic surgery to address this congenital heart defect.\\n\\n2. **Document 2**: This document reviews the perioperative evaluation and management of congenital lobar emphysema (CLE) in children. It emphasizes the importance of early diagnosis and surgical intervention in improving outcomes for infants with this condition.\\n\\n3. **Document 3**: This document examines the international experience with converting immunosuppressive therapy from cyclosporine to tacrolimus in lung transplant patients. It focuses on the efficacy of this conversion in managing acute and chronic lung allograft rejection.\\n\\nIf you have specific questions about any of these topics or need further clarification, feel free to ask!', additional_kwargs={}, response_metadata={'token_usage': {'completion_tokens': 406, 'prompt_tokens': 1816, 'total_tokens': 2222, 'completion_time': 1.485363346, 'prompt_time': 0.139998013, 'queue_time': 0.20177696399999998, 'total_time': 1.625361359}, 'model_name': 'deepseek-r1-distill-llama-70b', 'system_fingerprint': 'fp_1bbe7845ec', 'finish_reason': 'stop', 'logprobs': None}, id='run--60ce5184-a8ad-420c-a8c7-619572c99111-0', usage_metadata={'input_tokens': 1816, 'output_tokens': 406, 'total_tokens': 2222})]}})\n",
      "**********BELOW IS MY STATE***************\n",
      "((), {'medicalResearcher': {'messages': [HumanMessage(content='The term \"cardiothoracic\" refers to the medical field that focuses on the heart (cardiac) and chest cavity (thoracic). It is often associated with cardiothoracic surgery, which involves surgical procedures of the heart, lungs, and other organs within the chest cavity. Below is a summary of the documents retrieved, which are related to cardiothoracic topics:\\n\\n1. **Document 1**: This document discusses a new surgical approach to correcting double-outlet right ventricle with remote interventricular communication. It highlights a novel technique used in cardiothoracic surgery to address this congenital heart defect.\\n\\n2. **Document 2**: This document reviews the perioperative evaluation and management of congenital lobar emphysema (CLE) in children. It emphasizes the importance of early diagnosis and surgical intervention in improving outcomes for infants with this condition.\\n\\n3. **Document 3**: This document examines the international experience with converting immunosuppressive therapy from cyclosporine to tacrolimus in lung transplant patients. It focuses on the efficacy of this conversion in managing acute and chronic lung allograft rejection.\\n\\nIf you have specific questions about any of these topics or need further clarification, feel free to ask!', additional_kwargs={}, response_metadata={}, name='medicalResearcher')]}})\n",
      "**********BELOW IS MY STATE***************\n",
      "response\n",
      "{'next': 'medicalResearcher'}\n",
      "**********BELOW IS MY GOTO***************\n",
      "medicalResearcher\n",
      "((), {'ResearchSupervisor': {'next': 'medicalResearcher'}})\n",
      "**********BELOW IS MY STATE***************\n",
      "(('medicalResearcher:752b4c30-cd3e-e38d-5a82-bee675f5d0f9',), {'agent': {'messages': [AIMessage(content='', additional_kwargs={'tool_calls': [{'id': 'qrr7vy2jm', 'function': {'arguments': '{\"query\":\"cardiothoracic surgery\"}', 'name': 'medicalResearchTool'}, 'type': 'function'}]}, response_metadata={'token_usage': {'completion_tokens': 27, 'prompt_tokens': 1093, 'total_tokens': 1120, 'completion_time': 0.102454885, 'prompt_time': 0.082751041, 'queue_time': 0.20111767900000002, 'total_time': 0.185205926}, 'model_name': 'deepseek-r1-distill-llama-70b', 'system_fingerprint': 'fp_1bbe7845ec', 'finish_reason': 'tool_calls', 'logprobs': None}, id='run--1261a99d-ffec-4717-b8ba-75783d45b503-0', tool_calls=[{'name': 'medicalResearchTool', 'args': {'query': 'cardiothoracic surgery'}, 'id': 'qrr7vy2jm', 'type': 'tool_call'}], usage_metadata={'input_tokens': 1093, 'output_tokens': 27, 'total_tokens': 1120})]}})\n",
      "**********BELOW IS MY STATE***************\n",
      "Too Many Requests, waiting for 0.20 seconds...\n",
      "Too Many Requests, waiting for 0.40 seconds...\n",
      "(('medicalResearcher:752b4c30-cd3e-e38d-5a82-bee675f5d0f9',), {'tools': {'messages': [ToolMessage(content='Result for cardiothoracic surgery is: \\n[Document(metadata={\\'uid\\': \\'40606751\\', \\'Title\\': \\'Hypoimmune CD19 CAR T cells treat allogeneic mice with features of spontaneous systemic lupus erythematosus.\\', \\'Published\\': \\'2025-05-31\\', \\'Copyright Information\\': \\'© 2025 The Author(s).\\'}, page_content=\\'Hypoimmune (HIP) MHC class I- and II-deficient and CD47-overexpressing CD19 CAR T cells were generated and tested in an allogeneic NZB/W mouse model of spontaneous systemic lupus erythematosus with established disease. HIP CAR T cells showed persistent engraftment, achieved lasting deep tissue B cell depletion, diminished antibody levels and systemic pro-inflammatory cytokine levels, mitigated proteinuria and glucosuria, alleviated structural kidney injury, and improved survival after 21 weeks. HIP CAR T cells did not induce any immune activation in this fully allogeneic model and thus completely escaped allorejection. In contrast, MHC-replete, non-HIP-edited wild-type (WT) CD19 CAR T cells induced a strong adaptive immune response and vanished quickly without inducing meaningful B cell depletion and without improving disease markers or survival. Conditioning of NZB/W mice with irradiation did not enhance the HIP CAR T cell efficacy and might hint at their potency for autoimmune patients without prior lymphodepletion.\\'), Document(metadata={\\'uid\\': \\'40606299\\', \\'Title\\': \\'Post-operative management of children after lung transplantation.\\', \\'Published\\': \\'2025-05-27\\', \\'Copyright Information\\': \\'© 2025 International Society for Heart and Lung Transplantation.\\'}, page_content=\\'Post-operative care for children and adolescents who undergo lung transplantation is a challenge because of the potential for numerous complications during this period, which can considerably impact the short- and long-term outcomes. The immediate post-operative phase is particularly critical, and complications are frequent; therefore, knowledge, early recognition, and appropriate treatment of these complications are imperative and can only be achieved through close collaboration between a wide range of medical specialties. The aim of this review is to provide an abbreviated overview of the optimal post-operative management of children in an intensive care unit, as well as to describe frequently occurring complications and their treatment.\\'), Document(metadata={\\'uid\\': \\'40606298\\', \\'Title\\': \\'Sizing in lung transplantation: principles, practices and ideas for the future.\\', \\'Published\\': \\'2025-05-30\\', \\'Copyright Information\\': \\'© 2025 The Authors.\\'}, page_content=\\'Lung transplantation (LTx) is an important treatment option for many end-stage lung diseases. The goal of LTx is to restore pulmonary physiology (gas exchange and respiratory system mechanics) towards normal, so that LTx recipients can experience an improved quality of life and live significantly longer. An optimized approach to donor-to-recipient size matching is a strategy to increase opportunities for successful transplants and optimize outcomes. In this review we discuss relevant pulmonary gas exchange and respiratory systems mechanics principles as a framework to optimize donor-to-recipient size matching and LTX-recipient management. The predicted total lung capacity (pTLC) is a refined estimate of organ size utilizing regression equations to calculate lung size based on height, sex and age. In general, irrespective of the underlying lung disease the chest cavity is \"reverse remolding\" back towards normal size in most recipients. The parameter that can reflect the sizing goal to restore physiology towards normal is the recipient pTLC. A pragmatic size matching metric is the donor-to-recipient pTLC-ratio. Significant undersizing based on the pTLC-ratio is a risk factor for complications and lower LTx survival. If significant changes to the LTx candidate\\\\\\'s chest cavity size occur (as can occur in severe restrictive lung disease or severe emphysema), or if the chest cavity cannot \"reverse remodel\" towards normal, it is important to consider additional donor-to-recipient sizing metrics. In addition to the recipient\\\\\\'s measured actual total lung capacity imaging-based metrics can be considered. Chest X-ray and computer tomography based volumetric analyses can provide information facilitating a successful LTx.\\')]', name='medicalResearchTool', id='ac135e75-e8df-4c6b-ae58-e789afe5730f', tool_call_id='qrr7vy2jm')]}})\n",
      "**********BELOW IS MY STATE***************\n",
      "(('medicalResearcher:752b4c30-cd3e-e38d-5a82-bee675f5d0f9',), {'agent': {'messages': [AIMessage(content='The term \"cardiothoracic\" refers to the medical field that focuses on the heart (cardiac) and chest cavity (thoracic). It is often associated with cardiothoracic surgery, which involves surgical procedures of the heart, lungs, and other organs within the chest cavity. Below is a summary of the relevant documents retrieved:\\n\\n1. **Document 2**: This document reviews the post-operative management of children after lung transplantation. It emphasizes the importance of close collaboration between medical specialties to manage complications and improve outcomes.\\n\\n2. **Document 3**: This document explores sizing principles in lung transplantation, focusing on donor-to-recipient size matching to optimize outcomes. It discusses the use of predicted total lung capacity (pTLC) and other metrics to ensure successful transplants.\\n\\nIf you have specific questions about cardiothoracic surgery or any of these topics, feel free to ask!', additional_kwargs={}, response_metadata={'token_usage': {'completion_tokens': 375, 'prompt_tokens': 1999, 'total_tokens': 2374, 'completion_time': 1.379153868, 'prompt_time': 0.153007611, 'queue_time': 0.20189377400000003, 'total_time': 1.532161479}, 'model_name': 'deepseek-r1-distill-llama-70b', 'system_fingerprint': 'fp_1bbe7845ec', 'finish_reason': 'stop', 'logprobs': None}, id='run--645533d7-717d-486a-800b-df133dcd6cbf-0', usage_metadata={'input_tokens': 1999, 'output_tokens': 375, 'total_tokens': 2374})]}})\n",
      "**********BELOW IS MY STATE***************\n",
      "((), {'medicalResearcher': {'messages': [HumanMessage(content='The term \"cardiothoracic\" refers to the medical field that focuses on the heart (cardiac) and chest cavity (thoracic). It is often associated with cardiothoracic surgery, which involves surgical procedures of the heart, lungs, and other organs within the chest cavity. Below is a summary of the relevant documents retrieved:\\n\\n1. **Document 2**: This document reviews the post-operative management of children after lung transplantation. It emphasizes the importance of close collaboration between medical specialties to manage complications and improve outcomes.\\n\\n2. **Document 3**: This document explores sizing principles in lung transplantation, focusing on donor-to-recipient size matching to optimize outcomes. It discusses the use of predicted total lung capacity (pTLC) and other metrics to ensure successful transplants.\\n\\nIf you have specific questions about cardiothoracic surgery or any of these topics, feel free to ask!', additional_kwargs={}, response_metadata={}, name='medicalResearcher')]}})\n",
      "**********BELOW IS MY STATE***************\n",
      "response\n",
      "{'next': 'medicalResearcher'}\n",
      "**********BELOW IS MY GOTO***************\n",
      "medicalResearcher\n",
      "((), {'ResearchSupervisor': {'next': 'medicalResearcher'}})\n",
      "**********BELOW IS MY STATE***************\n",
      "(('medicalResearcher:ae9c5c6b-d25f-8635-166c-2c1cca6585ea',), {'agent': {'messages': [AIMessage(content='', additional_kwargs={'tool_calls': [{'id': 'a2xm2w8j5', 'function': {'arguments': '{\"query\":\"cardithoracic\"}', 'name': 'medicalResearchTool'}, 'type': 'function'}]}, response_metadata={'token_usage': {'completion_tokens': 25, 'prompt_tokens': 1274, 'total_tokens': 1299, 'completion_time': 0.100851337, 'prompt_time': 0.097351268, 'queue_time': 0.201261174, 'total_time': 0.198202605}, 'model_name': 'deepseek-r1-distill-llama-70b', 'system_fingerprint': 'fp_1bbe7845ec', 'finish_reason': 'tool_calls', 'logprobs': None}, id='run--5c4b7d17-aa0d-4544-a973-2174ad587f3b-0', tool_calls=[{'name': 'medicalResearchTool', 'args': {'query': 'cardithoracic'}, 'id': 'a2xm2w8j5', 'type': 'tool_call'}], usage_metadata={'input_tokens': 1274, 'output_tokens': 25, 'total_tokens': 1299})]}})\n",
      "**********BELOW IS MY STATE***************\n",
      "Too Many Requests, waiting for 0.20 seconds...\n",
      "Too Many Requests, waiting for 0.40 seconds...\n",
      "(('medicalResearcher:ae9c5c6b-d25f-8635-166c-2c1cca6585ea',), {'tools': {'messages': [ToolMessage(content=\"Result for cardithoracic is: \\n[Document(metadata={'uid': '38899092', 'Title': 'A new approach to surgical correction of double-outlet right ventricle with remote interventricular communication.', 'Published': '2024-03-16', 'Copyright Information': ''}, page_content='No abstract available'), Document(metadata={'uid': '34173742', 'Title': 'Congenital Lobar Emphysema: Perioperative Evaluation and Management.', 'Published': '2021-06-11', 'Copyright Information': ''}, page_content='BACKGROUND: Congenital lobar emphysema (CLE) is a lung malformation characterized by overdistension and air trapping in the affected lobe. It is one of the causes of neonatal and infantile respiratory distress. This study aimed to evaluate our experience regarding perioperative and surgical management in children with CLE.\\\\nMETHODS: A retrospective observational study was done for all CLE patients who underwent surgery at Menoufia University Hospital. Perioperative data collected included demographic, clinical, and radiological findings, as well as operative and postoperative data.\\\\nRESULTS: We included 30 neonates and infants who suffered from CLE between January 2013 and December 2020; the mean age was 111.43 ± 65.19 days, and 21 were males. All cases presented with respiratory distress; 19 had cyanosis, and 15 had recurrent pneumonia and fever. Plain chest x-ray and computed tomography (CT) revealed emphysema in all cases. Lobectomy was done in all cases; the mean age at surgery was 147.58 ± 81.49 days. Postoperative complications occurred in 5 patients, and 2 of them needed mechanical ventilation. The follow-up duration ranged from 3 months to 1 year (except 1 case lost to follow-up after 3 months), and all patients were doing well.\\\\nCONCLUSION: CLE is a rare bronchopulmonary malformation that requires a high index of clinical suspicion, especially in persistent and recurrent infantile respiratory distress. Chest CT is the most useful diagnostic modality. Early management of CLE improves outcome and prevents life-threatening complications. Surgical management is the treatment of choice in our center, without recorded mortality.'), Document(metadata={'uid': '15052212', 'Title': 'International experience with conversion from cyclosporine to tacrolimus for acute and chronic lung allograft rejection.', 'Published': '--', 'Copyright Information': ''}, page_content='OBJECTIVE: A retrospective study involving 13 institutions was performed to assess the efficacy of conversion from cyclosporine (INN: ciclosporin) to tacrolimus.\\\\nMETHODS: Data from 244 patients were analyzed. Indications for conversion were recurrent-ongoing rejection (n = 110) and stage 1 to 3 bronchiolitis obliterans syndrome (n = 134).\\\\nRESULTS: The incidence of acute rejection decreased significantly within 3 months after versus before the switch from cyclosporine to tacrolimus (P <.01). For patients with recurrent-ongoing rejection, the forced expiratory volume in 1 second decreased by 1.96% of predicted value per month (P =.08 vs zero slope) before and increased by 0.34% of predicted value per month (P =.32 vs zero slope) after conversion (P <.06). For patients with stage 1 to 3 bronchiolitis obliterans syndrome, a significant reduction of rejection episodes was observed (P <.01). In single transplant recipients a decrease of the forced expiratory volume in 1 second averaged 2.25% of predicted value per month (P <.01 vs zero slope) before and 0.29% of predicted value per month after conversion. Corresponding values for bilateral transplant recipients were 3.7% of predicted value per month (P <.01 vs zero slope) and 0.9% of predicted value per month (P = 0.04 vs zero slope), respectively. No significant difference in the incidence of infections within 3 months before and after conversion was observed.\\\\nCONCLUSIONS: Conversion from cyclosporine to tacrolimus after lung transplantation is associated with reversal of recurrent-ongoing rejection. Conversion for bronchiolitis obliterans syndrome allows short-term stabilization of lung function in most patients.')]\", name='medicalResearchTool', id='d2e2b5df-f7d4-4f50-abf2-73a1452cd7a6', tool_call_id='a2xm2w8j5')]}})\n",
      "**********BELOW IS MY STATE***************\n",
      "(('medicalResearcher:ae9c5c6b-d25f-8635-166c-2c1cca6585ea',), {'agent': {'messages': [AIMessage(content='The term \"cardiothoracic\" refers to the medical field focusing on the heart (cardiac) and chest cavity (thoracic). It is often associated with cardiothoracic surgery, involving procedures on the heart, lungs, and other chest organs. Here\\'s a summary of the retrieved documents related to cardiothoracic topics:\\n\\n1. **Document 1**: Discusses a new surgical approach for correcting double-outlet right ventricle with remote interventricular communication, highlighting a novel cardiothoracic surgical technique for this congenital heart defect.\\n\\n2. **Document 2**: Reviews the perioperative management of congenital lobar emphysema (CLE) in children, emphasizing early diagnosis and surgical intervention to improve outcomes.\\n\\n3. **Document 3**: Examines the international experience with converting immunosuppressive therapy from cyclosporine to tacrolimus in lung transplant patients, focusing on managing acute and chronic lung allograft rejection.\\n\\nIf you have specific questions about these topics or need further clarification, feel free to ask!', additional_kwargs={}, response_metadata={'token_usage': {'completion_tokens': 428, 'prompt_tokens': 2251, 'total_tokens': 2679, 'completion_time': 1.556363636, 'prompt_time': 0.177503794, 'queue_time': 0.20207535999999998, 'total_time': 1.73386743}, 'model_name': 'deepseek-r1-distill-llama-70b', 'system_fingerprint': 'fp_1bbe7845ec', 'finish_reason': 'stop', 'logprobs': None}, id='run--87c35271-0ae7-4747-a27a-a2d1d3684a77-0', usage_metadata={'input_tokens': 2251, 'output_tokens': 428, 'total_tokens': 2679})]}})\n",
      "**********BELOW IS MY STATE***************\n",
      "((), {'medicalResearcher': {'messages': [HumanMessage(content='The term \"cardiothoracic\" refers to the medical field focusing on the heart (cardiac) and chest cavity (thoracic). It is often associated with cardiothoracic surgery, involving procedures on the heart, lungs, and other chest organs. Here\\'s a summary of the retrieved documents related to cardiothoracic topics:\\n\\n1. **Document 1**: Discusses a new surgical approach for correcting double-outlet right ventricle with remote interventricular communication, highlighting a novel cardiothoracic surgical technique for this congenital heart defect.\\n\\n2. **Document 2**: Reviews the perioperative management of congenital lobar emphysema (CLE) in children, emphasizing early diagnosis and surgical intervention to improve outcomes.\\n\\n3. **Document 3**: Examines the international experience with converting immunosuppressive therapy from cyclosporine to tacrolimus in lung transplant patients, focusing on managing acute and chronic lung allograft rejection.\\n\\nIf you have specific questions about these topics or need further clarification, feel free to ask!', additional_kwargs={}, response_metadata={}, name='medicalResearcher')]}})\n",
      "**********BELOW IS MY STATE***************\n"
     ]
    },
    {
     "ename": "BadRequestError",
     "evalue": "Error code: 400 - {'error': {'message': \"Failed to call a function. Please adjust your prompt. See 'failed_generation' for more details.\", 'type': 'invalid_request_error', 'code': 'tool_use_failed', 'failed_generation': ''}}",
     "output_type": "error",
     "traceback": [
      "\u001b[31m---------------------------------------------------------------------------\u001b[39m",
      "\u001b[31mBadRequestError\u001b[39m                           Traceback (most recent call last)",
      "\u001b[36mCell\u001b[39m\u001b[36m \u001b[39m\u001b[32mIn[31]\u001b[39m\u001b[32m, line 1\u001b[39m\n\u001b[32m----> \u001b[39m\u001b[32m1\u001b[39m \u001b[38;5;28;43;01mfor\u001b[39;49;00m\u001b[43m \u001b[49m\u001b[43ms\u001b[49m\u001b[43m \u001b[49m\u001b[38;5;129;43;01min\u001b[39;49;00m\u001b[43m \u001b[49m\u001b[43mapp\u001b[49m\u001b[43m.\u001b[49m\u001b[43mstream\u001b[49m\u001b[43m(\u001b[49m\u001b[43m{\u001b[49m\u001b[33;43m\"\u001b[39;49m\u001b[33;43mmessages\u001b[39;49m\u001b[33;43m\"\u001b[39;49m\u001b[43m:\u001b[49m\u001b[43m \u001b[49m\u001b[43m[\u001b[49m\u001b[43m(\u001b[49m\u001b[33;43m\"\u001b[39;49m\u001b[33;43muser\u001b[39;49m\u001b[33;43m\"\u001b[39;49m\u001b[43m,\u001b[49m\u001b[43m \u001b[49m\u001b[33;43m\"\u001b[39;49m\u001b[33;43mWhat\u001b[39;49m\u001b[33;43m'\u001b[39;49m\u001b[33;43ms the cardithoracic?\u001b[39;49m\u001b[33;43m\"\u001b[39;49m\u001b[43m)\u001b[49m\u001b[43m]\u001b[49m\u001b[43m}\u001b[49m\u001b[43m,\u001b[49m\u001b[43m \u001b[49m\u001b[43msubgraphs\u001b[49m\u001b[43m=\u001b[49m\u001b[38;5;28;43;01mTrue\u001b[39;49;00m\u001b[43m)\u001b[49m\u001b[43m:\u001b[49m\n\u001b[32m      2\u001b[39m \u001b[43m    \u001b[49m\u001b[38;5;28;43mprint\u001b[39;49m\u001b[43m(\u001b[49m\u001b[43ms\u001b[49m\u001b[43m)\u001b[49m\n\u001b[32m      3\u001b[39m \u001b[43m    \u001b[49m\u001b[38;5;28;43mprint\u001b[39;49m\u001b[43m(\u001b[49m\u001b[33;43m\"\u001b[39;49m\u001b[33;43m**********BELOW IS MY STATE***************\u001b[39;49m\u001b[33;43m\"\u001b[39;49m\u001b[43m)\u001b[49m\n",
      "\u001b[36mFile \u001b[39m\u001b[32m~/Documents/mriduladata/agenticAICourse/venv/lib/python3.13/site-packages/langgraph/pregel/__init__.py:2436\u001b[39m, in \u001b[36mPregel.stream\u001b[39m\u001b[34m(self, input, config, stream_mode, output_keys, interrupt_before, interrupt_after, checkpoint_during, debug, subgraphs)\u001b[39m\n\u001b[32m   2434\u001b[39m         \u001b[38;5;28;01mfor\u001b[39;00m task \u001b[38;5;129;01min\u001b[39;00m loop.match_cached_writes():\n\u001b[32m   2435\u001b[39m             loop.output_writes(task.id, task.writes, cached=\u001b[38;5;28;01mTrue\u001b[39;00m)\n\u001b[32m-> \u001b[39m\u001b[32m2436\u001b[39m \u001b[43m        \u001b[49m\u001b[38;5;28;43;01mfor\u001b[39;49;00m\u001b[43m \u001b[49m\u001b[43m_\u001b[49m\u001b[43m \u001b[49m\u001b[38;5;129;43;01min\u001b[39;49;00m\u001b[43m \u001b[49m\u001b[43mrunner\u001b[49m\u001b[43m.\u001b[49m\u001b[43mtick\u001b[49m\u001b[43m(\u001b[49m\n\u001b[32m   2437\u001b[39m \u001b[43m            \u001b[49m\u001b[43m[\u001b[49m\u001b[43mt\u001b[49m\u001b[43m \u001b[49m\u001b[38;5;28;43;01mfor\u001b[39;49;00m\u001b[43m \u001b[49m\u001b[43mt\u001b[49m\u001b[43m \u001b[49m\u001b[38;5;129;43;01min\u001b[39;49;00m\u001b[43m \u001b[49m\u001b[43mloop\u001b[49m\u001b[43m.\u001b[49m\u001b[43mtasks\u001b[49m\u001b[43m.\u001b[49m\u001b[43mvalues\u001b[49m\u001b[43m(\u001b[49m\u001b[43m)\u001b[49m\u001b[43m \u001b[49m\u001b[38;5;28;43;01mif\u001b[39;49;00m\u001b[43m \u001b[49m\u001b[38;5;129;43;01mnot\u001b[39;49;00m\u001b[43m \u001b[49m\u001b[43mt\u001b[49m\u001b[43m.\u001b[49m\u001b[43mwrites\u001b[49m\u001b[43m]\u001b[49m\u001b[43m,\u001b[49m\n\u001b[32m   2438\u001b[39m \u001b[43m            \u001b[49m\u001b[43mtimeout\u001b[49m\u001b[43m=\u001b[49m\u001b[38;5;28;43mself\u001b[39;49m\u001b[43m.\u001b[49m\u001b[43mstep_timeout\u001b[49m\u001b[43m,\u001b[49m\n\u001b[32m   2439\u001b[39m \u001b[43m            \u001b[49m\u001b[43mget_waiter\u001b[49m\u001b[43m=\u001b[49m\u001b[43mget_waiter\u001b[49m\u001b[43m,\u001b[49m\n\u001b[32m   2440\u001b[39m \u001b[43m            \u001b[49m\u001b[43mschedule_task\u001b[49m\u001b[43m=\u001b[49m\u001b[43mloop\u001b[49m\u001b[43m.\u001b[49m\u001b[43maccept_push\u001b[49m\u001b[43m,\u001b[49m\n\u001b[32m   2441\u001b[39m \u001b[43m        \u001b[49m\u001b[43m)\u001b[49m\u001b[43m:\u001b[49m\n\u001b[32m   2442\u001b[39m \u001b[43m            \u001b[49m\u001b[38;5;66;43;03m# emit output\u001b[39;49;00m\n\u001b[32m   2443\u001b[39m \u001b[43m            \u001b[49m\u001b[38;5;28;43;01myield from\u001b[39;49;00m\u001b[43m \u001b[49m\u001b[43moutput\u001b[49m\u001b[43m(\u001b[49m\u001b[43m)\u001b[49m\n\u001b[32m   2444\u001b[39m \u001b[38;5;66;03m# emit output\u001b[39;00m\n",
      "\u001b[36mCell\u001b[39m\u001b[36m \u001b[39m\u001b[32mIn[27]\u001b[39m\u001b[32m, line 7\u001b[39m, in \u001b[36mresearchSupervisor_agent\u001b[39m\u001b[34m(state)\u001b[39m\n\u001b[32m      3\u001b[39m messages = [{\u001b[33m\"\u001b[39m\u001b[33mrole\u001b[39m\u001b[33m\"\u001b[39m: \u001b[33m\"\u001b[39m\u001b[33msystem\u001b[39m\u001b[33m\"\u001b[39m, \u001b[33m\"\u001b[39m\u001b[33mcontent\u001b[39m\u001b[33m\"\u001b[39m: research_system_prompt},] + state[\u001b[33m\"\u001b[39m\u001b[33mmessages\u001b[39m\u001b[33m\"\u001b[39m]\n\u001b[32m      5\u001b[39m llm_with_structure_output=llm.with_structured_output(ResearchRouter)\n\u001b[32m----> \u001b[39m\u001b[32m7\u001b[39m response=\u001b[43mllm_with_structure_output\u001b[49m\u001b[43m.\u001b[49m\u001b[43minvoke\u001b[49m\u001b[43m(\u001b[49m\u001b[43mmessages\u001b[49m\u001b[43m)\u001b[49m\n\u001b[32m      8\u001b[39m \u001b[38;5;28mprint\u001b[39m(\u001b[33m\"\u001b[39m\u001b[33mresponse\u001b[39m\u001b[33m\"\u001b[39m)\n\u001b[32m      9\u001b[39m \u001b[38;5;28mprint\u001b[39m(response)\n",
      "\u001b[36mFile \u001b[39m\u001b[32m~/Documents/mriduladata/agenticAICourse/venv/lib/python3.13/site-packages/langchain_core/runnables/base.py:3045\u001b[39m, in \u001b[36mRunnableSequence.invoke\u001b[39m\u001b[34m(self, input, config, **kwargs)\u001b[39m\n\u001b[32m   3043\u001b[39m \u001b[38;5;28;01mwith\u001b[39;00m set_config_context(config) \u001b[38;5;28;01mas\u001b[39;00m context:\n\u001b[32m   3044\u001b[39m     \u001b[38;5;28;01mif\u001b[39;00m i == \u001b[32m0\u001b[39m:\n\u001b[32m-> \u001b[39m\u001b[32m3045\u001b[39m         input_ = \u001b[43mcontext\u001b[49m\u001b[43m.\u001b[49m\u001b[43mrun\u001b[49m\u001b[43m(\u001b[49m\u001b[43mstep\u001b[49m\u001b[43m.\u001b[49m\u001b[43minvoke\u001b[49m\u001b[43m,\u001b[49m\u001b[43m \u001b[49m\u001b[43minput_\u001b[49m\u001b[43m,\u001b[49m\u001b[43m \u001b[49m\u001b[43mconfig\u001b[49m\u001b[43m,\u001b[49m\u001b[43m \u001b[49m\u001b[43m*\u001b[49m\u001b[43m*\u001b[49m\u001b[43mkwargs\u001b[49m\u001b[43m)\u001b[49m\n\u001b[32m   3046\u001b[39m     \u001b[38;5;28;01melse\u001b[39;00m:\n\u001b[32m   3047\u001b[39m         input_ = context.run(step.invoke, input_, config)\n",
      "\u001b[36mFile \u001b[39m\u001b[32m~/Documents/mriduladata/agenticAICourse/venv/lib/python3.13/site-packages/langchain_core/runnables/base.py:5431\u001b[39m, in \u001b[36mRunnableBindingBase.invoke\u001b[39m\u001b[34m(self, input, config, **kwargs)\u001b[39m\n\u001b[32m   5424\u001b[39m \u001b[38;5;129m@override\u001b[39m\n\u001b[32m   5425\u001b[39m \u001b[38;5;28;01mdef\u001b[39;00m\u001b[38;5;250m \u001b[39m\u001b[34minvoke\u001b[39m(\n\u001b[32m   5426\u001b[39m     \u001b[38;5;28mself\u001b[39m,\n\u001b[32m   (...)\u001b[39m\u001b[32m   5429\u001b[39m     **kwargs: Optional[Any],\n\u001b[32m   5430\u001b[39m ) -> Output:\n\u001b[32m-> \u001b[39m\u001b[32m5431\u001b[39m     \u001b[38;5;28;01mreturn\u001b[39;00m \u001b[38;5;28;43mself\u001b[39;49m\u001b[43m.\u001b[49m\u001b[43mbound\u001b[49m\u001b[43m.\u001b[49m\u001b[43minvoke\u001b[49m\u001b[43m(\u001b[49m\n\u001b[32m   5432\u001b[39m \u001b[43m        \u001b[49m\u001b[38;5;28;43minput\u001b[39;49m\u001b[43m,\u001b[49m\n\u001b[32m   5433\u001b[39m \u001b[43m        \u001b[49m\u001b[38;5;28;43mself\u001b[39;49m\u001b[43m.\u001b[49m\u001b[43m_merge_configs\u001b[49m\u001b[43m(\u001b[49m\u001b[43mconfig\u001b[49m\u001b[43m)\u001b[49m\u001b[43m,\u001b[49m\n\u001b[32m   5434\u001b[39m \u001b[43m        \u001b[49m\u001b[43m*\u001b[49m\u001b[43m*\u001b[49m\u001b[43m{\u001b[49m\u001b[43m*\u001b[49m\u001b[43m*\u001b[49m\u001b[38;5;28;43mself\u001b[39;49m\u001b[43m.\u001b[49m\u001b[43mkwargs\u001b[49m\u001b[43m,\u001b[49m\u001b[43m \u001b[49m\u001b[43m*\u001b[49m\u001b[43m*\u001b[49m\u001b[43mkwargs\u001b[49m\u001b[43m}\u001b[49m\u001b[43m,\u001b[49m\n\u001b[32m   5435\u001b[39m \u001b[43m    \u001b[49m\u001b[43m)\u001b[49m\n",
      "\u001b[36mFile \u001b[39m\u001b[32m~/Documents/mriduladata/agenticAICourse/venv/lib/python3.13/site-packages/langchain_core/language_models/chat_models.py:372\u001b[39m, in \u001b[36mBaseChatModel.invoke\u001b[39m\u001b[34m(self, input, config, stop, **kwargs)\u001b[39m\n\u001b[32m    360\u001b[39m \u001b[38;5;129m@override\u001b[39m\n\u001b[32m    361\u001b[39m \u001b[38;5;28;01mdef\u001b[39;00m\u001b[38;5;250m \u001b[39m\u001b[34minvoke\u001b[39m(\n\u001b[32m    362\u001b[39m     \u001b[38;5;28mself\u001b[39m,\n\u001b[32m   (...)\u001b[39m\u001b[32m    367\u001b[39m     **kwargs: Any,\n\u001b[32m    368\u001b[39m ) -> BaseMessage:\n\u001b[32m    369\u001b[39m     config = ensure_config(config)\n\u001b[32m    370\u001b[39m     \u001b[38;5;28;01mreturn\u001b[39;00m cast(\n\u001b[32m    371\u001b[39m         \u001b[33m\"\u001b[39m\u001b[33mChatGeneration\u001b[39m\u001b[33m\"\u001b[39m,\n\u001b[32m--> \u001b[39m\u001b[32m372\u001b[39m         \u001b[38;5;28;43mself\u001b[39;49m\u001b[43m.\u001b[49m\u001b[43mgenerate_prompt\u001b[49m\u001b[43m(\u001b[49m\n\u001b[32m    373\u001b[39m \u001b[43m            \u001b[49m\u001b[43m[\u001b[49m\u001b[38;5;28;43mself\u001b[39;49m\u001b[43m.\u001b[49m\u001b[43m_convert_input\u001b[49m\u001b[43m(\u001b[49m\u001b[38;5;28;43minput\u001b[39;49m\u001b[43m)\u001b[49m\u001b[43m]\u001b[49m\u001b[43m,\u001b[49m\n\u001b[32m    374\u001b[39m \u001b[43m            \u001b[49m\u001b[43mstop\u001b[49m\u001b[43m=\u001b[49m\u001b[43mstop\u001b[49m\u001b[43m,\u001b[49m\n\u001b[32m    375\u001b[39m \u001b[43m            \u001b[49m\u001b[43mcallbacks\u001b[49m\u001b[43m=\u001b[49m\u001b[43mconfig\u001b[49m\u001b[43m.\u001b[49m\u001b[43mget\u001b[49m\u001b[43m(\u001b[49m\u001b[33;43m\"\u001b[39;49m\u001b[33;43mcallbacks\u001b[39;49m\u001b[33;43m\"\u001b[39;49m\u001b[43m)\u001b[49m\u001b[43m,\u001b[49m\n\u001b[32m    376\u001b[39m \u001b[43m            \u001b[49m\u001b[43mtags\u001b[49m\u001b[43m=\u001b[49m\u001b[43mconfig\u001b[49m\u001b[43m.\u001b[49m\u001b[43mget\u001b[49m\u001b[43m(\u001b[49m\u001b[33;43m\"\u001b[39;49m\u001b[33;43mtags\u001b[39;49m\u001b[33;43m\"\u001b[39;49m\u001b[43m)\u001b[49m\u001b[43m,\u001b[49m\n\u001b[32m    377\u001b[39m \u001b[43m            \u001b[49m\u001b[43mmetadata\u001b[49m\u001b[43m=\u001b[49m\u001b[43mconfig\u001b[49m\u001b[43m.\u001b[49m\u001b[43mget\u001b[49m\u001b[43m(\u001b[49m\u001b[33;43m\"\u001b[39;49m\u001b[33;43mmetadata\u001b[39;49m\u001b[33;43m\"\u001b[39;49m\u001b[43m)\u001b[49m\u001b[43m,\u001b[49m\n\u001b[32m    378\u001b[39m \u001b[43m            \u001b[49m\u001b[43mrun_name\u001b[49m\u001b[43m=\u001b[49m\u001b[43mconfig\u001b[49m\u001b[43m.\u001b[49m\u001b[43mget\u001b[49m\u001b[43m(\u001b[49m\u001b[33;43m\"\u001b[39;49m\u001b[33;43mrun_name\u001b[39;49m\u001b[33;43m\"\u001b[39;49m\u001b[43m)\u001b[49m\u001b[43m,\u001b[49m\n\u001b[32m    379\u001b[39m \u001b[43m            \u001b[49m\u001b[43mrun_id\u001b[49m\u001b[43m=\u001b[49m\u001b[43mconfig\u001b[49m\u001b[43m.\u001b[49m\u001b[43mpop\u001b[49m\u001b[43m(\u001b[49m\u001b[33;43m\"\u001b[39;49m\u001b[33;43mrun_id\u001b[39;49m\u001b[33;43m\"\u001b[39;49m\u001b[43m,\u001b[49m\u001b[43m \u001b[49m\u001b[38;5;28;43;01mNone\u001b[39;49;00m\u001b[43m)\u001b[49m\u001b[43m,\u001b[49m\n\u001b[32m    380\u001b[39m \u001b[43m            \u001b[49m\u001b[43m*\u001b[49m\u001b[43m*\u001b[49m\u001b[43mkwargs\u001b[49m\u001b[43m,\u001b[49m\n\u001b[32m    381\u001b[39m \u001b[43m        \u001b[49m\u001b[43m)\u001b[49m.generations[\u001b[32m0\u001b[39m][\u001b[32m0\u001b[39m],\n\u001b[32m    382\u001b[39m     ).message\n",
      "\u001b[36mFile \u001b[39m\u001b[32m~/Documents/mriduladata/agenticAICourse/venv/lib/python3.13/site-packages/langchain_core/language_models/chat_models.py:957\u001b[39m, in \u001b[36mBaseChatModel.generate_prompt\u001b[39m\u001b[34m(self, prompts, stop, callbacks, **kwargs)\u001b[39m\n\u001b[32m    948\u001b[39m \u001b[38;5;129m@override\u001b[39m\n\u001b[32m    949\u001b[39m \u001b[38;5;28;01mdef\u001b[39;00m\u001b[38;5;250m \u001b[39m\u001b[34mgenerate_prompt\u001b[39m(\n\u001b[32m    950\u001b[39m     \u001b[38;5;28mself\u001b[39m,\n\u001b[32m   (...)\u001b[39m\u001b[32m    954\u001b[39m     **kwargs: Any,\n\u001b[32m    955\u001b[39m ) -> LLMResult:\n\u001b[32m    956\u001b[39m     prompt_messages = [p.to_messages() \u001b[38;5;28;01mfor\u001b[39;00m p \u001b[38;5;129;01min\u001b[39;00m prompts]\n\u001b[32m--> \u001b[39m\u001b[32m957\u001b[39m     \u001b[38;5;28;01mreturn\u001b[39;00m \u001b[38;5;28;43mself\u001b[39;49m\u001b[43m.\u001b[49m\u001b[43mgenerate\u001b[49m\u001b[43m(\u001b[49m\u001b[43mprompt_messages\u001b[49m\u001b[43m,\u001b[49m\u001b[43m \u001b[49m\u001b[43mstop\u001b[49m\u001b[43m=\u001b[49m\u001b[43mstop\u001b[49m\u001b[43m,\u001b[49m\u001b[43m \u001b[49m\u001b[43mcallbacks\u001b[49m\u001b[43m=\u001b[49m\u001b[43mcallbacks\u001b[49m\u001b[43m,\u001b[49m\u001b[43m \u001b[49m\u001b[43m*\u001b[49m\u001b[43m*\u001b[49m\u001b[43mkwargs\u001b[49m\u001b[43m)\u001b[49m\n",
      "\u001b[36mFile \u001b[39m\u001b[32m~/Documents/mriduladata/agenticAICourse/venv/lib/python3.13/site-packages/langchain_core/language_models/chat_models.py:776\u001b[39m, in \u001b[36mBaseChatModel.generate\u001b[39m\u001b[34m(self, messages, stop, callbacks, tags, metadata, run_name, run_id, **kwargs)\u001b[39m\n\u001b[32m    773\u001b[39m \u001b[38;5;28;01mfor\u001b[39;00m i, m \u001b[38;5;129;01min\u001b[39;00m \u001b[38;5;28menumerate\u001b[39m(input_messages):\n\u001b[32m    774\u001b[39m     \u001b[38;5;28;01mtry\u001b[39;00m:\n\u001b[32m    775\u001b[39m         results.append(\n\u001b[32m--> \u001b[39m\u001b[32m776\u001b[39m             \u001b[38;5;28;43mself\u001b[39;49m\u001b[43m.\u001b[49m\u001b[43m_generate_with_cache\u001b[49m\u001b[43m(\u001b[49m\n\u001b[32m    777\u001b[39m \u001b[43m                \u001b[49m\u001b[43mm\u001b[49m\u001b[43m,\u001b[49m\n\u001b[32m    778\u001b[39m \u001b[43m                \u001b[49m\u001b[43mstop\u001b[49m\u001b[43m=\u001b[49m\u001b[43mstop\u001b[49m\u001b[43m,\u001b[49m\n\u001b[32m    779\u001b[39m \u001b[43m                \u001b[49m\u001b[43mrun_manager\u001b[49m\u001b[43m=\u001b[49m\u001b[43mrun_managers\u001b[49m\u001b[43m[\u001b[49m\u001b[43mi\u001b[49m\u001b[43m]\u001b[49m\u001b[43m \u001b[49m\u001b[38;5;28;43;01mif\u001b[39;49;00m\u001b[43m \u001b[49m\u001b[43mrun_managers\u001b[49m\u001b[43m \u001b[49m\u001b[38;5;28;43;01melse\u001b[39;49;00m\u001b[43m \u001b[49m\u001b[38;5;28;43;01mNone\u001b[39;49;00m\u001b[43m,\u001b[49m\n\u001b[32m    780\u001b[39m \u001b[43m                \u001b[49m\u001b[43m*\u001b[49m\u001b[43m*\u001b[49m\u001b[43mkwargs\u001b[49m\u001b[43m,\u001b[49m\n\u001b[32m    781\u001b[39m \u001b[43m            \u001b[49m\u001b[43m)\u001b[49m\n\u001b[32m    782\u001b[39m         )\n\u001b[32m    783\u001b[39m     \u001b[38;5;28;01mexcept\u001b[39;00m \u001b[38;5;167;01mBaseException\u001b[39;00m \u001b[38;5;28;01mas\u001b[39;00m e:\n\u001b[32m    784\u001b[39m         \u001b[38;5;28;01mif\u001b[39;00m run_managers:\n",
      "\u001b[36mFile \u001b[39m\u001b[32m~/Documents/mriduladata/agenticAICourse/venv/lib/python3.13/site-packages/langchain_core/language_models/chat_models.py:1022\u001b[39m, in \u001b[36mBaseChatModel._generate_with_cache\u001b[39m\u001b[34m(self, messages, stop, run_manager, **kwargs)\u001b[39m\n\u001b[32m   1020\u001b[39m     result = generate_from_stream(\u001b[38;5;28miter\u001b[39m(chunks))\n\u001b[32m   1021\u001b[39m \u001b[38;5;28;01melif\u001b[39;00m inspect.signature(\u001b[38;5;28mself\u001b[39m._generate).parameters.get(\u001b[33m\"\u001b[39m\u001b[33mrun_manager\u001b[39m\u001b[33m\"\u001b[39m):\n\u001b[32m-> \u001b[39m\u001b[32m1022\u001b[39m     result = \u001b[38;5;28;43mself\u001b[39;49m\u001b[43m.\u001b[49m\u001b[43m_generate\u001b[49m\u001b[43m(\u001b[49m\n\u001b[32m   1023\u001b[39m \u001b[43m        \u001b[49m\u001b[43mmessages\u001b[49m\u001b[43m,\u001b[49m\u001b[43m \u001b[49m\u001b[43mstop\u001b[49m\u001b[43m=\u001b[49m\u001b[43mstop\u001b[49m\u001b[43m,\u001b[49m\u001b[43m \u001b[49m\u001b[43mrun_manager\u001b[49m\u001b[43m=\u001b[49m\u001b[43mrun_manager\u001b[49m\u001b[43m,\u001b[49m\u001b[43m \u001b[49m\u001b[43m*\u001b[49m\u001b[43m*\u001b[49m\u001b[43mkwargs\u001b[49m\n\u001b[32m   1024\u001b[39m \u001b[43m    \u001b[49m\u001b[43m)\u001b[49m\n\u001b[32m   1025\u001b[39m \u001b[38;5;28;01melse\u001b[39;00m:\n\u001b[32m   1026\u001b[39m     result = \u001b[38;5;28mself\u001b[39m._generate(messages, stop=stop, **kwargs)\n",
      "\u001b[36mFile \u001b[39m\u001b[32m~/Documents/mriduladata/agenticAICourse/venv/lib/python3.13/site-packages/langchain_groq/chat_models.py:498\u001b[39m, in \u001b[36mChatGroq._generate\u001b[39m\u001b[34m(self, messages, stop, run_manager, **kwargs)\u001b[39m\n\u001b[32m    493\u001b[39m message_dicts, params = \u001b[38;5;28mself\u001b[39m._create_message_dicts(messages, stop)\n\u001b[32m    494\u001b[39m params = {\n\u001b[32m    495\u001b[39m     **params,\n\u001b[32m    496\u001b[39m     **kwargs,\n\u001b[32m    497\u001b[39m }\n\u001b[32m--> \u001b[39m\u001b[32m498\u001b[39m response = \u001b[38;5;28;43mself\u001b[39;49m\u001b[43m.\u001b[49m\u001b[43mclient\u001b[49m\u001b[43m.\u001b[49m\u001b[43mcreate\u001b[49m\u001b[43m(\u001b[49m\u001b[43mmessages\u001b[49m\u001b[43m=\u001b[49m\u001b[43mmessage_dicts\u001b[49m\u001b[43m,\u001b[49m\u001b[43m \u001b[49m\u001b[43m*\u001b[49m\u001b[43m*\u001b[49m\u001b[43mparams\u001b[49m\u001b[43m)\u001b[49m\n\u001b[32m    499\u001b[39m \u001b[38;5;28;01mreturn\u001b[39;00m \u001b[38;5;28mself\u001b[39m._create_chat_result(response)\n",
      "\u001b[36mFile \u001b[39m\u001b[32m~/Documents/mriduladata/agenticAICourse/venv/lib/python3.13/site-packages/groq/resources/chat/completions.py:368\u001b[39m, in \u001b[36mCompletions.create\u001b[39m\u001b[34m(self, messages, model, exclude_domains, frequency_penalty, function_call, functions, include_domains, logit_bias, logprobs, max_completion_tokens, max_tokens, metadata, n, parallel_tool_calls, presence_penalty, reasoning_effort, reasoning_format, response_format, search_settings, seed, service_tier, stop, store, stream, temperature, tool_choice, tools, top_logprobs, top_p, user, extra_headers, extra_query, extra_body, timeout)\u001b[39m\n\u001b[32m    181\u001b[39m \u001b[38;5;28;01mdef\u001b[39;00m\u001b[38;5;250m \u001b[39m\u001b[34mcreate\u001b[39m(\n\u001b[32m    182\u001b[39m     \u001b[38;5;28mself\u001b[39m,\n\u001b[32m    183\u001b[39m     *,\n\u001b[32m   (...)\u001b[39m\u001b[32m    229\u001b[39m     timeout: \u001b[38;5;28mfloat\u001b[39m | httpx.Timeout | \u001b[38;5;28;01mNone\u001b[39;00m | NotGiven = NOT_GIVEN,\n\u001b[32m    230\u001b[39m ) -> ChatCompletion | Stream[ChatCompletionChunk]:\n\u001b[32m    231\u001b[39m \u001b[38;5;250m    \u001b[39m\u001b[33;03m\"\"\"\u001b[39;00m\n\u001b[32m    232\u001b[39m \u001b[33;03m    Creates a model response for the given chat conversation.\u001b[39;00m\n\u001b[32m    233\u001b[39m \n\u001b[32m   (...)\u001b[39m\u001b[32m    366\u001b[39m \u001b[33;03m      timeout: Override the client-level default timeout for this request, in seconds\u001b[39;00m\n\u001b[32m    367\u001b[39m \u001b[33;03m    \"\"\"\u001b[39;00m\n\u001b[32m--> \u001b[39m\u001b[32m368\u001b[39m     \u001b[38;5;28;01mreturn\u001b[39;00m \u001b[38;5;28;43mself\u001b[39;49m\u001b[43m.\u001b[49m\u001b[43m_post\u001b[49m\u001b[43m(\u001b[49m\n\u001b[32m    369\u001b[39m \u001b[43m        \u001b[49m\u001b[33;43m\"\u001b[39;49m\u001b[33;43m/openai/v1/chat/completions\u001b[39;49m\u001b[33;43m\"\u001b[39;49m\u001b[43m,\u001b[49m\n\u001b[32m    370\u001b[39m \u001b[43m        \u001b[49m\u001b[43mbody\u001b[49m\u001b[43m=\u001b[49m\u001b[43mmaybe_transform\u001b[49m\u001b[43m(\u001b[49m\n\u001b[32m    371\u001b[39m \u001b[43m            \u001b[49m\u001b[43m{\u001b[49m\n\u001b[32m    372\u001b[39m \u001b[43m                \u001b[49m\u001b[33;43m\"\u001b[39;49m\u001b[33;43mmessages\u001b[39;49m\u001b[33;43m\"\u001b[39;49m\u001b[43m:\u001b[49m\u001b[43m \u001b[49m\u001b[43mmessages\u001b[49m\u001b[43m,\u001b[49m\n\u001b[32m    373\u001b[39m \u001b[43m                \u001b[49m\u001b[33;43m\"\u001b[39;49m\u001b[33;43mmodel\u001b[39;49m\u001b[33;43m\"\u001b[39;49m\u001b[43m:\u001b[49m\u001b[43m \u001b[49m\u001b[43mmodel\u001b[49m\u001b[43m,\u001b[49m\n\u001b[32m    374\u001b[39m \u001b[43m                \u001b[49m\u001b[33;43m\"\u001b[39;49m\u001b[33;43mexclude_domains\u001b[39;49m\u001b[33;43m\"\u001b[39;49m\u001b[43m:\u001b[49m\u001b[43m \u001b[49m\u001b[43mexclude_domains\u001b[49m\u001b[43m,\u001b[49m\n\u001b[32m    375\u001b[39m \u001b[43m                \u001b[49m\u001b[33;43m\"\u001b[39;49m\u001b[33;43mfrequency_penalty\u001b[39;49m\u001b[33;43m\"\u001b[39;49m\u001b[43m:\u001b[49m\u001b[43m \u001b[49m\u001b[43mfrequency_penalty\u001b[49m\u001b[43m,\u001b[49m\n\u001b[32m    376\u001b[39m \u001b[43m                \u001b[49m\u001b[33;43m\"\u001b[39;49m\u001b[33;43mfunction_call\u001b[39;49m\u001b[33;43m\"\u001b[39;49m\u001b[43m:\u001b[49m\u001b[43m \u001b[49m\u001b[43mfunction_call\u001b[49m\u001b[43m,\u001b[49m\n\u001b[32m    377\u001b[39m \u001b[43m                \u001b[49m\u001b[33;43m\"\u001b[39;49m\u001b[33;43mfunctions\u001b[39;49m\u001b[33;43m\"\u001b[39;49m\u001b[43m:\u001b[49m\u001b[43m \u001b[49m\u001b[43mfunctions\u001b[49m\u001b[43m,\u001b[49m\n\u001b[32m    378\u001b[39m \u001b[43m                \u001b[49m\u001b[33;43m\"\u001b[39;49m\u001b[33;43minclude_domains\u001b[39;49m\u001b[33;43m\"\u001b[39;49m\u001b[43m:\u001b[49m\u001b[43m \u001b[49m\u001b[43minclude_domains\u001b[49m\u001b[43m,\u001b[49m\n\u001b[32m    379\u001b[39m \u001b[43m                \u001b[49m\u001b[33;43m\"\u001b[39;49m\u001b[33;43mlogit_bias\u001b[39;49m\u001b[33;43m\"\u001b[39;49m\u001b[43m:\u001b[49m\u001b[43m \u001b[49m\u001b[43mlogit_bias\u001b[49m\u001b[43m,\u001b[49m\n\u001b[32m    380\u001b[39m \u001b[43m                \u001b[49m\u001b[33;43m\"\u001b[39;49m\u001b[33;43mlogprobs\u001b[39;49m\u001b[33;43m\"\u001b[39;49m\u001b[43m:\u001b[49m\u001b[43m \u001b[49m\u001b[43mlogprobs\u001b[49m\u001b[43m,\u001b[49m\n\u001b[32m    381\u001b[39m \u001b[43m                \u001b[49m\u001b[33;43m\"\u001b[39;49m\u001b[33;43mmax_completion_tokens\u001b[39;49m\u001b[33;43m\"\u001b[39;49m\u001b[43m:\u001b[49m\u001b[43m \u001b[49m\u001b[43mmax_completion_tokens\u001b[49m\u001b[43m,\u001b[49m\n\u001b[32m    382\u001b[39m \u001b[43m                \u001b[49m\u001b[33;43m\"\u001b[39;49m\u001b[33;43mmax_tokens\u001b[39;49m\u001b[33;43m\"\u001b[39;49m\u001b[43m:\u001b[49m\u001b[43m \u001b[49m\u001b[43mmax_tokens\u001b[49m\u001b[43m,\u001b[49m\n\u001b[32m    383\u001b[39m \u001b[43m                \u001b[49m\u001b[33;43m\"\u001b[39;49m\u001b[33;43mmetadata\u001b[39;49m\u001b[33;43m\"\u001b[39;49m\u001b[43m:\u001b[49m\u001b[43m \u001b[49m\u001b[43mmetadata\u001b[49m\u001b[43m,\u001b[49m\n\u001b[32m    384\u001b[39m \u001b[43m                \u001b[49m\u001b[33;43m\"\u001b[39;49m\u001b[33;43mn\u001b[39;49m\u001b[33;43m\"\u001b[39;49m\u001b[43m:\u001b[49m\u001b[43m \u001b[49m\u001b[43mn\u001b[49m\u001b[43m,\u001b[49m\n\u001b[32m    385\u001b[39m \u001b[43m                \u001b[49m\u001b[33;43m\"\u001b[39;49m\u001b[33;43mparallel_tool_calls\u001b[39;49m\u001b[33;43m\"\u001b[39;49m\u001b[43m:\u001b[49m\u001b[43m \u001b[49m\u001b[43mparallel_tool_calls\u001b[49m\u001b[43m,\u001b[49m\n\u001b[32m    386\u001b[39m \u001b[43m                \u001b[49m\u001b[33;43m\"\u001b[39;49m\u001b[33;43mpresence_penalty\u001b[39;49m\u001b[33;43m\"\u001b[39;49m\u001b[43m:\u001b[49m\u001b[43m \u001b[49m\u001b[43mpresence_penalty\u001b[49m\u001b[43m,\u001b[49m\n\u001b[32m    387\u001b[39m \u001b[43m                \u001b[49m\u001b[33;43m\"\u001b[39;49m\u001b[33;43mreasoning_effort\u001b[39;49m\u001b[33;43m\"\u001b[39;49m\u001b[43m:\u001b[49m\u001b[43m \u001b[49m\u001b[43mreasoning_effort\u001b[49m\u001b[43m,\u001b[49m\n\u001b[32m    388\u001b[39m \u001b[43m                \u001b[49m\u001b[33;43m\"\u001b[39;49m\u001b[33;43mreasoning_format\u001b[39;49m\u001b[33;43m\"\u001b[39;49m\u001b[43m:\u001b[49m\u001b[43m \u001b[49m\u001b[43mreasoning_format\u001b[49m\u001b[43m,\u001b[49m\n\u001b[32m    389\u001b[39m \u001b[43m                \u001b[49m\u001b[33;43m\"\u001b[39;49m\u001b[33;43mresponse_format\u001b[39;49m\u001b[33;43m\"\u001b[39;49m\u001b[43m:\u001b[49m\u001b[43m \u001b[49m\u001b[43mresponse_format\u001b[49m\u001b[43m,\u001b[49m\n\u001b[32m    390\u001b[39m \u001b[43m                \u001b[49m\u001b[33;43m\"\u001b[39;49m\u001b[33;43msearch_settings\u001b[39;49m\u001b[33;43m\"\u001b[39;49m\u001b[43m:\u001b[49m\u001b[43m \u001b[49m\u001b[43msearch_settings\u001b[49m\u001b[43m,\u001b[49m\n\u001b[32m    391\u001b[39m \u001b[43m                \u001b[49m\u001b[33;43m\"\u001b[39;49m\u001b[33;43mseed\u001b[39;49m\u001b[33;43m\"\u001b[39;49m\u001b[43m:\u001b[49m\u001b[43m \u001b[49m\u001b[43mseed\u001b[49m\u001b[43m,\u001b[49m\n\u001b[32m    392\u001b[39m \u001b[43m                \u001b[49m\u001b[33;43m\"\u001b[39;49m\u001b[33;43mservice_tier\u001b[39;49m\u001b[33;43m\"\u001b[39;49m\u001b[43m:\u001b[49m\u001b[43m \u001b[49m\u001b[43mservice_tier\u001b[49m\u001b[43m,\u001b[49m\n\u001b[32m    393\u001b[39m \u001b[43m                \u001b[49m\u001b[33;43m\"\u001b[39;49m\u001b[33;43mstop\u001b[39;49m\u001b[33;43m\"\u001b[39;49m\u001b[43m:\u001b[49m\u001b[43m \u001b[49m\u001b[43mstop\u001b[49m\u001b[43m,\u001b[49m\n\u001b[32m    394\u001b[39m \u001b[43m                \u001b[49m\u001b[33;43m\"\u001b[39;49m\u001b[33;43mstore\u001b[39;49m\u001b[33;43m\"\u001b[39;49m\u001b[43m:\u001b[49m\u001b[43m \u001b[49m\u001b[43mstore\u001b[49m\u001b[43m,\u001b[49m\n\u001b[32m    395\u001b[39m \u001b[43m                \u001b[49m\u001b[33;43m\"\u001b[39;49m\u001b[33;43mstream\u001b[39;49m\u001b[33;43m\"\u001b[39;49m\u001b[43m:\u001b[49m\u001b[43m \u001b[49m\u001b[43mstream\u001b[49m\u001b[43m,\u001b[49m\n\u001b[32m    396\u001b[39m \u001b[43m                \u001b[49m\u001b[33;43m\"\u001b[39;49m\u001b[33;43mtemperature\u001b[39;49m\u001b[33;43m\"\u001b[39;49m\u001b[43m:\u001b[49m\u001b[43m \u001b[49m\u001b[43mtemperature\u001b[49m\u001b[43m,\u001b[49m\n\u001b[32m    397\u001b[39m \u001b[43m                \u001b[49m\u001b[33;43m\"\u001b[39;49m\u001b[33;43mtool_choice\u001b[39;49m\u001b[33;43m\"\u001b[39;49m\u001b[43m:\u001b[49m\u001b[43m \u001b[49m\u001b[43mtool_choice\u001b[49m\u001b[43m,\u001b[49m\n\u001b[32m    398\u001b[39m \u001b[43m                \u001b[49m\u001b[33;43m\"\u001b[39;49m\u001b[33;43mtools\u001b[39;49m\u001b[33;43m\"\u001b[39;49m\u001b[43m:\u001b[49m\u001b[43m \u001b[49m\u001b[43mtools\u001b[49m\u001b[43m,\u001b[49m\n\u001b[32m    399\u001b[39m \u001b[43m                \u001b[49m\u001b[33;43m\"\u001b[39;49m\u001b[33;43mtop_logprobs\u001b[39;49m\u001b[33;43m\"\u001b[39;49m\u001b[43m:\u001b[49m\u001b[43m \u001b[49m\u001b[43mtop_logprobs\u001b[49m\u001b[43m,\u001b[49m\n\u001b[32m    400\u001b[39m \u001b[43m                \u001b[49m\u001b[33;43m\"\u001b[39;49m\u001b[33;43mtop_p\u001b[39;49m\u001b[33;43m\"\u001b[39;49m\u001b[43m:\u001b[49m\u001b[43m \u001b[49m\u001b[43mtop_p\u001b[49m\u001b[43m,\u001b[49m\n\u001b[32m    401\u001b[39m \u001b[43m                \u001b[49m\u001b[33;43m\"\u001b[39;49m\u001b[33;43muser\u001b[39;49m\u001b[33;43m\"\u001b[39;49m\u001b[43m:\u001b[49m\u001b[43m \u001b[49m\u001b[43muser\u001b[49m\u001b[43m,\u001b[49m\n\u001b[32m    402\u001b[39m \u001b[43m            \u001b[49m\u001b[43m}\u001b[49m\u001b[43m,\u001b[49m\n\u001b[32m    403\u001b[39m \u001b[43m            \u001b[49m\u001b[43mcompletion_create_params\u001b[49m\u001b[43m.\u001b[49m\u001b[43mCompletionCreateParams\u001b[49m\u001b[43m,\u001b[49m\n\u001b[32m    404\u001b[39m \u001b[43m        \u001b[49m\u001b[43m)\u001b[49m\u001b[43m,\u001b[49m\n\u001b[32m    405\u001b[39m \u001b[43m        \u001b[49m\u001b[43moptions\u001b[49m\u001b[43m=\u001b[49m\u001b[43mmake_request_options\u001b[49m\u001b[43m(\u001b[49m\n\u001b[32m    406\u001b[39m \u001b[43m            \u001b[49m\u001b[43mextra_headers\u001b[49m\u001b[43m=\u001b[49m\u001b[43mextra_headers\u001b[49m\u001b[43m,\u001b[49m\u001b[43m \u001b[49m\u001b[43mextra_query\u001b[49m\u001b[43m=\u001b[49m\u001b[43mextra_query\u001b[49m\u001b[43m,\u001b[49m\u001b[43m \u001b[49m\u001b[43mextra_body\u001b[49m\u001b[43m=\u001b[49m\u001b[43mextra_body\u001b[49m\u001b[43m,\u001b[49m\u001b[43m \u001b[49m\u001b[43mtimeout\u001b[49m\u001b[43m=\u001b[49m\u001b[43mtimeout\u001b[49m\n\u001b[32m    407\u001b[39m \u001b[43m        \u001b[49m\u001b[43m)\u001b[49m\u001b[43m,\u001b[49m\n\u001b[32m    408\u001b[39m \u001b[43m        \u001b[49m\u001b[43mcast_to\u001b[49m\u001b[43m=\u001b[49m\u001b[43mChatCompletion\u001b[49m\u001b[43m,\u001b[49m\n\u001b[32m    409\u001b[39m \u001b[43m        \u001b[49m\u001b[43mstream\u001b[49m\u001b[43m=\u001b[49m\u001b[43mstream\u001b[49m\u001b[43m \u001b[49m\u001b[38;5;129;43;01mor\u001b[39;49;00m\u001b[43m \u001b[49m\u001b[38;5;28;43;01mFalse\u001b[39;49;00m\u001b[43m,\u001b[49m\n\u001b[32m    410\u001b[39m \u001b[43m        \u001b[49m\u001b[43mstream_cls\u001b[49m\u001b[43m=\u001b[49m\u001b[43mStream\u001b[49m\u001b[43m[\u001b[49m\u001b[43mChatCompletionChunk\u001b[49m\u001b[43m]\u001b[49m\u001b[43m,\u001b[49m\n\u001b[32m    411\u001b[39m \u001b[43m    \u001b[49m\u001b[43m)\u001b[49m\n",
      "\u001b[36mFile \u001b[39m\u001b[32m~/Documents/mriduladata/agenticAICourse/venv/lib/python3.13/site-packages/groq/_base_client.py:1225\u001b[39m, in \u001b[36mSyncAPIClient.post\u001b[39m\u001b[34m(self, path, cast_to, body, options, files, stream, stream_cls)\u001b[39m\n\u001b[32m   1211\u001b[39m \u001b[38;5;28;01mdef\u001b[39;00m\u001b[38;5;250m \u001b[39m\u001b[34mpost\u001b[39m(\n\u001b[32m   1212\u001b[39m     \u001b[38;5;28mself\u001b[39m,\n\u001b[32m   1213\u001b[39m     path: \u001b[38;5;28mstr\u001b[39m,\n\u001b[32m   (...)\u001b[39m\u001b[32m   1220\u001b[39m     stream_cls: \u001b[38;5;28mtype\u001b[39m[_StreamT] | \u001b[38;5;28;01mNone\u001b[39;00m = \u001b[38;5;28;01mNone\u001b[39;00m,\n\u001b[32m   1221\u001b[39m ) -> ResponseT | _StreamT:\n\u001b[32m   1222\u001b[39m     opts = FinalRequestOptions.construct(\n\u001b[32m   1223\u001b[39m         method=\u001b[33m\"\u001b[39m\u001b[33mpost\u001b[39m\u001b[33m\"\u001b[39m, url=path, json_data=body, files=to_httpx_files(files), **options\n\u001b[32m   1224\u001b[39m     )\n\u001b[32m-> \u001b[39m\u001b[32m1225\u001b[39m     \u001b[38;5;28;01mreturn\u001b[39;00m cast(ResponseT, \u001b[38;5;28;43mself\u001b[39;49m\u001b[43m.\u001b[49m\u001b[43mrequest\u001b[49m\u001b[43m(\u001b[49m\u001b[43mcast_to\u001b[49m\u001b[43m,\u001b[49m\u001b[43m \u001b[49m\u001b[43mopts\u001b[49m\u001b[43m,\u001b[49m\u001b[43m \u001b[49m\u001b[43mstream\u001b[49m\u001b[43m=\u001b[49m\u001b[43mstream\u001b[49m\u001b[43m,\u001b[49m\u001b[43m \u001b[49m\u001b[43mstream_cls\u001b[49m\u001b[43m=\u001b[49m\u001b[43mstream_cls\u001b[49m\u001b[43m)\u001b[49m)\n",
      "\u001b[36mFile \u001b[39m\u001b[32m~/Documents/mriduladata/agenticAICourse/venv/lib/python3.13/site-packages/groq/_base_client.py:1034\u001b[39m, in \u001b[36mSyncAPIClient.request\u001b[39m\u001b[34m(self, cast_to, options, stream, stream_cls)\u001b[39m\n\u001b[32m   1031\u001b[39m             err.response.read()\n\u001b[32m   1033\u001b[39m         log.debug(\u001b[33m\"\u001b[39m\u001b[33mRe-raising status error\u001b[39m\u001b[33m\"\u001b[39m)\n\u001b[32m-> \u001b[39m\u001b[32m1034\u001b[39m         \u001b[38;5;28;01mraise\u001b[39;00m \u001b[38;5;28mself\u001b[39m._make_status_error_from_response(err.response) \u001b[38;5;28;01mfrom\u001b[39;00m\u001b[38;5;250m \u001b[39m\u001b[38;5;28;01mNone\u001b[39;00m\n\u001b[32m   1036\u001b[39m     \u001b[38;5;28;01mbreak\u001b[39;00m\n\u001b[32m   1038\u001b[39m \u001b[38;5;28;01massert\u001b[39;00m response \u001b[38;5;129;01mis\u001b[39;00m \u001b[38;5;129;01mnot\u001b[39;00m \u001b[38;5;28;01mNone\u001b[39;00m, \u001b[33m\"\u001b[39m\u001b[33mcould not resolve response (should never happen)\u001b[39m\u001b[33m\"\u001b[39m\n",
      "\u001b[31mBadRequestError\u001b[39m: Error code: 400 - {'error': {'message': \"Failed to call a function. Please adjust your prompt. See 'failed_generation' for more details.\", 'type': 'invalid_request_error', 'code': 'tool_use_failed', 'failed_generation': ''}}",
      "During task with name 'ResearchSupervisor' and id '191d6d0e-e552-906e-1b1c-14afae08bf28'"
     ]
    }
   ],
   "source": [
    "\"\"\" for s in researchApp.stream({\"messages\": [(\"user\", \"What's the cardiothoracic?\")]}, subgraphs=True):\n",
    "    print(s)\n",
    "    print(\"**********BELOW IS MY STATE***************\") \"\"\""
   ]
  },
  {
   "cell_type": "code",
   "execution_count": null,
   "id": "6ef25703",
   "metadata": {},
   "outputs": [
    {
     "name": "stdout",
     "output_type": "stream",
     "text": [
      "response\n",
      "{'next': 'medicalResearcher'}\n",
      "**********BELOW IS MY GOTO***************\n",
      "medicalResearcher\n",
      "Too Many Requests, waiting for 0.20 seconds...\n",
      "response\n",
      "{'next': 'medicalResearcher'}\n",
      "**********BELOW IS MY GOTO***************\n",
      "medicalResearcher\n",
      "Too Many Requests, waiting for 0.20 seconds...\n",
      "Too Many Requests, waiting for 0.40 seconds...\n",
      "response\n",
      "{'next': 'medicalResearcher'}\n",
      "**********BELOW IS MY GOTO***************\n",
      "medicalResearcher\n",
      "response\n",
      "{'next': 'medicalResearcher'}\n",
      "**********BELOW IS MY GOTO***************\n",
      "medicalResearcher\n"
     ]
    },
    {
     "ename": "BadRequestError",
     "evalue": "Error code: 400 - {'error': {'message': \"Failed to call a function. Please adjust your prompt. See 'failed_generation' for more details.\", 'type': 'invalid_request_error', 'code': 'tool_use_failed', 'failed_generation': ''}}",
     "output_type": "error",
     "traceback": [
      "\u001b[31m---------------------------------------------------------------------------\u001b[39m",
      "\u001b[31mBadRequestError\u001b[39m                           Traceback (most recent call last)",
      "\u001b[36mCell\u001b[39m\u001b[36m \u001b[39m\u001b[32mIn[50]\u001b[39m\u001b[32m, line 1\u001b[39m\n\u001b[32m----> \u001b[39m\u001b[32m1\u001b[39m \u001b[43mapp\u001b[49m\u001b[43m.\u001b[49m\u001b[43minvoke\u001b[49m\u001b[43m(\u001b[49m\u001b[43m{\u001b[49m\u001b[33;43m\"\u001b[39;49m\u001b[33;43mmessages\u001b[39;49m\u001b[33;43m\"\u001b[39;49m\u001b[43m:\u001b[49m\u001b[43m[\u001b[49m\u001b[43m(\u001b[49m\u001b[33;43m\"\u001b[39;49m\u001b[33;43muser\u001b[39;49m\u001b[33;43m\"\u001b[39;49m\u001b[43m,\u001b[49m\u001b[33;43m\"\u001b[39;49m\u001b[33;43mwhat is cardiothoracic?\u001b[39;49m\u001b[33;43m\"\u001b[39;49m\u001b[43m)\u001b[49m\u001b[43m]\u001b[49m\u001b[43m}\u001b[49m\u001b[43m,\u001b[49m\u001b[43msubgraphs\u001b[49m\u001b[43m=\u001b[49m\u001b[38;5;28;43;01mTrue\u001b[39;49;00m\u001b[43m)\u001b[49m\n",
      "\u001b[36mFile \u001b[39m\u001b[32m~/Documents/mriduladata/agenticAICourse/venv/lib/python3.13/site-packages/langgraph/pregel/__init__.py:2719\u001b[39m, in \u001b[36mPregel.invoke\u001b[39m\u001b[34m(self, input, config, stream_mode, output_keys, interrupt_before, interrupt_after, checkpoint_during, debug, **kwargs)\u001b[39m\n\u001b[32m   2716\u001b[39m chunks: \u001b[38;5;28mlist\u001b[39m[Union[\u001b[38;5;28mdict\u001b[39m[\u001b[38;5;28mstr\u001b[39m, Any], Any]] = []\n\u001b[32m   2717\u001b[39m interrupts: \u001b[38;5;28mlist\u001b[39m[Interrupt] = []\n\u001b[32m-> \u001b[39m\u001b[32m2719\u001b[39m \u001b[43m\u001b[49m\u001b[38;5;28;43;01mfor\u001b[39;49;00m\u001b[43m \u001b[49m\u001b[43mchunk\u001b[49m\u001b[43m \u001b[49m\u001b[38;5;129;43;01min\u001b[39;49;00m\u001b[43m \u001b[49m\u001b[38;5;28;43mself\u001b[39;49m\u001b[43m.\u001b[49m\u001b[43mstream\u001b[49m\u001b[43m(\u001b[49m\n\u001b[32m   2720\u001b[39m \u001b[43m    \u001b[49m\u001b[38;5;28;43minput\u001b[39;49m\u001b[43m,\u001b[49m\n\u001b[32m   2721\u001b[39m \u001b[43m    \u001b[49m\u001b[43mconfig\u001b[49m\u001b[43m,\u001b[49m\n\u001b[32m   2722\u001b[39m \u001b[43m    \u001b[49m\u001b[43mstream_mode\u001b[49m\u001b[43m=\u001b[49m\u001b[43mstream_mode\u001b[49m\u001b[43m,\u001b[49m\n\u001b[32m   2723\u001b[39m \u001b[43m    \u001b[49m\u001b[43moutput_keys\u001b[49m\u001b[43m=\u001b[49m\u001b[43moutput_keys\u001b[49m\u001b[43m,\u001b[49m\n\u001b[32m   2724\u001b[39m \u001b[43m    \u001b[49m\u001b[43minterrupt_before\u001b[49m\u001b[43m=\u001b[49m\u001b[43minterrupt_before\u001b[49m\u001b[43m,\u001b[49m\n\u001b[32m   2725\u001b[39m \u001b[43m    \u001b[49m\u001b[43minterrupt_after\u001b[49m\u001b[43m=\u001b[49m\u001b[43minterrupt_after\u001b[49m\u001b[43m,\u001b[49m\n\u001b[32m   2726\u001b[39m \u001b[43m    \u001b[49m\u001b[43mcheckpoint_during\u001b[49m\u001b[43m=\u001b[49m\u001b[43mcheckpoint_during\u001b[49m\u001b[43m,\u001b[49m\n\u001b[32m   2727\u001b[39m \u001b[43m    \u001b[49m\u001b[43mdebug\u001b[49m\u001b[43m=\u001b[49m\u001b[43mdebug\u001b[49m\u001b[43m,\u001b[49m\n\u001b[32m   2728\u001b[39m \u001b[43m    \u001b[49m\u001b[43m*\u001b[49m\u001b[43m*\u001b[49m\u001b[43mkwargs\u001b[49m\u001b[43m,\u001b[49m\n\u001b[32m   2729\u001b[39m \u001b[43m\u001b[49m\u001b[43m)\u001b[49m\u001b[43m:\u001b[49m\n\u001b[32m   2730\u001b[39m \u001b[43m    \u001b[49m\u001b[38;5;28;43;01mif\u001b[39;49;00m\u001b[43m \u001b[49m\u001b[43mstream_mode\u001b[49m\u001b[43m \u001b[49m\u001b[43m==\u001b[49m\u001b[43m \u001b[49m\u001b[33;43m\"\u001b[39;49m\u001b[33;43mvalues\u001b[39;49m\u001b[33;43m\"\u001b[39;49m\u001b[43m:\u001b[49m\n\u001b[32m   2731\u001b[39m \u001b[43m        \u001b[49m\u001b[38;5;28;43;01mif\u001b[39;49;00m\u001b[43m \u001b[49m\u001b[43m(\u001b[49m\n\u001b[32m   2732\u001b[39m \u001b[43m            \u001b[49m\u001b[38;5;28;43misinstance\u001b[39;49m\u001b[43m(\u001b[49m\u001b[43mchunk\u001b[49m\u001b[43m,\u001b[49m\u001b[43m \u001b[49m\u001b[38;5;28;43mdict\u001b[39;49m\u001b[43m)\u001b[49m\n\u001b[32m   2733\u001b[39m \u001b[43m            \u001b[49m\u001b[38;5;129;43;01mand\u001b[39;49;00m\u001b[43m \u001b[49m\u001b[43m(\u001b[49m\u001b[43mints\u001b[49m\u001b[43m \u001b[49m\u001b[43m:=\u001b[49m\u001b[43m \u001b[49m\u001b[43mchunk\u001b[49m\u001b[43m.\u001b[49m\u001b[43mget\u001b[49m\u001b[43m(\u001b[49m\u001b[43mINTERRUPT\u001b[49m\u001b[43m)\u001b[49m\u001b[43m)\u001b[49m\u001b[43m \u001b[49m\u001b[38;5;129;43;01mis\u001b[39;49;00m\u001b[43m \u001b[49m\u001b[38;5;129;43;01mnot\u001b[39;49;00m\u001b[43m \u001b[49m\u001b[38;5;28;43;01mNone\u001b[39;49;00m\n\u001b[32m   2734\u001b[39m \u001b[43m        \u001b[49m\u001b[43m)\u001b[49m\u001b[43m:\u001b[49m\n",
      "\u001b[36mFile \u001b[39m\u001b[32m~/Documents/mriduladata/agenticAICourse/venv/lib/python3.13/site-packages/langgraph/pregel/__init__.py:2436\u001b[39m, in \u001b[36mPregel.stream\u001b[39m\u001b[34m(self, input, config, stream_mode, output_keys, interrupt_before, interrupt_after, checkpoint_during, debug, subgraphs)\u001b[39m\n\u001b[32m   2434\u001b[39m         \u001b[38;5;28;01mfor\u001b[39;00m task \u001b[38;5;129;01min\u001b[39;00m loop.match_cached_writes():\n\u001b[32m   2435\u001b[39m             loop.output_writes(task.id, task.writes, cached=\u001b[38;5;28;01mTrue\u001b[39;00m)\n\u001b[32m-> \u001b[39m\u001b[32m2436\u001b[39m \u001b[43m        \u001b[49m\u001b[38;5;28;43;01mfor\u001b[39;49;00m\u001b[43m \u001b[49m\u001b[43m_\u001b[49m\u001b[43m \u001b[49m\u001b[38;5;129;43;01min\u001b[39;49;00m\u001b[43m \u001b[49m\u001b[43mrunner\u001b[49m\u001b[43m.\u001b[49m\u001b[43mtick\u001b[49m\u001b[43m(\u001b[49m\n\u001b[32m   2437\u001b[39m \u001b[43m            \u001b[49m\u001b[43m[\u001b[49m\u001b[43mt\u001b[49m\u001b[43m \u001b[49m\u001b[38;5;28;43;01mfor\u001b[39;49;00m\u001b[43m \u001b[49m\u001b[43mt\u001b[49m\u001b[43m \u001b[49m\u001b[38;5;129;43;01min\u001b[39;49;00m\u001b[43m \u001b[49m\u001b[43mloop\u001b[49m\u001b[43m.\u001b[49m\u001b[43mtasks\u001b[49m\u001b[43m.\u001b[49m\u001b[43mvalues\u001b[49m\u001b[43m(\u001b[49m\u001b[43m)\u001b[49m\u001b[43m \u001b[49m\u001b[38;5;28;43;01mif\u001b[39;49;00m\u001b[43m \u001b[49m\u001b[38;5;129;43;01mnot\u001b[39;49;00m\u001b[43m \u001b[49m\u001b[43mt\u001b[49m\u001b[43m.\u001b[49m\u001b[43mwrites\u001b[49m\u001b[43m]\u001b[49m\u001b[43m,\u001b[49m\n\u001b[32m   2438\u001b[39m \u001b[43m            \u001b[49m\u001b[43mtimeout\u001b[49m\u001b[43m=\u001b[49m\u001b[38;5;28;43mself\u001b[39;49m\u001b[43m.\u001b[49m\u001b[43mstep_timeout\u001b[49m\u001b[43m,\u001b[49m\n\u001b[32m   2439\u001b[39m \u001b[43m            \u001b[49m\u001b[43mget_waiter\u001b[49m\u001b[43m=\u001b[49m\u001b[43mget_waiter\u001b[49m\u001b[43m,\u001b[49m\n\u001b[32m   2440\u001b[39m \u001b[43m            \u001b[49m\u001b[43mschedule_task\u001b[49m\u001b[43m=\u001b[49m\u001b[43mloop\u001b[49m\u001b[43m.\u001b[49m\u001b[43maccept_push\u001b[49m\u001b[43m,\u001b[49m\n\u001b[32m   2441\u001b[39m \u001b[43m        \u001b[49m\u001b[43m)\u001b[49m\u001b[43m:\u001b[49m\n\u001b[32m   2442\u001b[39m \u001b[43m            \u001b[49m\u001b[38;5;66;43;03m# emit output\u001b[39;49;00m\n\u001b[32m   2443\u001b[39m \u001b[43m            \u001b[49m\u001b[38;5;28;43;01myield from\u001b[39;49;00m\u001b[43m \u001b[49m\u001b[43moutput\u001b[49m\u001b[43m(\u001b[49m\u001b[43m)\u001b[49m\n\u001b[32m   2444\u001b[39m \u001b[38;5;66;03m# emit output\u001b[39;00m\n",
      "\u001b[36mCell\u001b[39m\u001b[36m \u001b[39m\u001b[32mIn[41]\u001b[39m\u001b[32m, line 7\u001b[39m, in \u001b[36mresearchSupervisor_agent\u001b[39m\u001b[34m(state)\u001b[39m\n\u001b[32m      3\u001b[39m messages = [{\u001b[33m\"\u001b[39m\u001b[33mrole\u001b[39m\u001b[33m\"\u001b[39m: \u001b[33m\"\u001b[39m\u001b[33msystem\u001b[39m\u001b[33m\"\u001b[39m, \u001b[33m\"\u001b[39m\u001b[33mcontent\u001b[39m\u001b[33m\"\u001b[39m: research_system_prompt},] + state[\u001b[33m\"\u001b[39m\u001b[33mmessages\u001b[39m\u001b[33m\"\u001b[39m]\n\u001b[32m      5\u001b[39m llm_with_structure_output=llm.with_structured_output(ResearchRouter)\n\u001b[32m----> \u001b[39m\u001b[32m7\u001b[39m response=\u001b[43mllm_with_structure_output\u001b[49m\u001b[43m.\u001b[49m\u001b[43minvoke\u001b[49m\u001b[43m(\u001b[49m\u001b[43mmessages\u001b[49m\u001b[43m)\u001b[49m\n\u001b[32m      8\u001b[39m \u001b[38;5;28mprint\u001b[39m(\u001b[33m\"\u001b[39m\u001b[33mresponse\u001b[39m\u001b[33m\"\u001b[39m)\n\u001b[32m      9\u001b[39m \u001b[38;5;28mprint\u001b[39m(response)\n",
      "\u001b[36mFile \u001b[39m\u001b[32m~/Documents/mriduladata/agenticAICourse/venv/lib/python3.13/site-packages/langchain_core/runnables/base.py:3045\u001b[39m, in \u001b[36mRunnableSequence.invoke\u001b[39m\u001b[34m(self, input, config, **kwargs)\u001b[39m\n\u001b[32m   3043\u001b[39m \u001b[38;5;28;01mwith\u001b[39;00m set_config_context(config) \u001b[38;5;28;01mas\u001b[39;00m context:\n\u001b[32m   3044\u001b[39m     \u001b[38;5;28;01mif\u001b[39;00m i == \u001b[32m0\u001b[39m:\n\u001b[32m-> \u001b[39m\u001b[32m3045\u001b[39m         input_ = \u001b[43mcontext\u001b[49m\u001b[43m.\u001b[49m\u001b[43mrun\u001b[49m\u001b[43m(\u001b[49m\u001b[43mstep\u001b[49m\u001b[43m.\u001b[49m\u001b[43minvoke\u001b[49m\u001b[43m,\u001b[49m\u001b[43m \u001b[49m\u001b[43minput_\u001b[49m\u001b[43m,\u001b[49m\u001b[43m \u001b[49m\u001b[43mconfig\u001b[49m\u001b[43m,\u001b[49m\u001b[43m \u001b[49m\u001b[43m*\u001b[49m\u001b[43m*\u001b[49m\u001b[43mkwargs\u001b[49m\u001b[43m)\u001b[49m\n\u001b[32m   3046\u001b[39m     \u001b[38;5;28;01melse\u001b[39;00m:\n\u001b[32m   3047\u001b[39m         input_ = context.run(step.invoke, input_, config)\n",
      "\u001b[36mFile \u001b[39m\u001b[32m~/Documents/mriduladata/agenticAICourse/venv/lib/python3.13/site-packages/langchain_core/runnables/base.py:5431\u001b[39m, in \u001b[36mRunnableBindingBase.invoke\u001b[39m\u001b[34m(self, input, config, **kwargs)\u001b[39m\n\u001b[32m   5424\u001b[39m \u001b[38;5;129m@override\u001b[39m\n\u001b[32m   5425\u001b[39m \u001b[38;5;28;01mdef\u001b[39;00m\u001b[38;5;250m \u001b[39m\u001b[34minvoke\u001b[39m(\n\u001b[32m   5426\u001b[39m     \u001b[38;5;28mself\u001b[39m,\n\u001b[32m   (...)\u001b[39m\u001b[32m   5429\u001b[39m     **kwargs: Optional[Any],\n\u001b[32m   5430\u001b[39m ) -> Output:\n\u001b[32m-> \u001b[39m\u001b[32m5431\u001b[39m     \u001b[38;5;28;01mreturn\u001b[39;00m \u001b[38;5;28;43mself\u001b[39;49m\u001b[43m.\u001b[49m\u001b[43mbound\u001b[49m\u001b[43m.\u001b[49m\u001b[43minvoke\u001b[49m\u001b[43m(\u001b[49m\n\u001b[32m   5432\u001b[39m \u001b[43m        \u001b[49m\u001b[38;5;28;43minput\u001b[39;49m\u001b[43m,\u001b[49m\n\u001b[32m   5433\u001b[39m \u001b[43m        \u001b[49m\u001b[38;5;28;43mself\u001b[39;49m\u001b[43m.\u001b[49m\u001b[43m_merge_configs\u001b[49m\u001b[43m(\u001b[49m\u001b[43mconfig\u001b[49m\u001b[43m)\u001b[49m\u001b[43m,\u001b[49m\n\u001b[32m   5434\u001b[39m \u001b[43m        \u001b[49m\u001b[43m*\u001b[49m\u001b[43m*\u001b[49m\u001b[43m{\u001b[49m\u001b[43m*\u001b[49m\u001b[43m*\u001b[49m\u001b[38;5;28;43mself\u001b[39;49m\u001b[43m.\u001b[49m\u001b[43mkwargs\u001b[49m\u001b[43m,\u001b[49m\u001b[43m \u001b[49m\u001b[43m*\u001b[49m\u001b[43m*\u001b[49m\u001b[43mkwargs\u001b[49m\u001b[43m}\u001b[49m\u001b[43m,\u001b[49m\n\u001b[32m   5435\u001b[39m \u001b[43m    \u001b[49m\u001b[43m)\u001b[49m\n",
      "\u001b[36mFile \u001b[39m\u001b[32m~/Documents/mriduladata/agenticAICourse/venv/lib/python3.13/site-packages/langchain_core/language_models/chat_models.py:372\u001b[39m, in \u001b[36mBaseChatModel.invoke\u001b[39m\u001b[34m(self, input, config, stop, **kwargs)\u001b[39m\n\u001b[32m    360\u001b[39m \u001b[38;5;129m@override\u001b[39m\n\u001b[32m    361\u001b[39m \u001b[38;5;28;01mdef\u001b[39;00m\u001b[38;5;250m \u001b[39m\u001b[34minvoke\u001b[39m(\n\u001b[32m    362\u001b[39m     \u001b[38;5;28mself\u001b[39m,\n\u001b[32m   (...)\u001b[39m\u001b[32m    367\u001b[39m     **kwargs: Any,\n\u001b[32m    368\u001b[39m ) -> BaseMessage:\n\u001b[32m    369\u001b[39m     config = ensure_config(config)\n\u001b[32m    370\u001b[39m     \u001b[38;5;28;01mreturn\u001b[39;00m cast(\n\u001b[32m    371\u001b[39m         \u001b[33m\"\u001b[39m\u001b[33mChatGeneration\u001b[39m\u001b[33m\"\u001b[39m,\n\u001b[32m--> \u001b[39m\u001b[32m372\u001b[39m         \u001b[38;5;28;43mself\u001b[39;49m\u001b[43m.\u001b[49m\u001b[43mgenerate_prompt\u001b[49m\u001b[43m(\u001b[49m\n\u001b[32m    373\u001b[39m \u001b[43m            \u001b[49m\u001b[43m[\u001b[49m\u001b[38;5;28;43mself\u001b[39;49m\u001b[43m.\u001b[49m\u001b[43m_convert_input\u001b[49m\u001b[43m(\u001b[49m\u001b[38;5;28;43minput\u001b[39;49m\u001b[43m)\u001b[49m\u001b[43m]\u001b[49m\u001b[43m,\u001b[49m\n\u001b[32m    374\u001b[39m \u001b[43m            \u001b[49m\u001b[43mstop\u001b[49m\u001b[43m=\u001b[49m\u001b[43mstop\u001b[49m\u001b[43m,\u001b[49m\n\u001b[32m    375\u001b[39m \u001b[43m            \u001b[49m\u001b[43mcallbacks\u001b[49m\u001b[43m=\u001b[49m\u001b[43mconfig\u001b[49m\u001b[43m.\u001b[49m\u001b[43mget\u001b[49m\u001b[43m(\u001b[49m\u001b[33;43m\"\u001b[39;49m\u001b[33;43mcallbacks\u001b[39;49m\u001b[33;43m\"\u001b[39;49m\u001b[43m)\u001b[49m\u001b[43m,\u001b[49m\n\u001b[32m    376\u001b[39m \u001b[43m            \u001b[49m\u001b[43mtags\u001b[49m\u001b[43m=\u001b[49m\u001b[43mconfig\u001b[49m\u001b[43m.\u001b[49m\u001b[43mget\u001b[49m\u001b[43m(\u001b[49m\u001b[33;43m\"\u001b[39;49m\u001b[33;43mtags\u001b[39;49m\u001b[33;43m\"\u001b[39;49m\u001b[43m)\u001b[49m\u001b[43m,\u001b[49m\n\u001b[32m    377\u001b[39m \u001b[43m            \u001b[49m\u001b[43mmetadata\u001b[49m\u001b[43m=\u001b[49m\u001b[43mconfig\u001b[49m\u001b[43m.\u001b[49m\u001b[43mget\u001b[49m\u001b[43m(\u001b[49m\u001b[33;43m\"\u001b[39;49m\u001b[33;43mmetadata\u001b[39;49m\u001b[33;43m\"\u001b[39;49m\u001b[43m)\u001b[49m\u001b[43m,\u001b[49m\n\u001b[32m    378\u001b[39m \u001b[43m            \u001b[49m\u001b[43mrun_name\u001b[49m\u001b[43m=\u001b[49m\u001b[43mconfig\u001b[49m\u001b[43m.\u001b[49m\u001b[43mget\u001b[49m\u001b[43m(\u001b[49m\u001b[33;43m\"\u001b[39;49m\u001b[33;43mrun_name\u001b[39;49m\u001b[33;43m\"\u001b[39;49m\u001b[43m)\u001b[49m\u001b[43m,\u001b[49m\n\u001b[32m    379\u001b[39m \u001b[43m            \u001b[49m\u001b[43mrun_id\u001b[49m\u001b[43m=\u001b[49m\u001b[43mconfig\u001b[49m\u001b[43m.\u001b[49m\u001b[43mpop\u001b[49m\u001b[43m(\u001b[49m\u001b[33;43m\"\u001b[39;49m\u001b[33;43mrun_id\u001b[39;49m\u001b[33;43m\"\u001b[39;49m\u001b[43m,\u001b[49m\u001b[43m \u001b[49m\u001b[38;5;28;43;01mNone\u001b[39;49;00m\u001b[43m)\u001b[49m\u001b[43m,\u001b[49m\n\u001b[32m    380\u001b[39m \u001b[43m            \u001b[49m\u001b[43m*\u001b[49m\u001b[43m*\u001b[49m\u001b[43mkwargs\u001b[49m\u001b[43m,\u001b[49m\n\u001b[32m    381\u001b[39m \u001b[43m        \u001b[49m\u001b[43m)\u001b[49m.generations[\u001b[32m0\u001b[39m][\u001b[32m0\u001b[39m],\n\u001b[32m    382\u001b[39m     ).message\n",
      "\u001b[36mFile \u001b[39m\u001b[32m~/Documents/mriduladata/agenticAICourse/venv/lib/python3.13/site-packages/langchain_core/language_models/chat_models.py:957\u001b[39m, in \u001b[36mBaseChatModel.generate_prompt\u001b[39m\u001b[34m(self, prompts, stop, callbacks, **kwargs)\u001b[39m\n\u001b[32m    948\u001b[39m \u001b[38;5;129m@override\u001b[39m\n\u001b[32m    949\u001b[39m \u001b[38;5;28;01mdef\u001b[39;00m\u001b[38;5;250m \u001b[39m\u001b[34mgenerate_prompt\u001b[39m(\n\u001b[32m    950\u001b[39m     \u001b[38;5;28mself\u001b[39m,\n\u001b[32m   (...)\u001b[39m\u001b[32m    954\u001b[39m     **kwargs: Any,\n\u001b[32m    955\u001b[39m ) -> LLMResult:\n\u001b[32m    956\u001b[39m     prompt_messages = [p.to_messages() \u001b[38;5;28;01mfor\u001b[39;00m p \u001b[38;5;129;01min\u001b[39;00m prompts]\n\u001b[32m--> \u001b[39m\u001b[32m957\u001b[39m     \u001b[38;5;28;01mreturn\u001b[39;00m \u001b[38;5;28;43mself\u001b[39;49m\u001b[43m.\u001b[49m\u001b[43mgenerate\u001b[49m\u001b[43m(\u001b[49m\u001b[43mprompt_messages\u001b[49m\u001b[43m,\u001b[49m\u001b[43m \u001b[49m\u001b[43mstop\u001b[49m\u001b[43m=\u001b[49m\u001b[43mstop\u001b[49m\u001b[43m,\u001b[49m\u001b[43m \u001b[49m\u001b[43mcallbacks\u001b[49m\u001b[43m=\u001b[49m\u001b[43mcallbacks\u001b[49m\u001b[43m,\u001b[49m\u001b[43m \u001b[49m\u001b[43m*\u001b[49m\u001b[43m*\u001b[49m\u001b[43mkwargs\u001b[49m\u001b[43m)\u001b[49m\n",
      "\u001b[36mFile \u001b[39m\u001b[32m~/Documents/mriduladata/agenticAICourse/venv/lib/python3.13/site-packages/langchain_core/language_models/chat_models.py:776\u001b[39m, in \u001b[36mBaseChatModel.generate\u001b[39m\u001b[34m(self, messages, stop, callbacks, tags, metadata, run_name, run_id, **kwargs)\u001b[39m\n\u001b[32m    773\u001b[39m \u001b[38;5;28;01mfor\u001b[39;00m i, m \u001b[38;5;129;01min\u001b[39;00m \u001b[38;5;28menumerate\u001b[39m(input_messages):\n\u001b[32m    774\u001b[39m     \u001b[38;5;28;01mtry\u001b[39;00m:\n\u001b[32m    775\u001b[39m         results.append(\n\u001b[32m--> \u001b[39m\u001b[32m776\u001b[39m             \u001b[38;5;28;43mself\u001b[39;49m\u001b[43m.\u001b[49m\u001b[43m_generate_with_cache\u001b[49m\u001b[43m(\u001b[49m\n\u001b[32m    777\u001b[39m \u001b[43m                \u001b[49m\u001b[43mm\u001b[49m\u001b[43m,\u001b[49m\n\u001b[32m    778\u001b[39m \u001b[43m                \u001b[49m\u001b[43mstop\u001b[49m\u001b[43m=\u001b[49m\u001b[43mstop\u001b[49m\u001b[43m,\u001b[49m\n\u001b[32m    779\u001b[39m \u001b[43m                \u001b[49m\u001b[43mrun_manager\u001b[49m\u001b[43m=\u001b[49m\u001b[43mrun_managers\u001b[49m\u001b[43m[\u001b[49m\u001b[43mi\u001b[49m\u001b[43m]\u001b[49m\u001b[43m \u001b[49m\u001b[38;5;28;43;01mif\u001b[39;49;00m\u001b[43m \u001b[49m\u001b[43mrun_managers\u001b[49m\u001b[43m \u001b[49m\u001b[38;5;28;43;01melse\u001b[39;49;00m\u001b[43m \u001b[49m\u001b[38;5;28;43;01mNone\u001b[39;49;00m\u001b[43m,\u001b[49m\n\u001b[32m    780\u001b[39m \u001b[43m                \u001b[49m\u001b[43m*\u001b[49m\u001b[43m*\u001b[49m\u001b[43mkwargs\u001b[49m\u001b[43m,\u001b[49m\n\u001b[32m    781\u001b[39m \u001b[43m            \u001b[49m\u001b[43m)\u001b[49m\n\u001b[32m    782\u001b[39m         )\n\u001b[32m    783\u001b[39m     \u001b[38;5;28;01mexcept\u001b[39;00m \u001b[38;5;167;01mBaseException\u001b[39;00m \u001b[38;5;28;01mas\u001b[39;00m e:\n\u001b[32m    784\u001b[39m         \u001b[38;5;28;01mif\u001b[39;00m run_managers:\n",
      "\u001b[36mFile \u001b[39m\u001b[32m~/Documents/mriduladata/agenticAICourse/venv/lib/python3.13/site-packages/langchain_core/language_models/chat_models.py:1022\u001b[39m, in \u001b[36mBaseChatModel._generate_with_cache\u001b[39m\u001b[34m(self, messages, stop, run_manager, **kwargs)\u001b[39m\n\u001b[32m   1020\u001b[39m     result = generate_from_stream(\u001b[38;5;28miter\u001b[39m(chunks))\n\u001b[32m   1021\u001b[39m \u001b[38;5;28;01melif\u001b[39;00m inspect.signature(\u001b[38;5;28mself\u001b[39m._generate).parameters.get(\u001b[33m\"\u001b[39m\u001b[33mrun_manager\u001b[39m\u001b[33m\"\u001b[39m):\n\u001b[32m-> \u001b[39m\u001b[32m1022\u001b[39m     result = \u001b[38;5;28;43mself\u001b[39;49m\u001b[43m.\u001b[49m\u001b[43m_generate\u001b[49m\u001b[43m(\u001b[49m\n\u001b[32m   1023\u001b[39m \u001b[43m        \u001b[49m\u001b[43mmessages\u001b[49m\u001b[43m,\u001b[49m\u001b[43m \u001b[49m\u001b[43mstop\u001b[49m\u001b[43m=\u001b[49m\u001b[43mstop\u001b[49m\u001b[43m,\u001b[49m\u001b[43m \u001b[49m\u001b[43mrun_manager\u001b[49m\u001b[43m=\u001b[49m\u001b[43mrun_manager\u001b[49m\u001b[43m,\u001b[49m\u001b[43m \u001b[49m\u001b[43m*\u001b[49m\u001b[43m*\u001b[49m\u001b[43mkwargs\u001b[49m\n\u001b[32m   1024\u001b[39m \u001b[43m    \u001b[49m\u001b[43m)\u001b[49m\n\u001b[32m   1025\u001b[39m \u001b[38;5;28;01melse\u001b[39;00m:\n\u001b[32m   1026\u001b[39m     result = \u001b[38;5;28mself\u001b[39m._generate(messages, stop=stop, **kwargs)\n",
      "\u001b[36mFile \u001b[39m\u001b[32m~/Documents/mriduladata/agenticAICourse/venv/lib/python3.13/site-packages/langchain_groq/chat_models.py:498\u001b[39m, in \u001b[36mChatGroq._generate\u001b[39m\u001b[34m(self, messages, stop, run_manager, **kwargs)\u001b[39m\n\u001b[32m    493\u001b[39m message_dicts, params = \u001b[38;5;28mself\u001b[39m._create_message_dicts(messages, stop)\n\u001b[32m    494\u001b[39m params = {\n\u001b[32m    495\u001b[39m     **params,\n\u001b[32m    496\u001b[39m     **kwargs,\n\u001b[32m    497\u001b[39m }\n\u001b[32m--> \u001b[39m\u001b[32m498\u001b[39m response = \u001b[38;5;28;43mself\u001b[39;49m\u001b[43m.\u001b[49m\u001b[43mclient\u001b[49m\u001b[43m.\u001b[49m\u001b[43mcreate\u001b[49m\u001b[43m(\u001b[49m\u001b[43mmessages\u001b[49m\u001b[43m=\u001b[49m\u001b[43mmessage_dicts\u001b[49m\u001b[43m,\u001b[49m\u001b[43m \u001b[49m\u001b[43m*\u001b[49m\u001b[43m*\u001b[49m\u001b[43mparams\u001b[49m\u001b[43m)\u001b[49m\n\u001b[32m    499\u001b[39m \u001b[38;5;28;01mreturn\u001b[39;00m \u001b[38;5;28mself\u001b[39m._create_chat_result(response)\n",
      "\u001b[36mFile \u001b[39m\u001b[32m~/Documents/mriduladata/agenticAICourse/venv/lib/python3.13/site-packages/groq/resources/chat/completions.py:368\u001b[39m, in \u001b[36mCompletions.create\u001b[39m\u001b[34m(self, messages, model, exclude_domains, frequency_penalty, function_call, functions, include_domains, logit_bias, logprobs, max_completion_tokens, max_tokens, metadata, n, parallel_tool_calls, presence_penalty, reasoning_effort, reasoning_format, response_format, search_settings, seed, service_tier, stop, store, stream, temperature, tool_choice, tools, top_logprobs, top_p, user, extra_headers, extra_query, extra_body, timeout)\u001b[39m\n\u001b[32m    181\u001b[39m \u001b[38;5;28;01mdef\u001b[39;00m\u001b[38;5;250m \u001b[39m\u001b[34mcreate\u001b[39m(\n\u001b[32m    182\u001b[39m     \u001b[38;5;28mself\u001b[39m,\n\u001b[32m    183\u001b[39m     *,\n\u001b[32m   (...)\u001b[39m\u001b[32m    229\u001b[39m     timeout: \u001b[38;5;28mfloat\u001b[39m | httpx.Timeout | \u001b[38;5;28;01mNone\u001b[39;00m | NotGiven = NOT_GIVEN,\n\u001b[32m    230\u001b[39m ) -> ChatCompletion | Stream[ChatCompletionChunk]:\n\u001b[32m    231\u001b[39m \u001b[38;5;250m    \u001b[39m\u001b[33;03m\"\"\"\u001b[39;00m\n\u001b[32m    232\u001b[39m \u001b[33;03m    Creates a model response for the given chat conversation.\u001b[39;00m\n\u001b[32m    233\u001b[39m \n\u001b[32m   (...)\u001b[39m\u001b[32m    366\u001b[39m \u001b[33;03m      timeout: Override the client-level default timeout for this request, in seconds\u001b[39;00m\n\u001b[32m    367\u001b[39m \u001b[33;03m    \"\"\"\u001b[39;00m\n\u001b[32m--> \u001b[39m\u001b[32m368\u001b[39m     \u001b[38;5;28;01mreturn\u001b[39;00m \u001b[38;5;28;43mself\u001b[39;49m\u001b[43m.\u001b[49m\u001b[43m_post\u001b[49m\u001b[43m(\u001b[49m\n\u001b[32m    369\u001b[39m \u001b[43m        \u001b[49m\u001b[33;43m\"\u001b[39;49m\u001b[33;43m/openai/v1/chat/completions\u001b[39;49m\u001b[33;43m\"\u001b[39;49m\u001b[43m,\u001b[49m\n\u001b[32m    370\u001b[39m \u001b[43m        \u001b[49m\u001b[43mbody\u001b[49m\u001b[43m=\u001b[49m\u001b[43mmaybe_transform\u001b[49m\u001b[43m(\u001b[49m\n\u001b[32m    371\u001b[39m \u001b[43m            \u001b[49m\u001b[43m{\u001b[49m\n\u001b[32m    372\u001b[39m \u001b[43m                \u001b[49m\u001b[33;43m\"\u001b[39;49m\u001b[33;43mmessages\u001b[39;49m\u001b[33;43m\"\u001b[39;49m\u001b[43m:\u001b[49m\u001b[43m \u001b[49m\u001b[43mmessages\u001b[49m\u001b[43m,\u001b[49m\n\u001b[32m    373\u001b[39m \u001b[43m                \u001b[49m\u001b[33;43m\"\u001b[39;49m\u001b[33;43mmodel\u001b[39;49m\u001b[33;43m\"\u001b[39;49m\u001b[43m:\u001b[49m\u001b[43m \u001b[49m\u001b[43mmodel\u001b[49m\u001b[43m,\u001b[49m\n\u001b[32m    374\u001b[39m \u001b[43m                \u001b[49m\u001b[33;43m\"\u001b[39;49m\u001b[33;43mexclude_domains\u001b[39;49m\u001b[33;43m\"\u001b[39;49m\u001b[43m:\u001b[49m\u001b[43m \u001b[49m\u001b[43mexclude_domains\u001b[49m\u001b[43m,\u001b[49m\n\u001b[32m    375\u001b[39m \u001b[43m                \u001b[49m\u001b[33;43m\"\u001b[39;49m\u001b[33;43mfrequency_penalty\u001b[39;49m\u001b[33;43m\"\u001b[39;49m\u001b[43m:\u001b[49m\u001b[43m \u001b[49m\u001b[43mfrequency_penalty\u001b[49m\u001b[43m,\u001b[49m\n\u001b[32m    376\u001b[39m \u001b[43m                \u001b[49m\u001b[33;43m\"\u001b[39;49m\u001b[33;43mfunction_call\u001b[39;49m\u001b[33;43m\"\u001b[39;49m\u001b[43m:\u001b[49m\u001b[43m \u001b[49m\u001b[43mfunction_call\u001b[49m\u001b[43m,\u001b[49m\n\u001b[32m    377\u001b[39m \u001b[43m                \u001b[49m\u001b[33;43m\"\u001b[39;49m\u001b[33;43mfunctions\u001b[39;49m\u001b[33;43m\"\u001b[39;49m\u001b[43m:\u001b[49m\u001b[43m \u001b[49m\u001b[43mfunctions\u001b[49m\u001b[43m,\u001b[49m\n\u001b[32m    378\u001b[39m \u001b[43m                \u001b[49m\u001b[33;43m\"\u001b[39;49m\u001b[33;43minclude_domains\u001b[39;49m\u001b[33;43m\"\u001b[39;49m\u001b[43m:\u001b[49m\u001b[43m \u001b[49m\u001b[43minclude_domains\u001b[49m\u001b[43m,\u001b[49m\n\u001b[32m    379\u001b[39m \u001b[43m                \u001b[49m\u001b[33;43m\"\u001b[39;49m\u001b[33;43mlogit_bias\u001b[39;49m\u001b[33;43m\"\u001b[39;49m\u001b[43m:\u001b[49m\u001b[43m \u001b[49m\u001b[43mlogit_bias\u001b[49m\u001b[43m,\u001b[49m\n\u001b[32m    380\u001b[39m \u001b[43m                \u001b[49m\u001b[33;43m\"\u001b[39;49m\u001b[33;43mlogprobs\u001b[39;49m\u001b[33;43m\"\u001b[39;49m\u001b[43m:\u001b[49m\u001b[43m \u001b[49m\u001b[43mlogprobs\u001b[49m\u001b[43m,\u001b[49m\n\u001b[32m    381\u001b[39m \u001b[43m                \u001b[49m\u001b[33;43m\"\u001b[39;49m\u001b[33;43mmax_completion_tokens\u001b[39;49m\u001b[33;43m\"\u001b[39;49m\u001b[43m:\u001b[49m\u001b[43m \u001b[49m\u001b[43mmax_completion_tokens\u001b[49m\u001b[43m,\u001b[49m\n\u001b[32m    382\u001b[39m \u001b[43m                \u001b[49m\u001b[33;43m\"\u001b[39;49m\u001b[33;43mmax_tokens\u001b[39;49m\u001b[33;43m\"\u001b[39;49m\u001b[43m:\u001b[49m\u001b[43m \u001b[49m\u001b[43mmax_tokens\u001b[49m\u001b[43m,\u001b[49m\n\u001b[32m    383\u001b[39m \u001b[43m                \u001b[49m\u001b[33;43m\"\u001b[39;49m\u001b[33;43mmetadata\u001b[39;49m\u001b[33;43m\"\u001b[39;49m\u001b[43m:\u001b[49m\u001b[43m \u001b[49m\u001b[43mmetadata\u001b[49m\u001b[43m,\u001b[49m\n\u001b[32m    384\u001b[39m \u001b[43m                \u001b[49m\u001b[33;43m\"\u001b[39;49m\u001b[33;43mn\u001b[39;49m\u001b[33;43m\"\u001b[39;49m\u001b[43m:\u001b[49m\u001b[43m \u001b[49m\u001b[43mn\u001b[49m\u001b[43m,\u001b[49m\n\u001b[32m    385\u001b[39m \u001b[43m                \u001b[49m\u001b[33;43m\"\u001b[39;49m\u001b[33;43mparallel_tool_calls\u001b[39;49m\u001b[33;43m\"\u001b[39;49m\u001b[43m:\u001b[49m\u001b[43m \u001b[49m\u001b[43mparallel_tool_calls\u001b[49m\u001b[43m,\u001b[49m\n\u001b[32m    386\u001b[39m \u001b[43m                \u001b[49m\u001b[33;43m\"\u001b[39;49m\u001b[33;43mpresence_penalty\u001b[39;49m\u001b[33;43m\"\u001b[39;49m\u001b[43m:\u001b[49m\u001b[43m \u001b[49m\u001b[43mpresence_penalty\u001b[49m\u001b[43m,\u001b[49m\n\u001b[32m    387\u001b[39m \u001b[43m                \u001b[49m\u001b[33;43m\"\u001b[39;49m\u001b[33;43mreasoning_effort\u001b[39;49m\u001b[33;43m\"\u001b[39;49m\u001b[43m:\u001b[49m\u001b[43m \u001b[49m\u001b[43mreasoning_effort\u001b[49m\u001b[43m,\u001b[49m\n\u001b[32m    388\u001b[39m \u001b[43m                \u001b[49m\u001b[33;43m\"\u001b[39;49m\u001b[33;43mreasoning_format\u001b[39;49m\u001b[33;43m\"\u001b[39;49m\u001b[43m:\u001b[49m\u001b[43m \u001b[49m\u001b[43mreasoning_format\u001b[49m\u001b[43m,\u001b[49m\n\u001b[32m    389\u001b[39m \u001b[43m                \u001b[49m\u001b[33;43m\"\u001b[39;49m\u001b[33;43mresponse_format\u001b[39;49m\u001b[33;43m\"\u001b[39;49m\u001b[43m:\u001b[49m\u001b[43m \u001b[49m\u001b[43mresponse_format\u001b[49m\u001b[43m,\u001b[49m\n\u001b[32m    390\u001b[39m \u001b[43m                \u001b[49m\u001b[33;43m\"\u001b[39;49m\u001b[33;43msearch_settings\u001b[39;49m\u001b[33;43m\"\u001b[39;49m\u001b[43m:\u001b[49m\u001b[43m \u001b[49m\u001b[43msearch_settings\u001b[49m\u001b[43m,\u001b[49m\n\u001b[32m    391\u001b[39m \u001b[43m                \u001b[49m\u001b[33;43m\"\u001b[39;49m\u001b[33;43mseed\u001b[39;49m\u001b[33;43m\"\u001b[39;49m\u001b[43m:\u001b[49m\u001b[43m \u001b[49m\u001b[43mseed\u001b[49m\u001b[43m,\u001b[49m\n\u001b[32m    392\u001b[39m \u001b[43m                \u001b[49m\u001b[33;43m\"\u001b[39;49m\u001b[33;43mservice_tier\u001b[39;49m\u001b[33;43m\"\u001b[39;49m\u001b[43m:\u001b[49m\u001b[43m \u001b[49m\u001b[43mservice_tier\u001b[49m\u001b[43m,\u001b[49m\n\u001b[32m    393\u001b[39m \u001b[43m                \u001b[49m\u001b[33;43m\"\u001b[39;49m\u001b[33;43mstop\u001b[39;49m\u001b[33;43m\"\u001b[39;49m\u001b[43m:\u001b[49m\u001b[43m \u001b[49m\u001b[43mstop\u001b[49m\u001b[43m,\u001b[49m\n\u001b[32m    394\u001b[39m \u001b[43m                \u001b[49m\u001b[33;43m\"\u001b[39;49m\u001b[33;43mstore\u001b[39;49m\u001b[33;43m\"\u001b[39;49m\u001b[43m:\u001b[49m\u001b[43m \u001b[49m\u001b[43mstore\u001b[49m\u001b[43m,\u001b[49m\n\u001b[32m    395\u001b[39m \u001b[43m                \u001b[49m\u001b[33;43m\"\u001b[39;49m\u001b[33;43mstream\u001b[39;49m\u001b[33;43m\"\u001b[39;49m\u001b[43m:\u001b[49m\u001b[43m \u001b[49m\u001b[43mstream\u001b[49m\u001b[43m,\u001b[49m\n\u001b[32m    396\u001b[39m \u001b[43m                \u001b[49m\u001b[33;43m\"\u001b[39;49m\u001b[33;43mtemperature\u001b[39;49m\u001b[33;43m\"\u001b[39;49m\u001b[43m:\u001b[49m\u001b[43m \u001b[49m\u001b[43mtemperature\u001b[49m\u001b[43m,\u001b[49m\n\u001b[32m    397\u001b[39m \u001b[43m                \u001b[49m\u001b[33;43m\"\u001b[39;49m\u001b[33;43mtool_choice\u001b[39;49m\u001b[33;43m\"\u001b[39;49m\u001b[43m:\u001b[49m\u001b[43m \u001b[49m\u001b[43mtool_choice\u001b[49m\u001b[43m,\u001b[49m\n\u001b[32m    398\u001b[39m \u001b[43m                \u001b[49m\u001b[33;43m\"\u001b[39;49m\u001b[33;43mtools\u001b[39;49m\u001b[33;43m\"\u001b[39;49m\u001b[43m:\u001b[49m\u001b[43m \u001b[49m\u001b[43mtools\u001b[49m\u001b[43m,\u001b[49m\n\u001b[32m    399\u001b[39m \u001b[43m                \u001b[49m\u001b[33;43m\"\u001b[39;49m\u001b[33;43mtop_logprobs\u001b[39;49m\u001b[33;43m\"\u001b[39;49m\u001b[43m:\u001b[49m\u001b[43m \u001b[49m\u001b[43mtop_logprobs\u001b[49m\u001b[43m,\u001b[49m\n\u001b[32m    400\u001b[39m \u001b[43m                \u001b[49m\u001b[33;43m\"\u001b[39;49m\u001b[33;43mtop_p\u001b[39;49m\u001b[33;43m\"\u001b[39;49m\u001b[43m:\u001b[49m\u001b[43m \u001b[49m\u001b[43mtop_p\u001b[49m\u001b[43m,\u001b[49m\n\u001b[32m    401\u001b[39m \u001b[43m                \u001b[49m\u001b[33;43m\"\u001b[39;49m\u001b[33;43muser\u001b[39;49m\u001b[33;43m\"\u001b[39;49m\u001b[43m:\u001b[49m\u001b[43m \u001b[49m\u001b[43muser\u001b[49m\u001b[43m,\u001b[49m\n\u001b[32m    402\u001b[39m \u001b[43m            \u001b[49m\u001b[43m}\u001b[49m\u001b[43m,\u001b[49m\n\u001b[32m    403\u001b[39m \u001b[43m            \u001b[49m\u001b[43mcompletion_create_params\u001b[49m\u001b[43m.\u001b[49m\u001b[43mCompletionCreateParams\u001b[49m\u001b[43m,\u001b[49m\n\u001b[32m    404\u001b[39m \u001b[43m        \u001b[49m\u001b[43m)\u001b[49m\u001b[43m,\u001b[49m\n\u001b[32m    405\u001b[39m \u001b[43m        \u001b[49m\u001b[43moptions\u001b[49m\u001b[43m=\u001b[49m\u001b[43mmake_request_options\u001b[49m\u001b[43m(\u001b[49m\n\u001b[32m    406\u001b[39m \u001b[43m            \u001b[49m\u001b[43mextra_headers\u001b[49m\u001b[43m=\u001b[49m\u001b[43mextra_headers\u001b[49m\u001b[43m,\u001b[49m\u001b[43m \u001b[49m\u001b[43mextra_query\u001b[49m\u001b[43m=\u001b[49m\u001b[43mextra_query\u001b[49m\u001b[43m,\u001b[49m\u001b[43m \u001b[49m\u001b[43mextra_body\u001b[49m\u001b[43m=\u001b[49m\u001b[43mextra_body\u001b[49m\u001b[43m,\u001b[49m\u001b[43m \u001b[49m\u001b[43mtimeout\u001b[49m\u001b[43m=\u001b[49m\u001b[43mtimeout\u001b[49m\n\u001b[32m    407\u001b[39m \u001b[43m        \u001b[49m\u001b[43m)\u001b[49m\u001b[43m,\u001b[49m\n\u001b[32m    408\u001b[39m \u001b[43m        \u001b[49m\u001b[43mcast_to\u001b[49m\u001b[43m=\u001b[49m\u001b[43mChatCompletion\u001b[49m\u001b[43m,\u001b[49m\n\u001b[32m    409\u001b[39m \u001b[43m        \u001b[49m\u001b[43mstream\u001b[49m\u001b[43m=\u001b[49m\u001b[43mstream\u001b[49m\u001b[43m \u001b[49m\u001b[38;5;129;43;01mor\u001b[39;49;00m\u001b[43m \u001b[49m\u001b[38;5;28;43;01mFalse\u001b[39;49;00m\u001b[43m,\u001b[49m\n\u001b[32m    410\u001b[39m \u001b[43m        \u001b[49m\u001b[43mstream_cls\u001b[49m\u001b[43m=\u001b[49m\u001b[43mStream\u001b[49m\u001b[43m[\u001b[49m\u001b[43mChatCompletionChunk\u001b[49m\u001b[43m]\u001b[49m\u001b[43m,\u001b[49m\n\u001b[32m    411\u001b[39m \u001b[43m    \u001b[49m\u001b[43m)\u001b[49m\n",
      "\u001b[36mFile \u001b[39m\u001b[32m~/Documents/mriduladata/agenticAICourse/venv/lib/python3.13/site-packages/groq/_base_client.py:1225\u001b[39m, in \u001b[36mSyncAPIClient.post\u001b[39m\u001b[34m(self, path, cast_to, body, options, files, stream, stream_cls)\u001b[39m\n\u001b[32m   1211\u001b[39m \u001b[38;5;28;01mdef\u001b[39;00m\u001b[38;5;250m \u001b[39m\u001b[34mpost\u001b[39m(\n\u001b[32m   1212\u001b[39m     \u001b[38;5;28mself\u001b[39m,\n\u001b[32m   1213\u001b[39m     path: \u001b[38;5;28mstr\u001b[39m,\n\u001b[32m   (...)\u001b[39m\u001b[32m   1220\u001b[39m     stream_cls: \u001b[38;5;28mtype\u001b[39m[_StreamT] | \u001b[38;5;28;01mNone\u001b[39;00m = \u001b[38;5;28;01mNone\u001b[39;00m,\n\u001b[32m   1221\u001b[39m ) -> ResponseT | _StreamT:\n\u001b[32m   1222\u001b[39m     opts = FinalRequestOptions.construct(\n\u001b[32m   1223\u001b[39m         method=\u001b[33m\"\u001b[39m\u001b[33mpost\u001b[39m\u001b[33m\"\u001b[39m, url=path, json_data=body, files=to_httpx_files(files), **options\n\u001b[32m   1224\u001b[39m     )\n\u001b[32m-> \u001b[39m\u001b[32m1225\u001b[39m     \u001b[38;5;28;01mreturn\u001b[39;00m cast(ResponseT, \u001b[38;5;28;43mself\u001b[39;49m\u001b[43m.\u001b[49m\u001b[43mrequest\u001b[49m\u001b[43m(\u001b[49m\u001b[43mcast_to\u001b[49m\u001b[43m,\u001b[49m\u001b[43m \u001b[49m\u001b[43mopts\u001b[49m\u001b[43m,\u001b[49m\u001b[43m \u001b[49m\u001b[43mstream\u001b[49m\u001b[43m=\u001b[49m\u001b[43mstream\u001b[49m\u001b[43m,\u001b[49m\u001b[43m \u001b[49m\u001b[43mstream_cls\u001b[49m\u001b[43m=\u001b[49m\u001b[43mstream_cls\u001b[49m\u001b[43m)\u001b[49m)\n",
      "\u001b[36mFile \u001b[39m\u001b[32m~/Documents/mriduladata/agenticAICourse/venv/lib/python3.13/site-packages/groq/_base_client.py:1034\u001b[39m, in \u001b[36mSyncAPIClient.request\u001b[39m\u001b[34m(self, cast_to, options, stream, stream_cls)\u001b[39m\n\u001b[32m   1031\u001b[39m             err.response.read()\n\u001b[32m   1033\u001b[39m         log.debug(\u001b[33m\"\u001b[39m\u001b[33mRe-raising status error\u001b[39m\u001b[33m\"\u001b[39m)\n\u001b[32m-> \u001b[39m\u001b[32m1034\u001b[39m         \u001b[38;5;28;01mraise\u001b[39;00m \u001b[38;5;28mself\u001b[39m._make_status_error_from_response(err.response) \u001b[38;5;28;01mfrom\u001b[39;00m\u001b[38;5;250m \u001b[39m\u001b[38;5;28;01mNone\u001b[39;00m\n\u001b[32m   1036\u001b[39m     \u001b[38;5;28;01mbreak\u001b[39;00m\n\u001b[32m   1038\u001b[39m \u001b[38;5;28;01massert\u001b[39;00m response \u001b[38;5;129;01mis\u001b[39;00m \u001b[38;5;129;01mnot\u001b[39;00m \u001b[38;5;28;01mNone\u001b[39;00m, \u001b[33m\"\u001b[39m\u001b[33mcould not resolve response (should never happen)\u001b[39m\u001b[33m\"\u001b[39m\n",
      "\u001b[31mBadRequestError\u001b[39m: Error code: 400 - {'error': {'message': \"Failed to call a function. Please adjust your prompt. See 'failed_generation' for more details.\", 'type': 'invalid_request_error', 'code': 'tool_use_failed', 'failed_generation': ''}}",
      "During task with name 'ResearchSupervisor' and id 'bd4fe3c6-525f-6605-10c4-3beb03079d36'"
     ]
    }
   ],
   "source": [
    "#app.invoke({\"messages\":[(\"user\",\"what is cardiothoracic?\")]},subgraphs=True)"
   ]
  },
  {
   "cell_type": "code",
   "execution_count": null,
   "id": "58e0f8d4",
   "metadata": {},
   "outputs": [
    {
     "name": "stdout",
     "output_type": "stream",
     "text": [
      "response\n",
      "{'next': 'financeResearcher'}\n",
      "**********BELOW IS MY GOTO***************\n",
      "financeResearcher\n",
      "response\n",
      "{'next': 'FINISH'}\n",
      "**********BELOW IS MY GOTO***************\n",
      "FINISH\n"
     ]
    },
    {
     "data": {
      "text/plain": [
       "((),\n",
       " {'messages': [HumanMessage(content=\"What is AAPL's latest stock price?\", additional_kwargs={}, response_metadata={}, id='8d954f7e-1107-4ade-90bc-db901bc206eb'),\n",
       "   HumanMessage(content='The latest stock price of AAPL (Apple Inc.) is **$213.55**.', additional_kwargs={}, response_metadata={}, name='financeResearcher', id='ab0147fc-fd24-418e-aba1-d49dfb487325')],\n",
       "  'next': '__end__'})"
      ]
     },
     "execution_count": 72,
     "metadata": {},
     "output_type": "execute_result"
    }
   ],
   "source": [
    "#app.invoke({\"messages\":\"What is AAPL's latest stock price?\"},subgraphs=True)"
   ]
  },
  {
   "cell_type": "code",
   "execution_count": null,
   "id": "f7f6462b",
   "metadata": {},
   "outputs": [
    {
     "name": "stdout",
     "output_type": "stream",
     "text": [
      "response\n",
      "{'next': 'medicalResearcher'}\n",
      "**********BELOW IS MY GOTO***************\n",
      "medicalResearcher\n",
      "response\n",
      "{'next': 'medicalResearcher'}\n",
      "**********BELOW IS MY GOTO***************\n",
      "medicalResearcher\n",
      "Too Many Requests, waiting for 0.20 seconds...\n",
      "Too Many Requests, waiting for 0.40 seconds...\n",
      "response\n",
      "{'next': 'medicalResearcher'}\n",
      "**********BELOW IS MY GOTO***************\n",
      "medicalResearcher\n",
      "Too Many Requests, waiting for 0.20 seconds...\n",
      "Too Many Requests, waiting for 0.40 seconds...\n",
      "response\n",
      "{'next': 'medicalResearcher'}\n",
      "**********BELOW IS MY GOTO***************\n",
      "medicalResearcher\n",
      "Too Many Requests, waiting for 0.20 seconds...\n",
      "response\n",
      "{'next': 'financeResearcher'}\n",
      "**********BELOW IS MY GOTO***************\n",
      "financeResearcher\n",
      "response\n",
      "{'next': 'medicalResearcher'}\n",
      "**********BELOW IS MY GOTO***************\n",
      "medicalResearcher\n",
      "response\n",
      "{'next': 'financeResearcher'}\n",
      "**********BELOW IS MY GOTO***************\n",
      "financeResearcher\n",
      "response\n",
      "{'next': 'financeResearcher'}\n",
      "**********BELOW IS MY GOTO***************\n",
      "financeResearcher\n",
      "response\n",
      "{'next': 'financeResearcher'}\n",
      "**********BELOW IS MY GOTO***************\n",
      "financeResearcher\n",
      "response\n",
      "{'next': 'financeResearcher'}\n",
      "**********BELOW IS MY GOTO***************\n",
      "financeResearcher\n",
      "response\n",
      "{'next': 'FINISH'}\n",
      "**********BELOW IS MY GOTO***************\n",
      "FINISH\n"
     ]
    },
    {
     "data": {
      "text/plain": [
       "((),\n",
       " {'messages': [HumanMessage(content='What is frozen shoulder?', additional_kwargs={}, response_metadata={}, id='95be38f2-d2b5-4e42-9aa1-00f019c0d192'),\n",
       "   HumanMessage(content='Frozen shoulder, also known as adhesive capsulitis, is a condition characterized by stiffness and pain in the shoulder joint. Here\\'s an organized overview:\\n\\n### Definition:\\n- **Name:** Frozen Shoulder or Adhesive Capsulitis\\n- **Description:** The shoulder joint becomes stiff and movement is limited due to inflammation and the \"freezing\" of the joint capsule.\\n\\n### Causes:\\n- Often follows an injury or period of immobility.\\n- Can be associated with conditions like diabetes or thyroid issues.\\n- Gradual onset, potentially linked to inflammation or immobilization.\\n\\n### Symptoms:\\n- Pain in the shoulder and upper arm.\\n- Limited range of motion, making everyday activities difficult.\\n- Gradual progression from pain to stiffness.\\n\\n### Diagnosis:\\n- Physical examination focusing on range of motion.\\n- Imaging tests like X-rays or MRIs to rule out other issues.\\n- Clinical evaluation to assess capsular tightness.\\n\\n### Treatment:\\n- **Conservative:** Physical therapy, pain medications, corticosteroid injections.\\n- **Surgical:** In severe cases, arthroscopic capsular release or other procedures.\\n\\n### Risk Factors:\\n- Age (common between 40-60 years).\\n- Previous shoulder injuries or conditions like diabetes or thyroid disease.\\n\\n### Recent Research:\\n- Investigate new treatments or therapies in recent medical literature.\\n\\n### Alternative Therapies:\\n- Some find relief with acupuncture or specific exercises.\\n\\n### Lifestyle Impact:\\n- Affects daily activities; consider home management with ice or heat therapy.\\n\\n### When to Seek Help:\\n- Consult a healthcare professional if experiencing persistent pain or limited mobility.\\n\\n### Conclusion:\\nFrozen shoulder is a treatable condition, with early intervention crucial for recovery. Understanding its causes, symptoms, and treatment options can help manage the condition effectively.', additional_kwargs={}, response_metadata={}, name='medicalResearcher', id='c4eab186-55d9-4901-a867-b7cd9487209b'),\n",
       "   HumanMessage(content='### Frozen Shoulder: A Comprehensive Overview\\n\\n#### Definition\\nFrozen shoulder, medically known as adhesive capsulitis, is a condition characterized by pain and stiffness in the shoulder joint. It leads to limited mobility and can significantly impact daily activities.\\n\\n#### Causes\\nThe condition often follows an injury or period of immobility. It is also associated with systemic conditions such as diabetes and thyroid disease. The exact cause is not fully understood, but it involves inflammation and contraction of the shoulder capsule.\\n\\n#### Symptoms\\n- Pain in the shoulder and upper arm\\n- Limited range of motion, making activities like reaching or dressing difficult\\n- Gradual progression from pain to stiffness\\n\\n#### Diagnosis\\n- Physical examination focusing on range of motion\\n- Imaging tests like X-rays or MRIs to rule out other issues\\n- Clinical evaluation to assess capsular tightness\\n\\n#### Treatment Options\\n- **Conservative Approaches:** \\n  - Medications to manage pain and inflammation\\n  - Physical therapy to improve mobility\\n  - Corticosteroid injections to reduce inflammation\\n\\n- **Surgical Interventions:** \\n  - Arthroscopic capsular release for severe cases\\n\\n- **Alternative Therapies:** \\n  - Acupuncture, particularly long-needle acupuncture, has shown promise in pain management and improving range of motion, as highlighted in recent studies.\\n\\n#### Risk Factors\\n- Age (most common between 40-60 years)\\n- History of shoulder injuries or conditions like diabetes or thyroid disease\\n\\n#### Recent Research Insights\\n- Clinical practice guidelines emphasize evidence-based recommendations for diagnosis and non-surgical treatments, including the use of ultrasound and MRI as adjunctive diagnostic tools.\\n- Studies suggest that long-needle acupuncture is as effective as filiform needle acupuncture in pain management but offers better improvements in range of motion.\\n\\n#### Lifestyle Impact and Management\\n- The condition can affect daily activities, potentially leading to long-term disabilities in some cases.\\n- Home management techniques, such as ice or heat therapy, can be beneficial.\\n\\n#### When to Seek Help\\nIf experiencing persistent pain or limited mobility, it is crucial to consult a healthcare professional for appropriate management and treatment.\\n\\n#### Conclusion\\nFrozen shoulder is a treatable condition with a variety of management options, including conventional treatments and alternative therapies. Early intervention is key to preventing long-term disabilities. Consulting a healthcare professional is essential for personalized care and effective management.', additional_kwargs={}, response_metadata={}, name='medicalResearcher', id='dc830471-d1f2-4409-ab80-d492ee6b6efb'),\n",
       "   HumanMessage(content='Frozen shoulder, or adhesive capsulitis, is a condition characterized by pain and stiffness in the shoulder joint, leading to limited mobility. It often follows an injury or period of immobility and can be associated with systemic conditions such as diabetes. Diagnosis is primarily clinical, based on patient history and physical examination, with imaging sometimes used as an adjunct. Treatment typically involves non-invasive methods like medications, physical therapy, and corticosteroid injections. In severe cases, surgical interventions may be considered. Recent studies suggest that alternative therapies, such as long-needle acupuncture, may offer benefits in pain management and improving range of motion, comparable to traditional acupuncture methods.', additional_kwargs={}, response_metadata={}, name='medicalResearcher', id='1de9d99d-7d75-4dce-b67b-e8895714953f'),\n",
       "   HumanMessage(content='Frozen shoulder, also known as adhesive capsulitis, is a condition characterized by pain and stiffness in the shoulder joint, leading to limited mobility. It is often self-limiting but can result in long-term disabilities if not properly managed. \\n\\n### Causes and Risk Factors:\\n- **Associated Conditions:** Diabetes, thyroid disease, and dyslipidemia are significant risk factors.\\n- **Progression:** The condition often develops gradually, leading from pain to stiffness.\\n\\n### Symptoms:\\n- **Pain:** Experienced in the shoulder and upper arm.\\n- **Limited Mobility:** Activities such as reaching or dressing become challenging due to restricted range of motion.\\n\\n### Diagnosis:\\n- **Clinical Evaluation:** Primarily based on patient history and physical examination.\\n- **Imaging:** Ultrasound and MRI are used as adjunctive tools to support diagnosis, not as standalone methods.\\n\\n### Treatment Options:\\n- **Non-Invasive Approaches:** \\n  - **Medications:** To manage pain and inflammation.\\n  - **Physical Therapy:** To improve mobility.\\n  - **Corticosteroid Injections:** To reduce inflammation.\\n- **Alternative Therapies:** \\n  - **Acupuncture:** Both filiform and long-needle acupuncture are effective for pain relief, with long-needle acupuncture showing better improvement in range of motion.\\n\\n### Recent Research Insights:\\n- **Clinical Guidelines:** Emphasize evidence-based recommendations for diagnosis and non-surgical treatments.\\n- **Acupuncture Studies:** Long-needle acupuncture is found to be as effective as filiform needle acupuncture in pain management but offers superior improvements in functional mobility.\\n\\n### Conclusion:\\nFrozen shoulder is a treatable condition with various management options, including conventional treatments and alternative therapies. Early intervention is crucial to prevent long-term disabilities. Consulting a healthcare professional is essential for personalized care and effective management.', additional_kwargs={}, response_metadata={}, name='medicalResearcher', id='89b39309-3f5a-48c4-ac81-bc9c067a1e03'),\n",
       "   HumanMessage(content='<begin>\\nTo address the user\\'s query, I first identify the need for financial information about Microsoft (MSFT). I select the financeResearcherTool and input the ticker symbol \"MSFT.\" The tool returns a detailed dataset, which I then parse to extract relevant information. I organize the data to present an overview of Microsoft\\'s financial status, including key metrics like stock price, revenue, and company details. Finally, I format this information into a clear, structured response for the user.\\n<end>', additional_kwargs={}, response_metadata={}, name='financeResearcher', id='b4005cc9-5823-4157-9cd0-144d7599a2e6'),\n",
       "   HumanMessage(content='**Frozen Shoulder (Adhesive Capsulitis): A Comprehensive Overview**\\n\\n**Definition:**\\nFrozen shoulder, medically referred to as adhesive capsulitis, is a condition characterized by pain, stiffness, and limited mobility in the shoulder joint. The term \"frozen\" aptly describes the sensation of the joint becoming immobile, as if frozen in place.\\n\\n**Causes:**\\nThe exact cause of frozen shoulder is not entirely understood, but it is often associated with:\\n- **Injury or Surgery:** Limited mobility following an injury or surgery can contribute to its development.\\n- **Health Conditions:** Conditions like diabetes, thyroid disorders, and dyslipidemia increase the risk.\\n- **Aging:** It is more common in middle-aged individuals, typically between 40 and 60 years old.\\n- **Gender:** Women are more frequently affected than men.\\n\\n**Symptoms:**\\nSymptoms typically develop gradually and may include:\\n- **Pain:** Experienced in the shoulder and upper arm, which may be constant or worsen with movement.\\n- **Limited Mobility:** Difficulty performing everyday activities such as reaching up or behind the back.\\n- **Stiffness:** Progression from pain to significant stiffness over time.\\n\\n**Diagnosis:**\\nDiagnosis involves:\\n- **Physical Examination:** Assessment of shoulder mobility and range of motion.\\n- **Imaging:** Use of X-rays or MRIs to rule out other conditions like fractures or torn ligaments.\\n- **Clinical Criteria:** Specific tests to evaluate capsular tightness and joint inflammation.\\n\\n**Treatment Options:**\\nManagement strategies include:\\n- **Non-Invasive Approaches:**\\n  - **Physical Therapy:** Tailored exercises to improve mobility and strength.\\n  - **Medications:** Pain relievers and anti-inflammatory drugs.\\n  - **Corticosteroid Injections:** To reduce inflammation and pain.\\n- **Surgical Interventions:** In severe cases, procedures like arthroscopic capsular release may be necessary.\\n- **Alternative Therapies:** Acupuncture, particularly long-needle acupuncture, has shown promise in pain management and improving range of motion.\\n\\n**Risk Factors:**\\nKey risk factors include:\\n- **Age:** Most common between 40-60 years.\\n- **Gender:** Higher incidence in women.\\n- **Underlying Health Conditions:** Diabetes, thyroid disease, and dyslipidemia.\\n- **Previous Shoulder Injury or Surgery:** Prolonged immobilization increases risk.\\n\\n**Recent Research Insights:**\\n- **Emerging Treatments:** Studies highlight the effectiveness of long-needle acupuncture in improving both pain and mobility.\\n- **Clinical Guidelines:** Emphasize evidence-based approaches for diagnosis and non-surgical treatments, incorporating imaging as an adjunct tool.\\n\\n**Lifestyle Impact:**\\n- **Daily Life Modifications:** Use of assistive devices and adjustments to daily routines can aid in managing the condition.\\n- **Home Management:** Techniques like ice or heat therapy can provide relief.\\n\\n**When to Seek Help:**\\nPersistent pain or significant loss of motion warrants consultation with a healthcare provider for timely intervention and personalized treatment.\\n\\n**Conclusion:**\\nFrozen shoulder is a treatable condition with various management options, including conventional treatments and alternative therapies. Early intervention is crucial to prevent long-term disabilities. Consulting a healthcare professional ensures personalized care and effective management, improving quality of life for those affected.', additional_kwargs={}, response_metadata={}, name='medicalResearcher', id='229a0ed0-d4cc-4803-aa80-2d1e6a5549b4'),\n",
       "   HumanMessage(content=\"**Microsoft Corporation (MSFT) Financial Overview**\\n\\n**Company Overview:**\\n- **Name:** Microsoft Corporation\\n- **Ticker Symbol:** MSFT\\n- **Industry:** Software - Infrastructure\\n- **Sector:** Technology\\n- **Headquarters:** One Microsoft Way, Redmond, WA 98052-6399\\n- **Website:** [https://www.microsoft.com](https://www.microsoft.com)\\n- **Founded:** 1975\\n\\n**Key Financial Metrics (as of the latest data):**\\n- **Market Capitalization:** $3,707,648,344,064\\n- **Total Revenue:** $270,010,007,552\\n- **Net Income:** $96,635,002,880\\n- **Earnings Per Share (EPS) - Trailing Twelve Months:** 12.92\\n- **Forward EPS:** 14.95\\n- **Dividend Rate:** 3.32\\n- **Dividend Yield:** 0.67%\\n- **Payout Ratio:** 24.42%\\n\\n**Operational Highlights:**\\n- **Full-Time Employees:** 228,000\\n- **Enterprise Value:** $3,722,422,517,760\\n- **Total Cash:** $79,617,998,848\\n- **Total Debt:** $105,018,998,784\\n- **Debt-to-Equity Ratio:** 32.626\\n\\n**Performance Metrics:**\\n- **Profit Margins:** 35.79%\\n- **Operating Margins:** 45.67%\\n- **Return on Assets (ROA):** 14.58%\\n- **Return on Equity (ROE):** 33.61%\\n- **Revenue Growth:** 13.3%\\n- **Net Income Growth:** 17.7%\\n\\n**Stock Performance:**\\n- **Current Price:** $498.84\\n- **52-Week Range:** $344.79 - $500.76\\n- **Average Volume (3 Month):** 23,138,380\\n- **Short Ratio:** 2.72\\n- **Beta:** 1.026\\n- **Target Mean Price:** $522.26\\n- **Recommendation Mean:** 1.43333 (Strong Buy)\\n\\n**Leadership:**\\n- **Chairman & CEO:** Satya Nadella\\n- **President & Vice Chairman:** Bradford L. Smith\\n- **Executive VP & CFO:** Amy E. Hood\\n- **Executive VP & Chief Commercial Officer:** Judson B. Althoff\\n- **Executive VP & COO:** Carolina Dybeck Happe\\n\\n**Analyst Ratings:**\\n- **Number of Analyst Opinions:** 50\\n- **Target High Price:** $700.00\\n- **Target Low Price:** $432.00\\n- **Target Median Price:** $510.82\\n- **Average Analyst Rating:** 1.4 - Strong Buy\\n\\n**Other Key Metrics:**\\n- **Enterprise to Revenue:** 13.786\\n- **Enterprise to EBITDA:** 24.954\\n- **Price-to-Book Ratio:** 11.520555\\n- **Quick Ratio:** 1.244\\n- **Current Ratio:** 1.372\\n- **Free Cash Flow:** $54,817,001,472\\n- **Operating Cash Flow:** $130,710,003,712\\n\\nThis overview provides a comprehensive look at Microsoft Corporation's financial health, operational performance, and market standing as of the latest available data.\", additional_kwargs={}, response_metadata={}, name='financeResearcher', id='ac20e5fb-b069-46b1-9d3b-e9dd2747e298'),\n",
       "   HumanMessage(content='', additional_kwargs={}, response_metadata={}, name='financeResearcher', id='65c161c7-4b93-44b0-a12f-7450dcd72e55'),\n",
       "   HumanMessage(content='', additional_kwargs={}, response_metadata={}, name='financeResearcher', id='89d36048-3edf-4c46-ae65-745c70b14e43'),\n",
       "   HumanMessage(content='', additional_kwargs={}, response_metadata={}, name='financeResearcher', id='30d945a9-f126-49d6-8ea8-472ef56beaff')],\n",
       "  'next': '__end__'})"
      ]
     },
     "execution_count": 74,
     "metadata": {},
     "output_type": "execute_result"
    }
   ],
   "source": [
    "#app.invoke({\"messages\":\"What is frozen shoulder?\"},subgraphs=True)"
   ]
  },
  {
   "cell_type": "markdown",
   "id": "c16701ee",
   "metadata": {},
   "source": [
    "### Report team generation"
   ]
  },
  {
   "cell_type": "code",
   "execution_count": 41,
   "id": "4be378b0",
   "metadata": {},
   "outputs": [
    {
     "name": "stdout",
     "output_type": "stream",
     "text": [
      "/var/folders/2p/546b1qt146v9czmxms2shl1w0000gn/T/tmp0pjmm4h2\n"
     ]
    }
   ],
   "source": [
    "print(WORKING_DIRECTORY)"
   ]
  },
  {
   "cell_type": "code",
   "execution_count": 44,
   "id": "4a201a70",
   "metadata": {},
   "outputs": [
    {
     "name": "stdout",
     "output_type": "stream",
     "text": [
      "<TemporaryDirectory '/var/folders/2p/546b1qt146v9czmxms2shl1w0000gn/T/tmp9m4xh03t'>\n"
     ]
    }
   ],
   "source": [
    "print(_TEMP_DIRECTORY)"
   ]
  },
  {
   "cell_type": "code",
   "execution_count": 52,
   "id": "810ca4a4",
   "metadata": {},
   "outputs": [
    {
     "name": "stdout",
     "output_type": "stream",
     "text": [
      "<class 'str'>\n"
     ]
    }
   ],
   "source": [
    "print(type(_TEMP_DIRECTORY.name))"
   ]
  },
  {
   "cell_type": "code",
   "execution_count": 51,
   "id": "0a2c56eb",
   "metadata": {},
   "outputs": [
    {
     "name": "stdout",
     "output_type": "stream",
     "text": [
      "/var/folders/2p/546b1qt146v9czmxms2shl1w0000gn/T/tmp9m4xh03t\n"
     ]
    }
   ],
   "source": [
    "print(Path(_TEMP_DIRECTORY.name))"
   ]
  },
  {
   "cell_type": "code",
   "execution_count": 45,
   "id": "15ebc19f",
   "metadata": {},
   "outputs": [
    {
     "name": "stdout",
     "output_type": "stream",
     "text": [
      "/Users/kuldeep/Documents/mriduladata/agenticAICourse/agentic2.0/langgraph/assignments\n"
     ]
    }
   ],
   "source": [
    "print(WORKING_DIRECTORY)"
   ]
  },
  {
   "cell_type": "code",
   "execution_count": 53,
   "id": "2ed5c840",
   "metadata": {},
   "outputs": [],
   "source": [
    "from pathlib import Path\n",
    "from tempfile import TemporaryDirectory\n",
    "from typing import Dict, Optional, Annotated,List\n",
    "\n",
    "from langchain_experimental.utilities import PythonREPL\n",
    "from typing_extensions import TypedDict\n",
    "\n",
    "_TEMP_DIRECTORY = TemporaryDirectory()\n",
    "WORKING_DIRECTORY = Path(_TEMP_DIRECTORY.name)\n",
    "WORKING_DIRECTORY=Path(\"/Users/kuldeep/Documents/mriduladata/agenticAICourse/agentic2.0/langgraph/assignments\")\n",
    "\n",
    "\n",
    "@tool\n",
    "def create_outline(\n",
    "    points: Annotated[List[str], \"List of main points or sections.\"],\n",
    "    file_name: Annotated[str, \"File path to save the outline.\"],\n",
    ") -> Annotated[str, \"Path of the saved outline file.\"]:\n",
    "    \"\"\"Create and save an outline.\"\"\"\n",
    "    with (WORKING_DIRECTORY / file_name).open(\"w\") as file:\n",
    "        for i, point in enumerate(points):\n",
    "            file.write(f\"{i + 1}. {point}\\n\")\n",
    "    return f\"Outline saved to {file_name}\"\n",
    "\n",
    "\n",
    "@tool\n",
    "def read_document(\n",
    "    file_name: Annotated[str, \"File path to read the document from.\"],\n",
    "    start: Annotated[Optional[int], \"The start line. Default is 0\"] = None,\n",
    "    end: Annotated[Optional[int], \"The end line. Default is None\"] = None,\n",
    ") -> str:\n",
    "    \"\"\"Read the specified document.\"\"\"\n",
    "    with (WORKING_DIRECTORY / file_name).open(\"r\") as file:\n",
    "        lines = file.readlines()\n",
    "    if start is None:\n",
    "        start = 0\n",
    "    return \"\\n\".join(lines[start:end])\n",
    "\n",
    "\n",
    "@tool\n",
    "def write_document(\n",
    "    content: Annotated[str, \"Text content to be written into the document.\"],\n",
    "    file_name: Annotated[str, \"File path to save the document.\"],\n",
    ") -> Annotated[str, \"Path of the saved document file.\"]:\n",
    "    \"\"\"Create and save a text document.\"\"\"\n",
    "    with (WORKING_DIRECTORY / file_name).open(\"w\") as file:\n",
    "        file.write(content)\n",
    "    return f\"Document saved to {file_name}\"\n",
    "\n",
    "\n",
    "@tool\n",
    "def edit_document(\n",
    "    file_name: Annotated[str, \"Path of the document to be edited.\"],\n",
    "    inserts: Annotated[\n",
    "        Dict[int, str],\n",
    "        \"Dictionary where key is the line number (1-indexed) and value is the text to be inserted at that line.\",\n",
    "    ],\n",
    ") -> Annotated[str, \"Path of the edited document file.\"]:\n",
    "    \"\"\"Edit a document by inserting text at specific line numbers.\"\"\"\n",
    "\n",
    "    with (WORKING_DIRECTORY / file_name).open(\"r\") as file:\n",
    "        lines = file.readlines()\n",
    "\n",
    "    sorted_inserts = sorted(inserts.items())\n",
    "\n",
    "    for line_number, text in sorted_inserts:\n",
    "        if 1 <= line_number <= len(lines) + 1:\n",
    "            lines.insert(line_number - 1, text + \"\\n\")\n",
    "        else:\n",
    "            return f\"Error: Line number {line_number} is out of range.\"\n",
    "\n",
    "    with (WORKING_DIRECTORY / file_name).open(\"w\") as file:\n",
    "        file.writelines(lines)\n",
    "\n",
    "    return f\"Document edited and saved to {file_name}\"\n"
   ]
  },
  {
   "cell_type": "code",
   "execution_count": 58,
   "id": "72ec1567",
   "metadata": {},
   "outputs": [
    {
     "ename": "AttributeError",
     "evalue": "'str' object has no attribute 'items'",
     "output_type": "error",
     "traceback": [
      "\u001b[31m---------------------------------------------------------------------------\u001b[39m",
      "\u001b[31mAttributeError\u001b[39m                            Traceback (most recent call last)",
      "\u001b[36mCell\u001b[39m\u001b[36m \u001b[39m\u001b[32mIn[58]\u001b[39m\u001b[32m, line 3\u001b[39m\n\u001b[32m      1\u001b[39m points = [\u001b[33m\"\u001b[39m\u001b[33mIntroduction\u001b[39m\u001b[33m\"\u001b[39m, \u001b[33m\"\u001b[39m\u001b[33mMethods\u001b[39m\u001b[33m\"\u001b[39m, \u001b[33m\"\u001b[39m\u001b[33mResults\u001b[39m\u001b[33m\"\u001b[39m, \u001b[33m\"\u001b[39m\u001b[33mDiscussion\u001b[39m\u001b[33m\"\u001b[39m, \u001b[33m\"\u001b[39m\u001b[33mConclusion\u001b[39m\u001b[33m\"\u001b[39m]\n\u001b[32m      2\u001b[39m file_name = \u001b[33m\"\u001b[39m\u001b[33mmy_outline.txt\u001b[39m\u001b[33m\"\u001b[39m\n\u001b[32m----> \u001b[39m\u001b[32m3\u001b[39m \u001b[43mcreate_outline\u001b[49m\u001b[43m.\u001b[49m\u001b[43minvoke\u001b[49m\u001b[43m(\u001b[49m\u001b[43mpoints\u001b[49m\u001b[43m,\u001b[49m\u001b[43mfile_name\u001b[49m\u001b[43m)\u001b[49m\n",
      "\u001b[36mFile \u001b[39m\u001b[32m~/Documents/mriduladata/agenticAICourse/venv/lib/python3.13/site-packages/langchain_core/tools/base.py:509\u001b[39m, in \u001b[36mBaseTool.invoke\u001b[39m\u001b[34m(self, input, config, **kwargs)\u001b[39m\n\u001b[32m    502\u001b[39m \u001b[38;5;129m@override\u001b[39m\n\u001b[32m    503\u001b[39m \u001b[38;5;28;01mdef\u001b[39;00m\u001b[38;5;250m \u001b[39m\u001b[34minvoke\u001b[39m(\n\u001b[32m    504\u001b[39m     \u001b[38;5;28mself\u001b[39m,\n\u001b[32m   (...)\u001b[39m\u001b[32m    507\u001b[39m     **kwargs: Any,\n\u001b[32m    508\u001b[39m ) -> Any:\n\u001b[32m--> \u001b[39m\u001b[32m509\u001b[39m     tool_input, kwargs = \u001b[43m_prep_run_args\u001b[49m\u001b[43m(\u001b[49m\u001b[38;5;28;43minput\u001b[39;49m\u001b[43m,\u001b[49m\u001b[43m \u001b[49m\u001b[43mconfig\u001b[49m\u001b[43m,\u001b[49m\u001b[43m \u001b[49m\u001b[43m*\u001b[49m\u001b[43m*\u001b[49m\u001b[43mkwargs\u001b[49m\u001b[43m)\u001b[49m\n\u001b[32m    510\u001b[39m     \u001b[38;5;28;01mreturn\u001b[39;00m \u001b[38;5;28mself\u001b[39m.run(tool_input, **kwargs)\n",
      "\u001b[36mFile \u001b[39m\u001b[32m~/Documents/mriduladata/agenticAICourse/venv/lib/python3.13/site-packages/langchain_core/tools/base.py:947\u001b[39m, in \u001b[36m_prep_run_args\u001b[39m\u001b[34m(value, config, **kwargs)\u001b[39m\n\u001b[32m    942\u001b[39m \u001b[38;5;28;01mdef\u001b[39;00m\u001b[38;5;250m \u001b[39m\u001b[34m_prep_run_args\u001b[39m(\n\u001b[32m    943\u001b[39m     value: Union[\u001b[38;5;28mstr\u001b[39m, \u001b[38;5;28mdict\u001b[39m, ToolCall],\n\u001b[32m    944\u001b[39m     config: Optional[RunnableConfig],\n\u001b[32m    945\u001b[39m     **kwargs: Any,\n\u001b[32m    946\u001b[39m ) -> \u001b[38;5;28mtuple\u001b[39m[Union[\u001b[38;5;28mstr\u001b[39m, \u001b[38;5;28mdict\u001b[39m], \u001b[38;5;28mdict\u001b[39m]:\n\u001b[32m--> \u001b[39m\u001b[32m947\u001b[39m     config = \u001b[43mensure_config\u001b[49m\u001b[43m(\u001b[49m\u001b[43mconfig\u001b[49m\u001b[43m)\u001b[49m\n\u001b[32m    948\u001b[39m     \u001b[38;5;28;01mif\u001b[39;00m _is_tool_call(value):\n\u001b[32m    949\u001b[39m         tool_call_id: Optional[\u001b[38;5;28mstr\u001b[39m] = cast(\u001b[33m\"\u001b[39m\u001b[33mToolCall\u001b[39m\u001b[33m\"\u001b[39m, value)[\u001b[33m\"\u001b[39m\u001b[33mid\u001b[39m\u001b[33m\"\u001b[39m]\n",
      "\u001b[36mFile \u001b[39m\u001b[32m~/Documents/mriduladata/agenticAICourse/venv/lib/python3.13/site-packages/langchain_core/runnables/config.py:219\u001b[39m, in \u001b[36mensure_config\u001b[39m\u001b[34m(config)\u001b[39m\n\u001b[32m    203\u001b[39m     empty.update(\n\u001b[32m    204\u001b[39m         cast(\n\u001b[32m    205\u001b[39m             \u001b[33m\"\u001b[39m\u001b[33mRunnableConfig\u001b[39m\u001b[33m\"\u001b[39m,\n\u001b[32m   (...)\u001b[39m\u001b[32m    211\u001b[39m         )\n\u001b[32m    212\u001b[39m     )\n\u001b[32m    213\u001b[39m \u001b[38;5;28;01mif\u001b[39;00m config \u001b[38;5;129;01mis\u001b[39;00m \u001b[38;5;129;01mnot\u001b[39;00m \u001b[38;5;28;01mNone\u001b[39;00m:\n\u001b[32m    214\u001b[39m     empty.update(\n\u001b[32m    215\u001b[39m         cast(\n\u001b[32m    216\u001b[39m             \u001b[33m\"\u001b[39m\u001b[33mRunnableConfig\u001b[39m\u001b[33m\"\u001b[39m,\n\u001b[32m    217\u001b[39m             {\n\u001b[32m    218\u001b[39m                 k: v.copy() \u001b[38;5;28;01mif\u001b[39;00m k \u001b[38;5;129;01min\u001b[39;00m COPIABLE_KEYS \u001b[38;5;28;01melse\u001b[39;00m v  \u001b[38;5;66;03m# type: ignore[attr-defined]\u001b[39;00m\n\u001b[32m--> \u001b[39m\u001b[32m219\u001b[39m                 \u001b[38;5;28;01mfor\u001b[39;00m k, v \u001b[38;5;129;01min\u001b[39;00m \u001b[43mconfig\u001b[49m\u001b[43m.\u001b[49m\u001b[43mitems\u001b[49m()\n\u001b[32m    220\u001b[39m                 \u001b[38;5;28;01mif\u001b[39;00m v \u001b[38;5;129;01mis\u001b[39;00m \u001b[38;5;129;01mnot\u001b[39;00m \u001b[38;5;28;01mNone\u001b[39;00m \u001b[38;5;129;01mand\u001b[39;00m k \u001b[38;5;129;01min\u001b[39;00m CONFIG_KEYS\n\u001b[32m    221\u001b[39m             },\n\u001b[32m    222\u001b[39m         )\n\u001b[32m    223\u001b[39m     )\n\u001b[32m    224\u001b[39m \u001b[38;5;28;01mif\u001b[39;00m config \u001b[38;5;129;01mis\u001b[39;00m \u001b[38;5;129;01mnot\u001b[39;00m \u001b[38;5;28;01mNone\u001b[39;00m:\n\u001b[32m    225\u001b[39m     \u001b[38;5;28;01mfor\u001b[39;00m k, v \u001b[38;5;129;01min\u001b[39;00m config.items():\n",
      "\u001b[31mAttributeError\u001b[39m: 'str' object has no attribute 'items'"
     ]
    }
   ],
   "source": [
    "points = [\"Introduction\", \"Methods\", \"Results\", \"Discussion\", \"Conclusion\"]\n",
    "file_name = \"my_outline.txt\"\n",
    "create_outline.invoke(points,file_name)"
   ]
  },
  {
   "cell_type": "code",
   "execution_count": 49,
   "id": "3d4360ab",
   "metadata": {},
   "outputs": [
    {
     "ename": "ValidationError",
     "evalue": "1 validation error for create_outline\n  Input should be a valid dictionary or instance of create_outline [type=model_type, input_value=['test'], input_type=list]\n    For further information visit https://errors.pydantic.dev/2.11/v/model_type",
     "output_type": "error",
     "traceback": [
      "\u001b[31m---------------------------------------------------------------------------\u001b[39m",
      "\u001b[31mValidationError\u001b[39m                           Traceback (most recent call last)",
      "\u001b[36mCell\u001b[39m\u001b[36m \u001b[39m\u001b[32mIn[49]\u001b[39m\u001b[32m, line 1\u001b[39m\n\u001b[32m----> \u001b[39m\u001b[32m1\u001b[39m \u001b[43mcreate_outline\u001b[49m\u001b[43m.\u001b[49m\u001b[43minvoke\u001b[49m\u001b[43m(\u001b[49m\u001b[43mpoints\u001b[49m\u001b[43m=\u001b[49m\u001b[43m[\u001b[49m\u001b[33;43m\"\u001b[39;49m\u001b[33;43mmridulais cool, everybody is cool\u001b[39;49m\u001b[33;43m\"\u001b[39;49m\u001b[43m]\u001b[49m\u001b[43m,\u001b[49m\u001b[43m \u001b[49m\u001b[43mfile_name\u001b[49m\u001b[43m=\u001b[49m\u001b[33;43m\"\u001b[39;49m\u001b[33;43mtest.txt\u001b[39;49m\u001b[33;43m\"\u001b[39;49m\u001b[43m,\u001b[49m\u001b[38;5;28;43minput\u001b[39;49m\u001b[43m=\u001b[49m\u001b[43m[\u001b[49m\u001b[33;43m\"\u001b[39;49m\u001b[33;43mtest\u001b[39;49m\u001b[33;43m\"\u001b[39;49m\u001b[43m]\u001b[49m\u001b[43m)\u001b[49m\n",
      "\u001b[36mFile \u001b[39m\u001b[32m~/Documents/mriduladata/agenticAICourse/venv/lib/python3.13/site-packages/langchain_core/tools/base.py:510\u001b[39m, in \u001b[36mBaseTool.invoke\u001b[39m\u001b[34m(self, input, config, **kwargs)\u001b[39m\n\u001b[32m    502\u001b[39m \u001b[38;5;129m@override\u001b[39m\n\u001b[32m    503\u001b[39m \u001b[38;5;28;01mdef\u001b[39;00m\u001b[38;5;250m \u001b[39m\u001b[34minvoke\u001b[39m(\n\u001b[32m    504\u001b[39m     \u001b[38;5;28mself\u001b[39m,\n\u001b[32m   (...)\u001b[39m\u001b[32m    507\u001b[39m     **kwargs: Any,\n\u001b[32m    508\u001b[39m ) -> Any:\n\u001b[32m    509\u001b[39m     tool_input, kwargs = _prep_run_args(\u001b[38;5;28minput\u001b[39m, config, **kwargs)\n\u001b[32m--> \u001b[39m\u001b[32m510\u001b[39m     \u001b[38;5;28;01mreturn\u001b[39;00m \u001b[38;5;28;43mself\u001b[39;49m\u001b[43m.\u001b[49m\u001b[43mrun\u001b[49m\u001b[43m(\u001b[49m\u001b[43mtool_input\u001b[49m\u001b[43m,\u001b[49m\u001b[43m \u001b[49m\u001b[43m*\u001b[49m\u001b[43m*\u001b[49m\u001b[43mkwargs\u001b[49m\u001b[43m)\u001b[49m\n",
      "\u001b[36mFile \u001b[39m\u001b[32m~/Documents/mriduladata/agenticAICourse/venv/lib/python3.13/site-packages/langchain_core/tools/base.py:771\u001b[39m, in \u001b[36mBaseTool.run\u001b[39m\u001b[34m(self, tool_input, verbose, start_color, color, callbacks, tags, metadata, run_name, run_id, config, tool_call_id, **kwargs)\u001b[39m\n\u001b[32m    769\u001b[39m \u001b[38;5;28;01mif\u001b[39;00m error_to_raise:\n\u001b[32m    770\u001b[39m     run_manager.on_tool_error(error_to_raise)\n\u001b[32m--> \u001b[39m\u001b[32m771\u001b[39m     \u001b[38;5;28;01mraise\u001b[39;00m error_to_raise\n\u001b[32m    772\u001b[39m output = _format_output(content, artifact, tool_call_id, \u001b[38;5;28mself\u001b[39m.name, status)\n\u001b[32m    773\u001b[39m run_manager.on_tool_end(output, color=color, name=\u001b[38;5;28mself\u001b[39m.name, **kwargs)\n",
      "\u001b[36mFile \u001b[39m\u001b[32m~/Documents/mriduladata/agenticAICourse/venv/lib/python3.13/site-packages/langchain_core/tools/base.py:733\u001b[39m, in \u001b[36mBaseTool.run\u001b[39m\u001b[34m(self, tool_input, verbose, start_color, color, callbacks, tags, metadata, run_name, run_id, config, tool_call_id, **kwargs)\u001b[39m\n\u001b[32m    731\u001b[39m child_config = patch_config(config, callbacks=run_manager.get_child())\n\u001b[32m    732\u001b[39m \u001b[38;5;28;01mwith\u001b[39;00m set_config_context(child_config) \u001b[38;5;28;01mas\u001b[39;00m context:\n\u001b[32m--> \u001b[39m\u001b[32m733\u001b[39m     tool_args, tool_kwargs = \u001b[38;5;28;43mself\u001b[39;49m\u001b[43m.\u001b[49m\u001b[43m_to_args_and_kwargs\u001b[49m\u001b[43m(\u001b[49m\n\u001b[32m    734\u001b[39m \u001b[43m        \u001b[49m\u001b[43mtool_input\u001b[49m\u001b[43m,\u001b[49m\u001b[43m \u001b[49m\u001b[43mtool_call_id\u001b[49m\n\u001b[32m    735\u001b[39m \u001b[43m    \u001b[49m\u001b[43m)\u001b[49m\n\u001b[32m    736\u001b[39m     \u001b[38;5;28;01mif\u001b[39;00m signature(\u001b[38;5;28mself\u001b[39m._run).parameters.get(\u001b[33m\"\u001b[39m\u001b[33mrun_manager\u001b[39m\u001b[33m\"\u001b[39m):\n\u001b[32m    737\u001b[39m         tool_kwargs = tool_kwargs | {\u001b[33m\"\u001b[39m\u001b[33mrun_manager\u001b[39m\u001b[33m\"\u001b[39m: run_manager}\n",
      "\u001b[36mFile \u001b[39m\u001b[32m~/Documents/mriduladata/agenticAICourse/venv/lib/python3.13/site-packages/langchain_core/tools/base.py:648\u001b[39m, in \u001b[36mBaseTool._to_args_and_kwargs\u001b[39m\u001b[34m(self, tool_input, tool_call_id)\u001b[39m\n\u001b[32m    640\u001b[39m \u001b[38;5;28;01mif\u001b[39;00m (\n\u001b[32m    641\u001b[39m     \u001b[38;5;28mself\u001b[39m.args_schema \u001b[38;5;129;01mis\u001b[39;00m \u001b[38;5;129;01mnot\u001b[39;00m \u001b[38;5;28;01mNone\u001b[39;00m\n\u001b[32m    642\u001b[39m     \u001b[38;5;129;01mand\u001b[39;00m \u001b[38;5;28misinstance\u001b[39m(\u001b[38;5;28mself\u001b[39m.args_schema, \u001b[38;5;28mtype\u001b[39m)\n\u001b[32m   (...)\u001b[39m\u001b[32m    645\u001b[39m ):\n\u001b[32m    646\u001b[39m     \u001b[38;5;66;03m# StructuredTool with no args\u001b[39;00m\n\u001b[32m    647\u001b[39m     \u001b[38;5;28;01mreturn\u001b[39;00m (), {}\n\u001b[32m--> \u001b[39m\u001b[32m648\u001b[39m tool_input = \u001b[38;5;28;43mself\u001b[39;49m\u001b[43m.\u001b[49m\u001b[43m_parse_input\u001b[49m\u001b[43m(\u001b[49m\u001b[43mtool_input\u001b[49m\u001b[43m,\u001b[49m\u001b[43m \u001b[49m\u001b[43mtool_call_id\u001b[49m\u001b[43m)\u001b[49m\n\u001b[32m    649\u001b[39m \u001b[38;5;66;03m# For backwards compatibility, if run_input is a string,\u001b[39;00m\n\u001b[32m    650\u001b[39m \u001b[38;5;66;03m# pass as a positional argument.\u001b[39;00m\n\u001b[32m    651\u001b[39m \u001b[38;5;28;01mif\u001b[39;00m \u001b[38;5;28misinstance\u001b[39m(tool_input, \u001b[38;5;28mstr\u001b[39m):\n",
      "\u001b[36mFile \u001b[39m\u001b[32m~/Documents/mriduladata/agenticAICourse/venv/lib/python3.13/site-packages/langchain_core/tools/base.py:567\u001b[39m, in \u001b[36mBaseTool._parse_input\u001b[39m\u001b[34m(self, tool_input, tool_call_id)\u001b[39m\n\u001b[32m    565\u001b[39m                 \u001b[38;5;28;01mraise\u001b[39;00m \u001b[38;5;167;01mValueError\u001b[39;00m(msg)\n\u001b[32m    566\u001b[39m             tool_input[k] = tool_call_id\n\u001b[32m--> \u001b[39m\u001b[32m567\u001b[39m     result = \u001b[43minput_args\u001b[49m\u001b[43m.\u001b[49m\u001b[43mmodel_validate\u001b[49m\u001b[43m(\u001b[49m\u001b[43mtool_input\u001b[49m\u001b[43m)\u001b[49m\n\u001b[32m    568\u001b[39m     result_dict = result.model_dump()\n\u001b[32m    569\u001b[39m \u001b[38;5;28;01melif\u001b[39;00m \u001b[38;5;28missubclass\u001b[39m(input_args, BaseModelV1):\n",
      "\u001b[36mFile \u001b[39m\u001b[32m~/Documents/mriduladata/agenticAICourse/venv/lib/python3.13/site-packages/pydantic/main.py:705\u001b[39m, in \u001b[36mBaseModel.model_validate\u001b[39m\u001b[34m(cls, obj, strict, from_attributes, context, by_alias, by_name)\u001b[39m\n\u001b[32m    699\u001b[39m \u001b[38;5;28;01mif\u001b[39;00m by_alias \u001b[38;5;129;01mis\u001b[39;00m \u001b[38;5;28;01mFalse\u001b[39;00m \u001b[38;5;129;01mand\u001b[39;00m by_name \u001b[38;5;129;01mis\u001b[39;00m \u001b[38;5;129;01mnot\u001b[39;00m \u001b[38;5;28;01mTrue\u001b[39;00m:\n\u001b[32m    700\u001b[39m     \u001b[38;5;28;01mraise\u001b[39;00m PydanticUserError(\n\u001b[32m    701\u001b[39m         \u001b[33m'\u001b[39m\u001b[33mAt least one of `by_alias` or `by_name` must be set to True.\u001b[39m\u001b[33m'\u001b[39m,\n\u001b[32m    702\u001b[39m         code=\u001b[33m'\u001b[39m\u001b[33mvalidate-by-alias-and-name-false\u001b[39m\u001b[33m'\u001b[39m,\n\u001b[32m    703\u001b[39m     )\n\u001b[32m--> \u001b[39m\u001b[32m705\u001b[39m \u001b[38;5;28;01mreturn\u001b[39;00m \u001b[38;5;28;43mcls\u001b[39;49m\u001b[43m.\u001b[49m\u001b[43m__pydantic_validator__\u001b[49m\u001b[43m.\u001b[49m\u001b[43mvalidate_python\u001b[49m\u001b[43m(\u001b[49m\n\u001b[32m    706\u001b[39m \u001b[43m    \u001b[49m\u001b[43mobj\u001b[49m\u001b[43m,\u001b[49m\u001b[43m \u001b[49m\u001b[43mstrict\u001b[49m\u001b[43m=\u001b[49m\u001b[43mstrict\u001b[49m\u001b[43m,\u001b[49m\u001b[43m \u001b[49m\u001b[43mfrom_attributes\u001b[49m\u001b[43m=\u001b[49m\u001b[43mfrom_attributes\u001b[49m\u001b[43m,\u001b[49m\u001b[43m \u001b[49m\u001b[43mcontext\u001b[49m\u001b[43m=\u001b[49m\u001b[43mcontext\u001b[49m\u001b[43m,\u001b[49m\u001b[43m \u001b[49m\u001b[43mby_alias\u001b[49m\u001b[43m=\u001b[49m\u001b[43mby_alias\u001b[49m\u001b[43m,\u001b[49m\u001b[43m \u001b[49m\u001b[43mby_name\u001b[49m\u001b[43m=\u001b[49m\u001b[43mby_name\u001b[49m\n\u001b[32m    707\u001b[39m \u001b[43m\u001b[49m\u001b[43m)\u001b[49m\n",
      "\u001b[31mValidationError\u001b[39m: 1 validation error for create_outline\n  Input should be a valid dictionary or instance of create_outline [type=model_type, input_value=['test'], input_type=list]\n    For further information visit https://errors.pydantic.dev/2.11/v/model_type"
     ]
    }
   ],
   "source": [
    "create_outline.invoke(points=[\"mridulais cool, everybody is cool\"], file_name=\"test.txt\",input=[\"test\"])"
   ]
  },
  {
   "cell_type": "code",
   "execution_count": 59,
   "id": "a99882ed",
   "metadata": {},
   "outputs": [],
   "source": [
    "class ReportRouter(TypedDict):\n",
    "    \"\"\"Worker to route to next. If no workers needed, route to FINISH\"\"\"\n",
    "    next: Literal['noteTaker', 'docWriter', 'FINISH']"
   ]
  },
  {
   "cell_type": "code",
   "execution_count": 60,
   "id": "51076560",
   "metadata": {},
   "outputs": [],
   "source": [
    "reportMembers=[\"noteTaker\",\"docWriter\"]"
   ]
  },
  {
   "cell_type": "code",
   "execution_count": 31,
   "id": "e749a0ee",
   "metadata": {},
   "outputs": [],
   "source": [
    "report_system_prompt = f\"\"\"\"\n",
    "You are a supervisor of Writing Team, tasked with managing a conversation between the following workers: {reportMembers}. \n",
    "Given the following user request, respond with the worker to act next. \n",
    "Each worker will perform a task and respond with their results and status. \n",
    "When finished, respond with FINISH.\n",
    "\"\"\""
   ]
  },
  {
   "cell_type": "code",
   "execution_count": 61,
   "id": "3ead3040",
   "metadata": {},
   "outputs": [],
   "source": [
    "def reportSupervisor_agent(state:State)->Command[Literal['noteTaker', 'docWriter', '__end__']]:\n",
    "    \n",
    "    messages = [{\"role\": \"system\", \"content\": report_system_prompt},] + state[\"messages\"]\n",
    "    \n",
    "    llm_with_structure_output=llm.with_structured_output(ReportRouter)\n",
    "    \n",
    "    response=llm_with_structure_output.invoke(messages)\n",
    "    print(\"response\")\n",
    "    print(response)\n",
    "    \n",
    "    goto=response[\"next\"]\n",
    "\n",
    "    \n",
    "    print(\"**********BELOW IS MY GOTO***************\")\n",
    "    \n",
    "    print(goto)\n",
    "    \n",
    "    if goto == \"FINISH\":\n",
    "        goto=END\n",
    "    \n",
    "    # class State(MessagesState):\n",
    "    #   next:str\n",
    "    # output of the state: state={\"messages\": [\"hi\"], \"next\": \"researcher\"}\n",
    "    \n",
    "    return Command(goto=goto, update={\"next\":goto})"
   ]
  },
  {
   "cell_type": "code",
   "execution_count": 62,
   "id": "347638c7",
   "metadata": {},
   "outputs": [],
   "source": [
    "#note taking agent\n",
    "def noteTaking_agent(state: State) -> Command[Literal[\"ReportSupervisor\"]]:\n",
    "    \n",
    "    noteTaking_agent = create_react_agent(llm, tools=[create_outline,read_document], prompt=\"You can read documents and create outlines for the document writer. Don't ask follow-up questions\")\n",
    "    \n",
    "    result=noteTaking_agent.invoke(state)\n",
    "    \n",
    "    return Command(\n",
    "        update={\n",
    "            \"messages\": [\n",
    "                HumanMessage(content=result[\"messages\"][-1].content, name=\"noteTaker\")\n",
    "            ]\n",
    "        },\n",
    "        goto=\"ReportSupervisor\",\n",
    "    )\n",
    "    \n"
   ]
  },
  {
   "cell_type": "code",
   "execution_count": 63,
   "id": "552bafa9",
   "metadata": {},
   "outputs": [],
   "source": [
    "#doc writer agent\n",
    "def docWriter_agent(state: State) -> Command[Literal[\"ReportSupervisor\"]]:\n",
    "    \n",
    "    docWriter_agent = create_react_agent(llm, tools=[write_document,edit_document,read_document], prompt=\"You can read, write and edit documents based on note-taker's outlines. Don't ask follow-up questions.\")\n",
    "    \n",
    "    result=docWriter_agent.invoke(state)\n",
    "    \n",
    "    return Command(\n",
    "        update={\n",
    "            \"messages\": [\n",
    "                HumanMessage(content=result[\"messages\"][-1].content, name=\"docWriter\")\n",
    "            ]\n",
    "        },\n",
    "        goto=\"ReportSupervisor\",\n",
    "    )\n",
    "    "
   ]
  },
  {
   "cell_type": "code",
   "execution_count": 64,
   "id": "abca17c3",
   "metadata": {},
   "outputs": [
    {
     "data": {
      "text/plain": [
       "<langgraph.graph.state.StateGraph at 0x12967dfd0>"
      ]
     },
     "execution_count": 64,
     "metadata": {},
     "output_type": "execute_result"
    }
   ],
   "source": [
    "paper_graph=StateGraph(State)\n",
    "paper_graph.add_node(\"ReportSupervisor\", reportSupervisor_agent)\n",
    "paper_graph.add_node(\"noteTaker\", noteTaking_agent)\n",
    "paper_graph.add_node(\"docWriter\", docWriter_agent)\n",
    "paper_graph.add_edge(START, \"ReportSupervisor\")\n"
   ]
  },
  {
   "cell_type": "code",
   "execution_count": 65,
   "id": "dbfb3e4c",
   "metadata": {},
   "outputs": [],
   "source": [
    "writerApp=paper_graph.compile()"
   ]
  },
  {
   "cell_type": "code",
   "execution_count": 66,
   "id": "a2b2e000",
   "metadata": {},
   "outputs": [
    {
     "data": {
      "image/png": "[encoded data removed]",
      "text/plain": [
       "<IPython.core.display.Image object>"
      ]
     },
     "metadata": {},
     "output_type": "display_data"
    }
   ],
   "source": [
    "from IPython.display import display,Image\n",
    "display(Image(writerApp.get_graph().draw_mermaid_png()))"
   ]
  },
  {
   "cell_type": "code",
   "execution_count": 67,
   "id": "c053e1c6",
   "metadata": {},
   "outputs": [
    {
     "name": "stdout",
     "output_type": "stream",
     "text": [
      "response\n",
      "{'next': 'noteTaker'}\n",
      "**********BELOW IS MY GOTO***************\n",
      "noteTaker\n",
      "{'ReportSupervisor': {'next': 'noteTaker'}}\n",
      "---\n",
      "{'noteTaker': {'messages': [HumanMessage(content='I\\'ve created the outline for the poem about cats and saved it as \"poem_outline_cats.txt\". You can now proceed to write the poem using this outline.', additional_kwargs={}, response_metadata={}, name='noteTaker', id='662320a4-f3c4-4b53-a2e0-9176660667b6')]}}\n",
      "---\n",
      "response\n",
      "{'next': 'docWriter'}\n",
      "**********BELOW IS MY GOTO***************\n",
      "docWriter\n",
      "{'ReportSupervisor': {'next': 'docWriter'}}\n",
      "---\n",
      "{'docWriter': {'messages': [HumanMessage(content='The poem \"Ode to Cats\" has been written and saved as \"ode_to_cats.txt\" based on the provided outline.', additional_kwargs={}, response_metadata={}, name='docWriter', id='8fd3ffe6-8c0f-4779-be18-1e4fb46787d7')]}}\n",
      "---\n",
      "response\n",
      "{'next': 'FINISH'}\n",
      "**********BELOW IS MY GOTO***************\n",
      "FINISH\n",
      "{'ReportSupervisor': {'next': '__end__'}}\n",
      "---\n"
     ]
    }
   ],
   "source": [
    "for s in writerApp.stream(\n",
    "    {\n",
    "        \"messages\": [\n",
    "            (\n",
    "                \"user\",\n",
    "                \"Write an outline for poem about cats and then write the poem to disk.\",\n",
    "            )\n",
    "        ]\n",
    "    },\n",
    "    {\"recursion_limit\": 10},\n",
    "):\n",
    "    print(s)\n",
    "    print(\"---\")"
   ]
  },
  {
   "cell_type": "markdown",
   "id": "d9d312bf",
   "metadata": {},
   "source": [
    "### combine 2 graphs"
   ]
  },
  {
   "cell_type": "code",
   "execution_count": 68,
   "id": "b36b72da",
   "metadata": {},
   "outputs": [],
   "source": [
    "class TeamRouter(TypedDict):\n",
    "    \"\"\"Worker to route to next. If no workers needed, route to FINISH\"\"\"\n",
    "    next: Literal['researchTeam', 'writingTeam', 'FINISH']"
   ]
  },
  {
   "cell_type": "code",
   "execution_count": 69,
   "id": "6e4f38eb",
   "metadata": {},
   "outputs": [],
   "source": [
    "teamMembers=[\"researchTeam\",\"writingTeam\"]"
   ]
  },
  {
   "cell_type": "code",
   "execution_count": 70,
   "id": "dd4f9f96",
   "metadata": {},
   "outputs": [],
   "source": [
    "team_system_prompt = f\"\"\"\"\n",
    "You are Team supervisor of 2 teams: Research Team and Writing team, tasked with managing a conversation between the following workers: {teamMembers}. \n",
    "Given the following user request, respond with the worker to act next. \n",
    "Each worker will perform a task and respond with their results and status. \n",
    "When finished, respond with FINISH.\n",
    "\"\"\""
   ]
  },
  {
   "cell_type": "code",
   "execution_count": 72,
   "id": "46098924",
   "metadata": {},
   "outputs": [],
   "source": [
    "# main supervisor\n",
    "def teamSupervisor_agent(state:State)->Command[Literal['researchTeam', 'writingTeam', '__end__']]:\n",
    "    \n",
    "    messages = [{\"role\": \"system\", \"content\": team_system_prompt},] + state[\"messages\"]\n",
    "    \n",
    "    llm_with_structure_output=llm.with_structured_output(TeamRouter)\n",
    "    \n",
    "    response=llm_with_structure_output.invoke(messages)\n",
    "    print(\"response\")\n",
    "    print(response)\n",
    "    \n",
    "    goto=response[\"next\"]\n",
    "\n",
    "    \n",
    "    print(\"**********BELOW IS MY GOTO***************\")\n",
    "    \n",
    "    print(goto)\n",
    "    \n",
    "    if goto == \"FINISH\":\n",
    "        goto=END\n",
    "    \n",
    "    # class State(MessagesState):\n",
    "    #   next:str\n",
    "    # output of the state: state={\"messages\": [\"hi\"], \"next\": \"researcher\"}\n",
    "    \n",
    "    return Command(goto=goto, update={\"next\":goto})\n"
   ]
  },
  {
   "cell_type": "code",
   "execution_count": 77,
   "id": "8f3ac52d",
   "metadata": {},
   "outputs": [],
   "source": [
    "#Research Team\n",
    "def callResearch_team(state: State) -> Command[Literal[\"TeamSupervisor\"]]:\n",
    "    \n",
    "    result=researchApp.invoke({\"messages\":state[\"messages\"][-1]})\n",
    "    return Command(\n",
    "        update={\n",
    "            \"messages\": [\n",
    "                HumanMessage(content=result[\"messages\"][-1].content, name=\"researchTeam\")\n",
    "            ]\n",
    "        },\n",
    "        goto=\"TeamSupervisor\",\n",
    "    )\n",
    "    "
   ]
  },
  {
   "cell_type": "code",
   "execution_count": 78,
   "id": "7b004f7a",
   "metadata": {},
   "outputs": [],
   "source": [
    "#Writing Team\n",
    "def callWriting_team(state: State) -> Command[Literal[\"TeamSupervisor\"]]:\n",
    "    \n",
    "    result=writerApp.invoke({\"messages\":state[\"messages\"][-1]})\n",
    "    return Command(\n",
    "        update={\n",
    "            \"messages\": [\n",
    "                HumanMessage(content=result[\"messages\"][-1].content, name=\"writingTeam\")\n",
    "            ]\n",
    "        },\n",
    "        goto=\"TeamSupervisor\",\n",
    "    )"
   ]
  },
  {
   "cell_type": "code",
   "execution_count": 79,
   "id": "b4b8137d",
   "metadata": {},
   "outputs": [
    {
     "data": {
      "text/plain": [
       "<langgraph.graph.state.StateGraph at 0x129bdf890>"
      ]
     },
     "execution_count": 79,
     "metadata": {},
     "output_type": "execute_result"
    }
   ],
   "source": [
    "super_graph=StateGraph(State)\n",
    "super_graph.add_node(\"TeamSupervisor\", teamSupervisor_agent)\n",
    "super_graph.add_node(\"researchTeam\", callResearch_team)\n",
    "super_graph.add_node(\"writingTeam\", callWriting_team)\n",
    "super_graph.add_edge(START, \"TeamSupervisor\")"
   ]
  },
  {
   "cell_type": "code",
   "execution_count": 80,
   "id": "9fb6e57e",
   "metadata": {},
   "outputs": [],
   "source": [
    "super_app=super_graph.compile()"
   ]
  },
  {
   "cell_type": "code",
   "execution_count": 81,
   "id": "9139c2a1",
   "metadata": {},
   "outputs": [
    {
     "data": {
      "image/png": "[encoded data removed]",
      "text/plain": [
       "<IPython.core.display.Image object>"
      ]
     },
     "metadata": {},
     "output_type": "display_data"
    }
   ],
   "source": [
    "from IPython.display import display,Image\n",
    "display(Image(super_app.get_graph().draw_mermaid_png()))"
   ]
  },
  {
   "cell_type": "code",
   "execution_count": 82,
   "id": "ec844913",
   "metadata": {},
   "outputs": [
    {
     "name": "stdout",
     "output_type": "stream",
     "text": [
      "response\n",
      "{'next': 'researchTeam'}\n",
      "**********BELOW IS MY GOTO***************\n",
      "researchTeam\n",
      "{'TeamSupervisor': {'next': 'researchTeam'}}\n",
      "---\n",
      "*****response****\n",
      "{'next': 'medicalResearcher'}\n",
      "**********BELOW IS MY GOTO***************\n",
      "medicalResearcher\n",
      "*****response****\n",
      "{'next': 'financeResearcher'}\n",
      "**********BELOW IS MY GOTO***************\n",
      "financeResearcher\n",
      "*****response****\n",
      "{'next': 'FINISH'}\n",
      "**********BELOW IS MY GOTO***************\n",
      "FINISH\n",
      "{'researchTeam': {'messages': [HumanMessage(content='Frozen shoulder, or adhesive capsulitis, is a musculoskeletal condition characterized by pain and limited range of motion in the shoulder joint. It is typically a self-limiting condition that progresses through three stages: freezing, frozen, and thawing, each with distinct symptoms and duration.\\n\\nKey features and management include:\\n\\n1. **Etiology & Risk Factors**: The exact cause remains unclear, but it occurs more frequently in individuals with diabetes, thyroid disorders, and following prolonged shoulder immobilization. Women and individuals aged 40-60 are at higher risk.\\n\\n2. **Symptoms**: The condition begins with shoulder pain, particularly during night-time and upon moving the shoulder, progressing to significant stiffness.\\n\\n3. **Diagnosis**: Diagnosed through clinical examination and patient history. Imaging techniques like ultrasound and MRI can be supplementary but are not primary diagnostic tools.\\n\\n4. **Treatment**: Primarily involves non-surgical interventions such as analgesics, anti-inflammatory medications, physiotherapy, manual therapy, and electrical stimulation. Intra-articular corticosteroid injections can provide significant pain relief. \\n\\n5. **Clinical Guidelines**: Korean clinical practice guidelines recommend non-surgical treatments, emphasizing pain management and physical therapy to improve shoulder mobility.\\n\\nIt is essential for patients and clinicians to adopt a collaborative approach to manage and eventually overcome the disability associated with frozen shoulder, despite the chronic nature of the condition in some cases.', additional_kwargs={}, response_metadata={}, name='researchTeam', id='2795b70a-e492-4025-89ef-9f26ceab7473')]}}\n",
      "---\n",
      "response\n",
      "{'next': 'writingTeam'}\n",
      "**********BELOW IS MY GOTO***************\n",
      "writingTeam\n",
      "{'TeamSupervisor': {'next': 'writingTeam'}}\n",
      "---\n",
      "response\n",
      "{'next': 'noteTaker'}\n",
      "**********BELOW IS MY GOTO***************\n",
      "noteTaker\n",
      "response\n",
      "{'next': 'docWriter'}\n",
      "**********BELOW IS MY GOTO***************\n",
      "docWriter\n",
      "response\n",
      "{'next': 'FINISH'}\n",
      "**********BELOW IS MY GOTO***************\n",
      "FINISH\n",
      "{'writingTeam': {'messages': [HumanMessage(content='The outline for the topic on frozen shoulder (adhesive capsulitis) has been saved in a document titled \"frozen_shoulder_outline.txt\".', additional_kwargs={}, response_metadata={}, name='writingTeam', id='22f42f9a-0153-4d5a-8209-04dfda670944')]}}\n",
      "---\n",
      "response\n",
      "{'next': 'writingTeam'}\n",
      "**********BELOW IS MY GOTO***************\n",
      "writingTeam\n",
      "{'TeamSupervisor': {'next': 'writingTeam'}}\n",
      "---\n",
      "response\n",
      "{'next': 'noteTaker'}\n",
      "**********BELOW IS MY GOTO***************\n",
      "noteTaker\n",
      "response\n",
      "{'next': 'docWriter'}\n",
      "**********BELOW IS MY GOTO***************\n",
      "docWriter\n",
      "response\n",
      "{'next': 'FINISH'}\n",
      "**********BELOW IS MY GOTO***************\n",
      "FINISH\n",
      "{'writingTeam': {'messages': [HumanMessage(content='The outline for the topic on frozen shoulder (adhesive capsulitis) is as follows:\\n\\n1. **Introduction**\\n   - Definition of Frozen Shoulder (Adhesive Capsulitis)\\n   - Overview of Symptoms and Stages\\n\\n2. **Etiology & Risk Factors**\\n   - Unclear exact cause\\n   - Occurrence in diabetes and thyroid disorder patients\\n   - Risk factors: Prolonged shoulder immobilization, demographic risks (age, gender)\\n\\n3. **Symptoms**\\n   - Pain onset, especially at night\\n   - Progression to stiffness and limited range of motion\\n\\n4. **Diagnosis**\\n   - Clinical examination and patient history\\n   - Imaging (Ultrasound, MRI) as supplementary\\n\\n5. **Treatment**\\n   - Non-surgical interventions:\\n     - Analgesics and anti-inflammatory medications\\n     - Physiotherapy and manual therapy\\n     - Electrical stimulation\\n   - Use of intra-articular corticosteroid injections\\n\\n6. **Clinical Guidelines**\\n   - Emphasis on non-surgical treatments\\n   - Korean clinical practice guidelines focus\\n\\n7. **Management Approach**\\n   - Importance of collaborative approach between patient and clinician\\n   - Chronic nature of the condition', additional_kwargs={}, response_metadata={}, name='writingTeam', id='37d0e34a-9770-4693-84d9-67611ae2e358')]}}\n",
      "---\n",
      "response\n",
      "{'next': 'FINISH'}\n",
      "**********BELOW IS MY GOTO***************\n",
      "FINISH\n",
      "{'TeamSupervisor': {'next': '__end__'}}\n",
      "---\n"
     ]
    }
   ],
   "source": [
    "for s in super_app.stream(\n",
    "    {\n",
    "        \"messages\": [\n",
    "            (\"user\", \"Research frozen shoulder and write a brief report about them.\")\n",
    "        ],\n",
    "    },\n",
    "    {\"recursion_limit\": 20},\n",
    "):\n",
    "    print(s)\n",
    "    print(\"---\")"
   ]
  }
 ],
 "metadata": {
  "kernelspec": {
   "display_name": "Python 3",
   "language": "python",
   "name": "python3"
  },
  "language_info": {
   "codemirror_mode": {
    "name": "ipython",
    "version": 3
   },
   "file_extension": ".py",
   "mimetype": "text/x-python",
   "name": "python",
   "nbconvert_exporter": "python",
   "pygments_lexer": "ipython3",
   "version": "3.13.0"
  }
 },
 "nbformat": 4,
 "nbformat_minor": 5
}
