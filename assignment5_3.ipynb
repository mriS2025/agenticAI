{
 "cells": [
  {
   "cell_type": "code",
   "execution_count": null,
   "id": "e9a74168",
   "metadata": {},
   "outputs": [],
   "source": [
    "#1 weather tool\n",
    "from langchain.tools import tool\n",
    "from langchain_community.utilities import OpenWeatherMapAPIWrapper\n",
    "from dotenv import load_dotenv\n",
    "load_dotenv()\n",
    "import os\n",
    "\n",
    "class WeatherTool:\n",
    "    os.environ['OPENWEATHERMAP_API_KEY'] = os.getenv(\"OPENWEATHERMAP_API_KEY\")\n",
    "    @tool\n",
    "    def getWeather(city: str) ->str:\n",
    "        \"\"\"returns current weather for a city\"\"\"\n",
    "        weather = OpenWeatherMapAPIWrapper()\n",
    "        weather_data = weather.run(city)\n",
    "        return weather_data"
   ]
  },
  {
   "cell_type": "code",
   "execution_count": null,
   "id": "98d30e9c",
   "metadata": {},
   "outputs": [],
   "source": [
    "#2\n",
    "# #get lat long\n",
    "\n",
    "import requests\n",
    "from langchain.tools import tool\n",
    "from dotenv import load_dotenv\n",
    "load_dotenv()\n",
    "import os\n",
    "class LatLong:\n",
    "    def __init__(self):\n",
    "        self.url = 'https://api.geoapify.com/v1/geocode/search'\n",
    "        self.api_key=os.getenv(\"GEOAPI_KEY\")\n",
    "    print(\"inside latlong\")\n",
    "    @tool\n",
    "    def getLatitudeLongitude(self,city: str, country: str):\n",
    "        \"\"\"takes city and country as input paramter and returns dictionary with latitude and longitude of that input city in the input country\"\"\"\n",
    "        print(\"inside func lat long\")\n",
    "        params = dict(\n",
    "                        text=city,\n",
    "                        countrycode=country,\n",
    "                        apiKey=self.api_key\n",
    "                    )\n",
    "        resp = requests.get(url=self.url, params=params)\n",
    "        data = resp.json()\n",
    "        for feature in data.get(\"features\", []):\n",
    "            props = feature.get(\"properties\", {})\n",
    "            if props.get(\"result_type\", \"\").lower() == \"city\":\n",
    "                latitude = props.get(\"lat\")\n",
    "                longitude = props.get(\"lon\")\n",
    "                return{\n",
    "                    \"latitude\": latitude,\n",
    "                    \"longitude\": longitude\n",
    "\n",
    "                }\n",
    "        return {\"latitude\": None,\"longitude\": None}"
   ]
  },
  {
   "cell_type": "code",
   "execution_count": null,
   "id": "7ca11819",
   "metadata": {},
   "outputs": [],
   "source": [
    "#3\n",
    "#get attractions\n",
    "import requests\n",
    "from langchain.tools import tool\n",
    "from dotenv import load_dotenv\n",
    "from amadeus import Client, Location, ResponseError\n",
    "load_dotenv()\n",
    "import os\n",
    "class TouristAttractions:\n",
    "    def __init__(self):\n",
    "        print(\"inside tourist attractions\")\n",
    "        self.apiKey=os.getenv(\"AMADEUS_API_KEY\")\n",
    "        self.apiSecret=os.getenv(\"AMADEUS_API_SECRET\")\n",
    "    @tool\n",
    "    def getAttractions(self, longitude: float, latitude: float):\n",
    "        \"\"\"take latitude and longitude and returns tourist attractions\"\"\"\n",
    "        print(\"inside func tourist attractions\")\n",
    "        try:\n",
    "            print(self.apiKey)\n",
    "            amadeus = Client(\n",
    "                            client_id=self.apiKey,\n",
    "                            client_secret=self.apiSecret\n",
    "                        )\n",
    "            #print(amadeus)\n",
    "            #print(longitude)\n",
    "            response = amadeus.shopping.activities.get(longitude=longitude,latitude=latitude,radius=1)  \n",
    "            #print(response.data)\n",
    "            return response.data\n",
    "        except ResponseError as error:\n",
    "            #print(error)\n",
    "            return error"
   ]
  },
  {
   "cell_type": "code",
   "execution_count": null,
   "id": "d7030d48",
   "metadata": {},
   "outputs": [],
   "source": [
    "#4 create tools array\n",
    "from langchain.tools import Tool\n",
    "\n",
    "geo = LatLong()\n",
    "weatherTool = WeatherTool()\n",
    "touristAttraction = TouristAttractions()\n",
    "\n",
    "tools = [\n",
    "    Tool(\n",
    "        name=\"GetWeather\",\n",
    "        func=lambda input: weatherTool.getWeather(input.strip()),\n",
    "        description=\"Get weather given a city (e.g., 'Paris')\"\n",
    "    ),\n",
    "    Tool(\n",
    "        name=\"GetLatLong\",\n",
    "        func=lambda input: geo.getLatitudeLongitude(*[i.strip() for i in input.split(\",\")]),\n",
    "        description=\"Get latitude and longitude given 'city, countrycode' (e.g., 'Paris, FR')\"\n",
    "    ),\n",
    "    Tool(\n",
    "        name=\"GetTouristAttractions\",\n",
    "        func=lambda input: touristAttraction.getAttractions(*[float(i.strip()) for i in input.split(\",\")]),\n",
    "        description=\"Get tourist attractions given 'longitude, latitude' (e.g., '2.3522, 48.8566')\"\n",
    "    )\n",
    "]"
   ]
  },
  {
   "cell_type": "code",
   "execution_count": null,
   "id": "957f616b",
   "metadata": {},
   "outputs": [],
   "source": [
    "#5 use gemini model\n",
    "from dotenv import load_dotenv\n",
    "load_dotenv()\n",
    "import os\n",
    "os.environ['GOOGLE_API_KEY'] = os.getenv(\"GOOGLE_API_KEY\")\n",
    "\n",
    "from langchain_google_genai import ChatGoogleGenerativeAI\n",
    "llm=ChatGoogleGenerativeAI(model='gemini-1.5-flash')\n",
    "response=llm.invoke(\"hi\")\n",
    "print(response)"
   ]
  },
  {
   "cell_type": "code",
   "execution_count": null,
   "id": "1227e51e",
   "metadata": {},
   "outputs": [],
   "source": [
    "#6 bind model to tools\n",
    "llm_with_tools=llm.bind_tools(tools) "
   ]
  },
  {
   "cell_type": "code",
   "execution_count": null,
   "id": "f523a69a",
   "metadata": {},
   "outputs": [],
   "source": [
    "#7 create graph\n",
    "from langchain_core.messages import HumanMessage, SystemMessage\n",
    "from langgraph.graph import StateGraph,MessagesState,START,END"
   ]
  },
  {
   "cell_type": "code",
   "execution_count": null,
   "id": "c1acd077",
   "metadata": {},
   "outputs": [],
   "source": [
    "#8\n",
    "builder=StateGraph(MessagesState)"
   ]
  },
  {
   "cell_type": "code",
   "execution_count": null,
   "id": "52fe8fbe",
   "metadata": {},
   "outputs": [],
   "source": [
    "#9\n",
    "SYSTEM_PROMPT=\"You are a travel agent tasked with getting me current weather, latitude longitude and tourist attractions for passed city. Only use Tools provided to you to find tourist attractions for passed input city and country and create travel itineary.\""
   ]
  },
  {
   "cell_type": "code",
   "execution_count": null,
   "id": "07aa671f",
   "metadata": {},
   "outputs": [],
   "source": [
    "#10\n",
    "def travelAgent(state:MessagesState):\n",
    "    user_question=state[\"messages\"]\n",
    "    input_question=[SYSTEM_PROMPT]+user_question\n",
    "    response=llm_with_tools.invoke(input_question)\n",
    "    return {\n",
    "        \"messages\":[response]\n",
    "    }"
   ]
  },
  {
   "cell_type": "code",
   "execution_count": null,
   "id": "f0f0b4d0",
   "metadata": {},
   "outputs": [],
   "source": [
    "#11\n",
    "builder.add_node(\"llm_decision_step\",travelAgent)"
   ]
  },
  {
   "cell_type": "code",
   "execution_count": null,
   "id": "58174dff",
   "metadata": {},
   "outputs": [],
   "source": [
    "#12\n",
    "from langgraph.prebuilt import ToolNode\n",
    "builder.add_node(\"tools\",ToolNode(tools)) # to conver tools into langgraph tools use TollNode"
   ]
  },
  {
   "cell_type": "code",
   "execution_count": null,
   "id": "f1ff4148",
   "metadata": {},
   "outputs": [],
   "source": [
    "#13\n",
    "builder.add_edge(START,\"llm_decision_step\")"
   ]
  },
  {
   "cell_type": "code",
   "execution_count": null,
   "id": "33184cdb",
   "metadata": {},
   "outputs": [],
   "source": [
    "#14\n",
    "from langgraph.prebuilt import tools_condition\n",
    "\n",
    "builder.add_conditional_edges(\"llm_decision_step\",\n",
    "                        tools_condition)# for custom logic create router function else use this inbuilt function"
   ]
  },
  {
   "cell_type": "code",
   "execution_count": null,
   "id": "b4f25345",
   "metadata": {},
   "outputs": [],
   "source": [
    "#15\n",
    "builder.add_edge(\"tools\",\"llm_decision_step\")"
   ]
  },
  {
   "cell_type": "code",
   "execution_count": null,
   "id": "1e4b7a4c",
   "metadata": {},
   "outputs": [],
   "source": [
    "#16\n",
    "react_graph=builder.compile()"
   ]
  },
  {
   "cell_type": "code",
   "execution_count": null,
   "id": "773c5f73",
   "metadata": {},
   "outputs": [],
   "source": [
    "#17\n",
    "from IPython.display import Image, display\n",
    "display(Image(react_graph.get_graph().draw_mermaid_png()))"
   ]
  },
  {
   "cell_type": "code",
   "execution_count": null,
   "id": "507d4559",
   "metadata": {},
   "outputs": [],
   "source": [
    "#18\n",
    "message=[HumanMessage(content=\"give me weather for Atlanta in US?\")]"
   ]
  },
  {
   "cell_type": "code",
   "execution_count": null,
   "id": "eb446c43",
   "metadata": {},
   "outputs": [],
   "source": [
    "#19\n",
    "response=react_graph.invoke({\"messages\": message})"
   ]
  },
  {
   "cell_type": "code",
   "execution_count": null,
   "id": "68a52ddf",
   "metadata": {},
   "outputs": [],
   "source": [
    "#20\n",
    "print(response)"
   ]
  },
  {
   "cell_type": "code",
   "execution_count": null,
   "id": "7817b8c2",
   "metadata": {},
   "outputs": [],
   "source": [
    "#21\n",
    "response[\"messages\"][-1].content"
   ]
  },
  {
   "cell_type": "code",
   "execution_count": null,
   "id": "09e46178",
   "metadata": {},
   "outputs": [],
   "source": [
    "#22\n",
    "for m in response[\"messages\"]:\n",
    "    m.pretty_print()"
   ]
  },
  {
   "cell_type": "code",
   "execution_count": null,
   "id": "f2609263",
   "metadata": {},
   "outputs": [],
   "source": [
    "#23\n",
    "message=[HumanMessage(content=\"give me tourist attractions for longitude: -3.69170868 and latitude: 40.41436995 ?\")]"
   ]
  },
  {
   "cell_type": "code",
   "execution_count": null,
   "id": "34bd66d2",
   "metadata": {},
   "outputs": [],
   "source": [
    "#24\n",
    "response=react_graph.invoke({\"messages\": message})"
   ]
  },
  {
   "cell_type": "code",
   "execution_count": null,
   "id": "b9a5e1c5",
   "metadata": {},
   "outputs": [],
   "source": [
    "for m in response[\"messages\"]:\n",
    "    m.pretty_print()"
   ]
  }
 ],
 "metadata": {
  "language_info": {
   "name": "python"
  }
 },
 "nbformat": 4,
 "nbformat_minor": 5
}
